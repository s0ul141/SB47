{
 "cells": [
  {
   "cell_type": "code",
   "execution_count": null,
   "id": "4a6a0d1e",
   "metadata": {},
   "outputs": [],
   "source": [
    "a=[3,4,56,99]\n",
    "print (a)"
   ]
  },
  {
   "cell_type": "code",
   "execution_count": 4,
   "id": "7d509df5",
   "metadata": {},
   "outputs": [
    {
     "name": "stdout",
     "output_type": "stream",
     "text": [
      "enter list44,55,13,44\n",
      "11\n"
     ]
    }
   ],
   "source": [
    "a= input(\"enter list\")\n",
    "b\n",
    "l= len(a)\n",
    "print (l)"
   ]
  },
  {
   "cell_type": "code",
   "execution_count": 19,
   "id": "b85844fa",
   "metadata": {},
   "outputs": [
    {
     "name": "stdout",
     "output_type": "stream",
     "text": [
      "enter number33\n",
      "enter number23\n",
      "enter number12\n",
      "enter number14\n",
      "[33, 23, 12, 14]\n",
      "[12, 14]\n",
      "[33, 23]\n"
     ]
    }
   ],
   "source": [
    "#\n",
    "#using loop\n",
    "n=4\n",
    "l = []\n",
    "for i in range (0, n):\n",
    "    temp= int(input(\"enter number\"))\n",
    "    l.append(temp)\n",
    "print (l)\n",
    "even=[]\n",
    "odd=[]\n",
    "for i in range (0, n):\n",
    "    if(l[i]%2==0):\n",
    "        even.append(l[i])\n",
    "    else:\n",
    "        odd.append(l[i])\n",
    "        \n",
    "print(even)\n",
    "print(odd)"
   ]
  },
  {
   "cell_type": "code",
   "execution_count": 20,
   "id": "97883946",
   "metadata": {},
   "outputs": [
    {
     "name": "stdout",
     "output_type": "stream",
     "text": [
      "enter a list of number33,44,12,31\n",
      "[44, 12]\n",
      "[33, 31]\n"
     ]
    }
   ],
   "source": [
    "a= input(\"enter a list of number\")\n",
    "l= a.split(',')\n",
    "evenNos=[]\n",
    "oddNos=[]\n",
    "for i in range (0, len(l)):\n",
    "    temp = int(l[i])\n",
    "    if(temp%2==0):\n",
    "        evenNos.append(temp)\n",
    "    else:\n",
    "        oddNos.append(temp)\n",
    "        \n",
    "print(evenNos)\n",
    "print(oddNos)"
   ]
  },
  {
   "cell_type": "code",
   "execution_count": 37,
   "id": "1a872d89",
   "metadata": {},
   "outputs": [
    {
     "name": "stdout",
     "output_type": "stream",
     "text": [
      "enter number  13\n",
      "(2, 3, 5, 7, 11, 13)\n"
     ]
    }
   ],
   "source": [
    "list_prime=(2, )\n",
    "a = int(input(\"enter number  \"))\n",
    "if (a<=1):\n",
    "    print(\"invalid input\")\n",
    "else:\n",
    "    for i in range (3, int(a+1)):\n",
    "        for j in range (2, i):\n",
    "            if (i%j==0):\n",
    "                #print (\"not prime\")\n",
    "                break\n",
    "        else :\n",
    "            list_prime=list_prime+(i, )\n",
    "print(list_prime)"
   ]
  },
  {
   "cell_type": "code",
   "execution_count": 38,
   "id": "1d4f3497",
   "metadata": {},
   "outputs": [
    {
     "name": "stdout",
     "output_type": "stream",
     "text": [
      "enter alpha numeric :adasd123\n"
     ]
    },
    {
     "ename": "AttributeError",
     "evalue": "'list' object has no attribute 'isdigit'",
     "output_type": "error",
     "traceback": [
      "\u001b[1;31m---------------------------------------------------------------------------\u001b[0m",
      "\u001b[1;31mAttributeError\u001b[0m                            Traceback (most recent call last)",
      "\u001b[1;32mC:\\Users\\23MDT0~2\\AppData\\Local\\Temp/ipykernel_9644/2256819907.py\u001b[0m in \u001b[0;36m<module>\u001b[1;34m\u001b[0m\n\u001b[0;32m      3\u001b[0m \u001b[0mrev\u001b[0m \u001b[1;33m=\u001b[0m \u001b[1;34m\"\"\u001b[0m\u001b[1;33m\u001b[0m\u001b[1;33m\u001b[0m\u001b[0m\n\u001b[0;32m      4\u001b[0m \u001b[1;32mfor\u001b[0m \u001b[0mi\u001b[0m \u001b[1;32min\u001b[0m \u001b[0mrange\u001b[0m \u001b[1;33m(\u001b[0m\u001b[1;36m0\u001b[0m\u001b[1;33m,\u001b[0m \u001b[0ml\u001b[0m\u001b[1;33m)\u001b[0m\u001b[1;33m:\u001b[0m\u001b[1;33m\u001b[0m\u001b[1;33m\u001b[0m\u001b[0m\n\u001b[1;32m----> 5\u001b[1;33m     \u001b[1;32mif\u001b[0m \u001b[1;33m(\u001b[0m\u001b[0ms\u001b[0m\u001b[1;33m(\u001b[0m\u001b[1;33m[\u001b[0m\u001b[0mi\u001b[0m\u001b[1;33m]\u001b[0m\u001b[1;33m.\u001b[0m\u001b[0misdigit\u001b[0m\u001b[1;33m)\u001b[0m\u001b[1;33m==\u001b[0m \u001b[1;32mTrue\u001b[0m \u001b[1;33m)\u001b[0m\u001b[1;33m:\u001b[0m\u001b[1;33m\u001b[0m\u001b[1;33m\u001b[0m\u001b[0m\n\u001b[0m\u001b[0;32m      6\u001b[0m         \u001b[0mrev\u001b[0m\u001b[1;33m=\u001b[0m \u001b[0mrev\u001b[0m\u001b[1;33m+\u001b[0m \u001b[0ms\u001b[0m\u001b[1;33m[\u001b[0m\u001b[0mi\u001b[0m\u001b[1;33m]\u001b[0m\u001b[1;33m\u001b[0m\u001b[1;33m\u001b[0m\u001b[0m\n\u001b[0;32m      7\u001b[0m \u001b[0mprint\u001b[0m\u001b[1;33m(\u001b[0m\u001b[0mrev\u001b[0m\u001b[1;33m)\u001b[0m\u001b[1;33m\u001b[0m\u001b[1;33m\u001b[0m\u001b[0m\n",
      "\u001b[1;31mAttributeError\u001b[0m: 'list' object has no attribute 'isdigit'"
     ]
    }
   ],
   "source": [
    "s= input(\"enter alpha numeric :\")\n",
    "l = len(s)\n",
    "rev = \"\"\n",
    "for i in range (0, l):\n",
    "    if (s[i].isdigit== True ):\n",
    "        rev= rev+ s[i]\n",
    "print(rev)\n",
    "        \n",
    "        "
   ]
  },
  {
   "cell_type": "code",
   "execution_count": null,
   "id": "d84382bc",
   "metadata": {},
   "outputs": [],
   "source": [
    "a= \"skdd334\""
   ]
  },
  {
   "cell_type": "code",
   "execution_count": null,
   "id": "fa32e704",
   "metadata": {},
   "outputs": [],
   "source": []
  }
 ],
 "metadata": {
  "kernelspec": {
   "display_name": "Python 3 (ipykernel)",
   "language": "python",
   "name": "python3"
  },
  "language_info": {
   "codemirror_mode": {
    "name": "ipython",
    "version": 3
   },
   "file_extension": ".py",
   "mimetype": "text/x-python",
   "name": "python",
   "nbconvert_exporter": "python",
   "pygments_lexer": "ipython3",
   "version": "3.9.7"
  }
 },
 "nbformat": 4,
 "nbformat_minor": 5
}
