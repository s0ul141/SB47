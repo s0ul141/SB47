{
 "cells": [
  {
   "cell_type": "code",
   "execution_count": 2,
   "id": "6a45f852",
   "metadata": {},
   "outputs": [],
   "source": [
    "from collections import defaultdict\n",
    "from itertools import combinations\n",
    "\n",
    "def find_frequent_itemsets(transactions, min_support):\n",
    "    # Initialize a dictionary to count the occurrences of each itemset\n",
    "    itemset_counts = defaultdict(int)\n",
    "\n",
    "    # Count the occurrences of each itemset in the transactions\n",
    "    for transaction in transactions:\n",
    "        for i in range(1, len(transaction) + 1):\n",
    "            for itemset in combinations(transaction, i):\n",
    "                itemset_counts[frozenset(itemset)] += 1\n",
    "\n",
    "    # Filter the itemsets by the minimum support value\n",
    "    frequent_itemsets = [list(itemset) for itemset, count in itemset_counts.items() if count >= min_support]\n",
    "    max_length = max(len(itemset) for itemset in frequent_itemsets)\n",
    "\n",
    "    frequent_itemset=[]\n",
    "    for i in frequent_itemsets:\n",
    "        if (len(i)>=max_length):\n",
    "            frequent_itemset.append(i)\n",
    "    return frequent_itemset\n"
   ]
  },
  {
   "cell_type": "code",
   "execution_count": 11,
   "id": "30c03e04",
   "metadata": {},
   "outputs": [
    {
     "name": "stdout",
     "output_type": "stream",
     "text": [
      "The frequent itemsets are: [[2, 3, 5], [1, 3, 5]]\n"
     ]
    }
   ],
   "source": [
    "# Define the transactions\n",
    "transactions = [[1,3,4], [2,3,5], [1,2,3,5], [2,5], [1,3,5]]\n",
    "\n",
    "# Find the frequent itemsets with a minimum support value of 2\n",
    "frequent_itemsets = find_frequent_itemsets(transactions, 2)\n",
    "\n",
    "print(f\"The frequent itemsets are: {frequent_itemsets}\")\n"
   ]
  },
  {
   "cell_type": "code",
   "execution_count": 10,
   "id": "583f8b18",
   "metadata": {},
   "outputs": [
    {
     "name": "stdout",
     "output_type": "stream",
     "text": [
      "The frequent itemsets are: [['C', 'E', 'B'], ['E', 'C', 'A']]\n"
     ]
    }
   ],
   "source": [
    "# Define the transactions\n",
    "transactions = [['A','B','D'], ['B','C','E'], ['A','B','C','E'], ['B','E'], ['A','C','E']]\n",
    "\n",
    "# Find the frequent itemsets with a minimum support value of 2\n",
    "frequent_itemsets = find_frequent_itemsets(transactions, 2)\n",
    "\n",
    "print(f\"The frequent itemsets are: {frequent_itemsets}\")\n"
   ]
  }
 ],
 "metadata": {
  "kernelspec": {
   "display_name": "Python 3 (ipykernel)",
   "language": "python",
   "name": "python3"
  },
  "language_info": {
   "codemirror_mode": {
    "name": "ipython",
    "version": 3
   },
   "file_extension": ".py",
   "mimetype": "text/x-python",
   "name": "python",
   "nbconvert_exporter": "python",
   "pygments_lexer": "ipython3",
   "version": "3.11.4"
  }
 },
 "nbformat": 4,
 "nbformat_minor": 5
}
