{
 "cells": [
  {
   "cell_type": "markdown",
   "id": "49154949",
   "metadata": {},
   "source": [
    "[expression1 if <condition> else expression2 <condition>] "
   ]
  },
  {
   "cell_type": "code",
   "execution_count": 2,
   "id": "f1ba97b5",
   "metadata": {},
   "outputs": [
    {
     "name": "stdout",
     "output_type": "stream",
     "text": [
      "[1, 2, 3, 4, 5, 6, 7, 8, 9, 10]\n"
     ]
    }
   ],
   "source": [
    "s=[i for i in range(1, 11)]\n",
    "print(s)"
   ]
  },
  {
   "cell_type": "code",
   "execution_count": 1,
   "id": "7d1cf12e",
   "metadata": {},
   "outputs": [],
   "source": [
    "#List comprihension "
   ]
  },
  {
   "cell_type": "code",
   "execution_count": 2,
   "id": "4c6c1af9",
   "metadata": {},
   "outputs": [
    {
     "name": "stdout",
     "output_type": "stream",
     "text": [
      "[2, 4, 6, 8, 10]\n"
     ]
    }
   ],
   "source": [
    "es = [i for i in range(1, 11) if i%2==0]\n",
    "print(es)"
   ]
  },
  {
   "cell_type": "code",
   "execution_count": 7,
   "id": "46ec9597",
   "metadata": {},
   "outputs": [
    {
     "name": "stdout",
     "output_type": "stream",
     "text": [
      "[0, 1, 1, 2, 2, 3, 3, 4, 4, 5]\n"
     ]
    }
   ],
   "source": [
    "os = [i//2 for i in range(1, 11) ]\n",
    "print(os)"
   ]
  },
  {
   "cell_type": "code",
   "execution_count": 6,
   "id": "0b21620e",
   "metadata": {},
   "outputs": [
    {
     "name": "stdout",
     "output_type": "stream",
     "text": [
      "[1, 4, 9, 16, 25, 36, 49, 64, 81, 100]\n"
     ]
    }
   ],
   "source": [
    "o2 = [i**2 for i in range (1, 11)]\n",
    "print (o2)"
   ]
  },
  {
   "cell_type": "code",
   "execution_count": 8,
   "id": "5f2a961a",
   "metadata": {},
   "outputs": [
    {
     "name": "stdout",
     "output_type": "stream",
     "text": [
      "[1, 4, 3, 16, 5, 36, 7, 64, 9, 100]\n"
     ]
    }
   ],
   "source": [
    "even_sq_odd = [i**2 if i%2 == 0 else i for i in range (1, 11)]\n",
    "print(even_sq_odd)"
   ]
  },
  {
   "cell_type": "code",
   "execution_count": 10,
   "id": "1aabc59f",
   "metadata": {},
   "outputs": [
    {
     "name": "stdout",
     "output_type": "stream",
     "text": [
      "a/5\n"
     ]
    }
   ],
   "source": [
    "a= 10\n",
    "print (\"a<5\") if (a<5) else print(\"a=5\")\\\n",
    "if a == 5 else print (\"a/5\")"
   ]
  },
  {
   "cell_type": "code",
   "execution_count": 15,
   "id": "cb0b55fc",
   "metadata": {},
   "outputs": [
    {
     "name": "stdout",
     "output_type": "stream",
     "text": [
      "[[1, 2, 3, 4], [2, 3, 4, 5], [5, 6, 7, 8]]\n"
     ]
    }
   ],
   "source": [
    "l=[]\n",
    "for i in range(0, 3):\n",
    "    l.append ([])\n",
    "    for j in range (1, 5):\n",
    "        l[i].append(i*i+j)     \n",
    "print(l)"
   ]
  },
  {
   "cell_type": "code",
   "execution_count": 17,
   "id": "b8dcff84",
   "metadata": {},
   "outputs": [
    {
     "name": "stdout",
     "output_type": "stream",
     "text": [
      "[[1, 5, 9], [2, 6, 10], [3, 7, 11], [4, 8, 12]]\n"
     ]
    }
   ],
   "source": [
    "l=[]\n",
    "for i in range(4):\n",
    "    l.append ([])\n",
    "    for j in range (3):\n",
    "        l[i].append((i+1)+(4*j))     \n",
    "print(l)"
   ]
  },
  {
   "cell_type": "code",
   "execution_count": 19,
   "id": "b3aca911",
   "metadata": {},
   "outputs": [
    {
     "name": "stdout",
     "output_type": "stream",
     "text": [
      "[[1, 5, 9], [2, 6, 10], [3, 7, 11], [4, 8, 12]]\n"
     ]
    }
   ],
   "source": [
    "#m= [[expression of j] of i]\n",
    "\n",
    "m = [[(i+1)+(4*j) for j in range(3)] for i in range(4)]\n",
    "print(m)"
   ]
  },
  {
   "cell_type": "code",
   "execution_count": 20,
   "id": "f63f8c73",
   "metadata": {},
   "outputs": [
    {
     "name": "stdout",
     "output_type": "stream",
     "text": [
      "[[[0, 1, 2, 3], [1, 2, 3, 4], [2, 3, 4, 5], [3, 4, 5, 6]], [[1, 2, 3, 4], [2, 3, 4, 5], [3, 4, 5, 6], [4, 5, 6, 7]], [[2, 3, 4, 5], [3, 4, 5, 6], [4, 5, 6, 7], [5, 6, 7, 8]], [[3, 4, 5, 6], [4, 5, 6, 7], [5, 6, 7, 8], [6, 7, 8, 9]]]\n"
     ]
    }
   ],
   "source": [
    "#d3=[[[expression for k] for j]for i]\n",
    "\n",
    "d3 = [[[(i+j+k)for k in range(4)] for j in range(4)] for i in range(4)]\n",
    "print(d3)"
   ]
  }
 ],
 "metadata": {
  "kernelspec": {
   "display_name": "Python 3 (ipykernel)",
   "language": "python",
   "name": "python3"
  },
  "language_info": {
   "codemirror_mode": {
    "name": "ipython",
    "version": 3
   },
   "file_extension": ".py",
   "mimetype": "text/x-python",
   "name": "python",
   "nbconvert_exporter": "python",
   "pygments_lexer": "ipython3",
   "version": "3.11.4"
  }
 },
 "nbformat": 4,
 "nbformat_minor": 5
}
