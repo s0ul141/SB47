{
 "cells": [
  {
   "cell_type": "markdown",
   "id": "faa6e9be",
   "metadata": {},
   "source": [
    "// -> interger part only :))\n"
   ]
  },
  {
   "cell_type": "code",
   "execution_count": 1,
   "id": "dc7c9f3f",
   "metadata": {},
   "outputs": [
    {
     "data": {
      "text/plain": [
       "0.0"
      ]
     },
     "execution_count": 1,
     "metadata": {},
     "output_type": "execute_result"
    }
   ],
   "source": [
    "2.4//2.5"
   ]
  },
  {
   "cell_type": "code",
   "execution_count": 5,
   "id": "665d19b8",
   "metadata": {},
   "outputs": [
    {
     "data": {
      "text/plain": [
       "2417851639229258349412352"
      ]
     },
     "execution_count": 5,
     "metadata": {},
     "output_type": "execute_result"
    }
   ],
   "source": [
    "# ** it works from right to left \n",
    "2**3**4\n"
   ]
  },
  {
   "cell_type": "code",
   "execution_count": 7,
   "id": "c08d853a",
   "metadata": {},
   "outputs": [
    {
     "data": {
      "text/plain": [
       "2417851639229258349412352"
      ]
     },
     "execution_count": 7,
     "metadata": {},
     "output_type": "execute_result"
    }
   ],
   "source": [
    "#C^b^a\n",
    "2**(3**4)"
   ]
  },
  {
   "cell_type": "code",
   "execution_count": 13,
   "id": "cee0f639",
   "metadata": {},
   "outputs": [],
   "source": [
    "b=(2**3)**4"
   ]
  },
  {
   "cell_type": "code",
   "execution_count": 15,
   "id": "1995ff8b",
   "metadata": {},
   "outputs": [],
   "source": [
    "c=2-4*3%2"
   ]
  },
  {
   "cell_type": "code",
   "execution_count": 17,
   "id": "ffde72b7",
   "metadata": {},
   "outputs": [
    {
     "data": {
      "text/plain": [
       "(-9+19j)"
      ]
     },
     "execution_count": 17,
     "metadata": {},
     "output_type": "execute_result"
    }
   ],
   "source": [
    "a=2+3j\n",
    "d=3+5j\n",
    "type (a)\n",
    "a*d"
   ]
  },
  {
   "cell_type": "code",
   "execution_count": 18,
   "id": "f865345f",
   "metadata": {},
   "outputs": [
    {
     "data": {
      "text/plain": [
       "3.0"
      ]
     },
     "execution_count": 18,
     "metadata": {},
     "output_type": "execute_result"
    }
   ],
   "source": [
    "a.imag"
   ]
  },
  {
   "cell_type": "code",
   "execution_count": 19,
   "id": "d2ca75f5",
   "metadata": {},
   "outputs": [
    {
     "data": {
      "text/plain": [
       "2.0"
      ]
     },
     "execution_count": 19,
     "metadata": {},
     "output_type": "execute_result"
    }
   ],
   "source": [
    "a.real"
   ]
  },
  {
   "cell_type": "code",
   "execution_count": 21,
   "id": "0ee07d29",
   "metadata": {},
   "outputs": [
    {
     "data": {
      "text/plain": [
       "(2-3j)"
      ]
     },
     "execution_count": 21,
     "metadata": {},
     "output_type": "execute_result"
    }
   ],
   "source": [
    "a.conjugate()#complex point"
   ]
  },
  {
   "cell_type": "code",
   "execution_count": 24,
   "id": "7326866e",
   "metadata": {},
   "outputs": [
    {
     "data": {
      "text/plain": [
       "False"
      ]
     },
     "execution_count": 24,
     "metadata": {},
     "output_type": "execute_result"
    }
   ],
   "source": [
    "a=0\n",
    "bool(a)"
   ]
  },
  {
   "cell_type": "code",
   "execution_count": 25,
   "id": "74b1113b",
   "metadata": {},
   "outputs": [],
   "source": [
    "a= \"helloworlds\""
   ]
  },
  {
   "cell_type": "code",
   "execution_count": 32,
   "id": "e66423de",
   "metadata": {},
   "outputs": [
    {
     "data": {
      "text/plain": [
       "'hlool'"
      ]
     },
     "execution_count": 32,
     "metadata": {},
     "output_type": "execute_result"
    }
   ],
   "source": [
    "a[0:9:2] #going forward starting: ending: steps"
   ]
  },
  {
   "cell_type": "code",
   "execution_count": 33,
   "id": "a0bbaade",
   "metadata": {},
   "outputs": [
    {
     "data": {
      "text/plain": [
       "'wol'"
      ]
     },
     "execution_count": 33,
     "metadata": {},
     "output_type": "execute_result"
    }
   ],
   "source": [
    "a[5:2:-1] #reverse"
   ]
  },
  {
   "cell_type": "code",
   "execution_count": 34,
   "id": "13933510",
   "metadata": {},
   "outputs": [
    {
     "data": {
      "text/plain": [
       "'sdlrowolleh'"
      ]
     },
     "execution_count": 34,
     "metadata": {},
     "output_type": "execute_result"
    }
   ],
   "source": [
    "a[::-1]"
   ]
  },
  {
   "cell_type": "code",
   "execution_count": 36,
   "id": "ca9aa8d3",
   "metadata": {},
   "outputs": [],
   "source": [
    "b= \"rous utsud\""
   ]
  },
  {
   "cell_type": "code",
   "execution_count": 37,
   "id": "eb15a893",
   "metadata": {},
   "outputs": [
    {
     "data": {
      "text/plain": [
       "'dustu suor'"
      ]
     },
     "execution_count": 37,
     "metadata": {},
     "output_type": "execute_result"
    }
   ],
   "source": [
    "b[::-1]"
   ]
  },
  {
   "cell_type": "code",
   "execution_count": 39,
   "id": "e2057f81",
   "metadata": {},
   "outputs": [
    {
     "data": {
      "text/plain": [
       "'Rous Utsud'"
      ]
     },
     "execution_count": 39,
     "metadata": {},
     "output_type": "execute_result"
    }
   ],
   "source": [
    "b.title()"
   ]
  },
  {
   "cell_type": "code",
   "execution_count": 40,
   "id": "1daf7cad",
   "metadata": {},
   "outputs": [
    {
     "data": {
      "text/plain": [
       "'ROUS UTSUD'"
      ]
     },
     "execution_count": 40,
     "metadata": {},
     "output_type": "execute_result"
    }
   ],
   "source": [
    "b.swapcase()"
   ]
  },
  {
   "cell_type": "code",
   "execution_count": 41,
   "id": "0cbcd3fb",
   "metadata": {},
   "outputs": [
    {
     "data": {
      "text/plain": [
       "'rous utsud'"
      ]
     },
     "execution_count": 41,
     "metadata": {},
     "output_type": "execute_result"
    }
   ],
   "source": [
    "b.strip()"
   ]
  },
  {
   "cell_type": "code",
   "execution_count": 42,
   "id": "b8800e98",
   "metadata": {},
   "outputs": [
    {
     "data": {
      "text/plain": [
       "10"
      ]
     },
     "execution_count": 42,
     "metadata": {},
     "output_type": "execute_result"
    }
   ],
   "source": [
    "len(b)"
   ]
  },
  {
   "cell_type": "code",
   "execution_count": 43,
   "id": "061da9da",
   "metadata": {},
   "outputs": [
    {
     "data": {
      "text/plain": [
       "['ro', 's ', 'ts', 'd']"
      ]
     },
     "execution_count": 43,
     "metadata": {},
     "output_type": "execute_result"
    }
   ],
   "source": [
    "b.split(\"u\")"
   ]
  },
  {
   "cell_type": "code",
   "execution_count": 46,
   "id": "dc0ad466",
   "metadata": {},
   "outputs": [
    {
     "data": {
      "text/plain": [
       "1"
      ]
     },
     "execution_count": 46,
     "metadata": {},
     "output_type": "execute_result"
    }
   ],
   "source": [
    "b.count(\"su\")"
   ]
  },
  {
   "cell_type": "code",
   "execution_count": 47,
   "id": "bd731134",
   "metadata": {},
   "outputs": [
    {
     "data": {
      "text/plain": [
       "'roxs xtsxd'"
      ]
     },
     "execution_count": 47,
     "metadata": {},
     "output_type": "execute_result"
    }
   ],
   "source": [
    "b.replace(\"u\", \"x\")"
   ]
  },
  {
   "cell_type": "code",
   "execution_count": 71,
   "id": "cc8e4ddc",
   "metadata": {},
   "outputs": [],
   "source": [
    "k=\"hey there dellailahh i am thousand miles away\""
   ]
  },
  {
   "cell_type": "code",
   "execution_count": 51,
   "id": "c9282e73",
   "metadata": {},
   "outputs": [
    {
     "data": {
      "text/plain": [
       "15"
      ]
     },
     "execution_count": 51,
     "metadata": {},
     "output_type": "execute_result"
    }
   ],
   "source": [
    "k.strip().find(\"i\")"
   ]
  },
  {
   "cell_type": "markdown",
   "id": "247db0c2",
   "metadata": {},
   "source": [
    "\"abc\".join(\"ts\")"
   ]
  },
  {
   "cell_type": "code",
   "execution_count": 72,
   "id": "b42d55ca",
   "metadata": {},
   "outputs": [
    {
     "data": {
      "text/plain": [
       "False"
      ]
     },
     "execution_count": 72,
     "metadata": {},
     "output_type": "execute_result"
    }
   ],
   "source": [
    "k.isalpha()"
   ]
  }
 ],
 "metadata": {
  "kernelspec": {
   "display_name": "Python 3 (ipykernel)",
   "language": "python",
   "name": "python3"
  },
  "language_info": {
   "codemirror_mode": {
    "name": "ipython",
    "version": 3
   },
   "file_extension": ".py",
   "mimetype": "text/x-python",
   "name": "python",
   "nbconvert_exporter": "python",
   "pygments_lexer": "ipython3",
   "version": "3.9.7"
  }
 },
 "nbformat": 4,
 "nbformat_minor": 5
}
