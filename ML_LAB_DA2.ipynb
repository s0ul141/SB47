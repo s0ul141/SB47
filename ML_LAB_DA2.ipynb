{
 "cells": [
  {
   "cell_type": "markdown",
   "id": "9ef9d1ba",
   "metadata": {},
   "source": [
    "## Q.1"
   ]
  },
  {
   "cell_type": "code",
   "execution_count": 1,
   "id": "738a5992",
   "metadata": {},
   "outputs": [],
   "source": [
    "import numpy as np"
   ]
  },
  {
   "cell_type": "code",
   "execution_count": 6,
   "id": "4cb81f32",
   "metadata": {},
   "outputs": [],
   "source": [
    "def svmClassifier(support_vectors, targets):\n",
    "    # Convert the support vectors and targets to NumPy arrays\n",
    "    support_vectors = np.array(support_vectors)\n",
    "    targets = np.array(targets)\n",
    "\n",
    "    # Find the indices of positive and negative support vectors\n",
    "    pos_indices = np.where(targets == 1)[0]\n",
    "    neg_indices = np.where(targets == -1)[0]\n",
    "\n",
    "    # Calculate the weight vector and bias\n",
    "    weight_vector = np.sum(support_vectors[pos_indices], axis=0) \n",
    "    - np.sum(support_vectors[neg_indices], axis=0)\n",
    "    bias = np.sum(np.linalg.norm(support_vectors[pos_indices], axis=1)) \n",
    "    - np.sum(np.linalg.norm(support_vectors[neg_indices], axis=1))\n",
    "\n",
    "    # Normalize the weight vector\n",
    "    weight_vector /= np.linalg.norm(weight_vector)\n",
    "\n",
    "    # Construct the hyperplane equation\n",
    "    hyperplane_equation = f\"({weight_vector[0]})*x + ({weight_vector[1]})*y + ({bias}) = 0\"\n",
    "\n",
    "    return hyperplane_equation"
   ]
  },
  {
   "cell_type": "code",
   "execution_count": 3,
   "id": "dfaf8687",
   "metadata": {},
   "outputs": [
    {
     "name": "stdout",
     "output_type": "stream",
     "text": [
      "Enter the number of support vectors: 3\n",
      "Enter support vector 1 (x, y): 2.5,0\n",
      "Enter the target for support vector 1 (+1 or -1): 1\n",
      "Enter support vector 2 (x, y): 0,3.5\n",
      "Enter the target for support vector 2 (+1 or -1): 1\n",
      "Enter support vector 3 (x, y): 7.5,7.5\n",
      "Enter the target for support vector 3 (+1 or -1): -1\n"
     ]
    }
   ],
   "source": [
    "# User input for support vectors\n",
    "num_support_vectors = int(input(\"Enter the number of support vectors: \"))\n",
    "support_vectors = []\n",
    "targets = []\n",
    "\n",
    "for i in range(num_support_vectors):\n",
    "    vector = input(f\"Enter support vector {i+1} (x, y): \").split(\",\")\n",
    "    x, y = float(vector[0]), float(vector[1])\n",
    "    support_vectors.append((x, y))\n",
    "    target = int(input(f\"Enter the target for support vector {i+1} (+1 or -1): \"))\n",
    "    targets.append(target)"
   ]
  },
  {
   "cell_type": "code",
   "execution_count": 7,
   "id": "a4176b43",
   "metadata": {},
   "outputs": [
    {
     "name": "stdout",
     "output_type": "stream",
     "text": [
      "The equation of the hyperplane is: \n",
      " (0.5812381937190965)*x + (0.813733471206735)*y + (6.0) = 0\n"
     ]
    }
   ],
   "source": [
    "hyperplane_equation = svmClassifier(support_vectors, targets)\n",
    "print(f\"The equation of the hyperplane is: \\n {hyperplane_equation}\")"
   ]
  },
  {
   "cell_type": "markdown",
   "id": "dbeb3c51",
   "metadata": {},
   "source": [
    "## Q.2"
   ]
  },
  {
   "cell_type": "code",
   "execution_count": 1,
   "id": "5c452fd8",
   "metadata": {},
   "outputs": [],
   "source": [
    "import numpy as np\n",
    "import pandas as pd"
   ]
  },
  {
   "cell_type": "code",
   "execution_count": 27,
   "id": "5d317b41",
   "metadata": {},
   "outputs": [],
   "source": [
    "def normal_equation(X, y):\n",
    "    X = np.c_[np.ones(len(X)), X]  # Add a column of ones for the bias term\n",
    "    Xt_X = np.dot(X.T, X)\n",
    "    Xt_y = np.dot(X.T, y)\n",
    "    coefficients = np.linalg.solve(Xt_X, Xt_y)\n",
    "    coefficients = np.round(coefficients, 4)\n",
    "    return coefficients"
   ]
  },
  {
   "cell_type": "code",
   "execution_count": 15,
   "id": "388554f2",
   "metadata": {
    "scrolled": true
   },
   "outputs": [
    {
     "data": {
      "text/html": [
       "<div>\n",
       "<style scoped>\n",
       "    .dataframe tbody tr th:only-of-type {\n",
       "        vertical-align: middle;\n",
       "    }\n",
       "\n",
       "    .dataframe tbody tr th {\n",
       "        vertical-align: top;\n",
       "    }\n",
       "\n",
       "    .dataframe thead th {\n",
       "        text-align: right;\n",
       "    }\n",
       "</style>\n",
       "<table border=\"1\" class=\"dataframe\">\n",
       "  <thead>\n",
       "    <tr style=\"text-align: right;\">\n",
       "      <th></th>\n",
       "      <th>Nitrous Oxide</th>\n",
       "      <th>Humidity</th>\n",
       "      <th>Temp.</th>\n",
       "      <th>Pressure</th>\n",
       "    </tr>\n",
       "  </thead>\n",
       "  <tbody>\n",
       "    <tr>\n",
       "      <th>0</th>\n",
       "      <td>0.90</td>\n",
       "      <td>72.4</td>\n",
       "      <td>76.3</td>\n",
       "      <td>29.18</td>\n",
       "    </tr>\n",
       "    <tr>\n",
       "      <th>1</th>\n",
       "      <td>0.91</td>\n",
       "      <td>41.6</td>\n",
       "      <td>70.3</td>\n",
       "      <td>29.35</td>\n",
       "    </tr>\n",
       "    <tr>\n",
       "      <th>2</th>\n",
       "      <td>0.96</td>\n",
       "      <td>34.3</td>\n",
       "      <td>77.1</td>\n",
       "      <td>29.24</td>\n",
       "    </tr>\n",
       "    <tr>\n",
       "      <th>3</th>\n",
       "      <td>0.89</td>\n",
       "      <td>35.1</td>\n",
       "      <td>68.0</td>\n",
       "      <td>29.27</td>\n",
       "    </tr>\n",
       "    <tr>\n",
       "      <th>4</th>\n",
       "      <td>1.00</td>\n",
       "      <td>10.7</td>\n",
       "      <td>79.0</td>\n",
       "      <td>29.78</td>\n",
       "    </tr>\n",
       "    <tr>\n",
       "      <th>5</th>\n",
       "      <td>1.10</td>\n",
       "      <td>12.9</td>\n",
       "      <td>67.4</td>\n",
       "      <td>29.39</td>\n",
       "    </tr>\n",
       "    <tr>\n",
       "      <th>6</th>\n",
       "      <td>1.15</td>\n",
       "      <td>8.3</td>\n",
       "      <td>66.8</td>\n",
       "      <td>29.48</td>\n",
       "    </tr>\n",
       "    <tr>\n",
       "      <th>7</th>\n",
       "      <td>1.03</td>\n",
       "      <td>20.1</td>\n",
       "      <td>76.9</td>\n",
       "      <td>29.48</td>\n",
       "    </tr>\n",
       "    <tr>\n",
       "      <th>8</th>\n",
       "      <td>0.77</td>\n",
       "      <td>72.2</td>\n",
       "      <td>77.7</td>\n",
       "      <td>29.09</td>\n",
       "    </tr>\n",
       "    <tr>\n",
       "      <th>9</th>\n",
       "      <td>1.07</td>\n",
       "      <td>24.0</td>\n",
       "      <td>67.7</td>\n",
       "      <td>29.60</td>\n",
       "    </tr>\n",
       "    <tr>\n",
       "      <th>10</th>\n",
       "      <td>1.07</td>\n",
       "      <td>23.2</td>\n",
       "      <td>76.8</td>\n",
       "      <td>29.38</td>\n",
       "    </tr>\n",
       "    <tr>\n",
       "      <th>11</th>\n",
       "      <td>0.94</td>\n",
       "      <td>47.4</td>\n",
       "      <td>86.6</td>\n",
       "      <td>29.38</td>\n",
       "    </tr>\n",
       "    <tr>\n",
       "      <th>12</th>\n",
       "      <td>1.10</td>\n",
       "      <td>31.5</td>\n",
       "      <td>76.9</td>\n",
       "      <td>29.63</td>\n",
       "    </tr>\n",
       "    <tr>\n",
       "      <th>13</th>\n",
       "      <td>1.10</td>\n",
       "      <td>10.6</td>\n",
       "      <td>86.3</td>\n",
       "      <td>29.56</td>\n",
       "    </tr>\n",
       "    <tr>\n",
       "      <th>14</th>\n",
       "      <td>1.10</td>\n",
       "      <td>11.2</td>\n",
       "      <td>86.0</td>\n",
       "      <td>29.48</td>\n",
       "    </tr>\n",
       "    <tr>\n",
       "      <th>15</th>\n",
       "      <td>0.91</td>\n",
       "      <td>73.3</td>\n",
       "      <td>76.3</td>\n",
       "      <td>29.40</td>\n",
       "    </tr>\n",
       "    <tr>\n",
       "      <th>16</th>\n",
       "      <td>0.87</td>\n",
       "      <td>75.4</td>\n",
       "      <td>77.9</td>\n",
       "      <td>29.28</td>\n",
       "    </tr>\n",
       "    <tr>\n",
       "      <th>17</th>\n",
       "      <td>0.78</td>\n",
       "      <td>96.6</td>\n",
       "      <td>78.7</td>\n",
       "      <td>29.29</td>\n",
       "    </tr>\n",
       "    <tr>\n",
       "      <th>18</th>\n",
       "      <td>0.82</td>\n",
       "      <td>107.4</td>\n",
       "      <td>86.8</td>\n",
       "      <td>29.03</td>\n",
       "    </tr>\n",
       "    <tr>\n",
       "      <th>19</th>\n",
       "      <td>0.95</td>\n",
       "      <td>54.9</td>\n",
       "      <td>70.9</td>\n",
       "      <td>29.37</td>\n",
       "    </tr>\n",
       "  </tbody>\n",
       "</table>\n",
       "</div>"
      ],
      "text/plain": [
       "    Nitrous Oxide  Humidity  Temp.  Pressure\n",
       "0            0.90      72.4   76.3     29.18\n",
       "1            0.91      41.6   70.3     29.35\n",
       "2            0.96      34.3   77.1     29.24\n",
       "3            0.89      35.1   68.0     29.27\n",
       "4            1.00      10.7   79.0     29.78\n",
       "5            1.10      12.9   67.4     29.39\n",
       "6            1.15       8.3   66.8     29.48\n",
       "7            1.03      20.1   76.9     29.48\n",
       "8            0.77      72.2   77.7     29.09\n",
       "9            1.07      24.0   67.7     29.60\n",
       "10           1.07      23.2   76.8     29.38\n",
       "11           0.94      47.4   86.6     29.38\n",
       "12           1.10      31.5   76.9     29.63\n",
       "13           1.10      10.6   86.3     29.56\n",
       "14           1.10      11.2   86.0     29.48\n",
       "15           0.91      73.3   76.3     29.40\n",
       "16           0.87      75.4   77.9     29.28\n",
       "17           0.78      96.6   78.7     29.29\n",
       "18           0.82     107.4   86.8     29.03\n",
       "19           0.95      54.9   70.9     29.37"
      ]
     },
     "execution_count": 15,
     "metadata": {},
     "output_type": "execute_result"
    }
   ],
   "source": [
    "# Load the data\n",
    "data = pd.read_csv('Nitrous_Oxide.csv')\n",
    "data"
   ]
  },
  {
   "cell_type": "code",
   "execution_count": 12,
   "id": "695aaee6",
   "metadata": {},
   "outputs": [],
   "source": [
    "X = data[['Humidity', 'Temp.', 'Pressure']]\n",
    "y = data['Nitrous Oxide']"
   ]
  },
  {
   "cell_type": "code",
   "execution_count": 30,
   "id": "7278c78e",
   "metadata": {},
   "outputs": [
    {
     "name": "stdout",
     "output_type": "stream",
     "text": [
      "nitrous_oxide = -2.2292 + -0.0029 * humidity + 0.0005 * temperature + 0.1118 * pressure\n"
     ]
    }
   ],
   "source": [
    "# Compute the coefficients using the normal equation\n",
    "coefficients = normal_equation(X, y)\n",
    "print(f'nitrous_oxide = {coefficients[0]} + {coefficients[1]} * humidity + {coefficients[2]} * temperature + {coefficients[3]} * pressure')"
   ]
  },
  {
   "cell_type": "code",
   "execution_count": 31,
   "id": "852a2b0b",
   "metadata": {},
   "outputs": [
    {
     "name": "stdout",
     "output_type": "stream",
     "text": [
      "Enter Humidity Value :50\n",
      "Enter Temperature Value :76\n",
      "Enter Pressure Value :29.30\n",
      "\n",
      "Estimated Nitrous Oxide Emission: 0.9395 ppm\n"
     ]
    }
   ],
   "source": [
    "# Conditions for estimation\n",
    "humidity = float(input(\"Enter Humidity Value :\"))#50.0\n",
    "temperature = float(input(\"Enter Temperature Value :\"))#76.0\n",
    "pressure = float(input(\"Enter Pressure Value :\")) #29.30\n",
    "\n",
    "nitrous_oxide = coefficients[0] + coefficients[1] * humidity + coefficients[2] * temperature + coefficients[3] * pressure\n",
    "print(f\"\\nEstimated Nitrous Oxide Emission: {nitrous_oxide:.4f} ppm\")"
   ]
  }
 ],
 "metadata": {
  "kernelspec": {
   "display_name": "Python 3 (ipykernel)",
   "language": "python",
   "name": "python3"
  },
  "language_info": {
   "codemirror_mode": {
    "name": "ipython",
    "version": 3
   },
   "file_extension": ".py",
   "mimetype": "text/x-python",
   "name": "python",
   "nbconvert_exporter": "python",
   "pygments_lexer": "ipython3",
   "version": "3.11.4"
  }
 },
 "nbformat": 4,
 "nbformat_minor": 5
}
