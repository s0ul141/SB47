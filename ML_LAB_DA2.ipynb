{
 "cells": [
  {
   "cell_type": "markdown",
   "id": "9ef9d1ba",
   "metadata": {},
   "source": [
    "## Q.1"
   ]
  },
  {
   "cell_type": "code",
   "execution_count": 1,
   "id": "738a5992",
   "metadata": {},
   "outputs": [],
   "source": [
    "import numpy as np"
   ]
  },
  {
   "cell_type": "code",
   "execution_count": 6,
   "id": "4cb81f32",
   "metadata": {},
   "outputs": [],
   "source": [
    "def svmClassifier(support_vectors, targets):\n",
    "    # Convert the support vectors and targets to NumPy arrays\n",
    "    support_vectors = np.array(support_vectors)\n",
    "    targets = np.array(targets)\n",
    "\n",
    "    # Find the indices of positive and negative support vectors\n",
    "    pos_indices = np.where(targets == 1)[0]\n",
    "    neg_indices = np.where(targets == -1)[0]\n",
    "\n",
    "    # Calculate the weight vector and bias\n",
    "    weight_vector = np.sum(support_vectors[pos_indices], axis=0) \n",
    "    - np.sum(support_vectors[neg_indices], axis=0)\n",
    "    bias = np.sum(np.linalg.norm(support_vectors[pos_indices], axis=1)) \n",
    "    - np.sum(np.linalg.norm(support_vectors[neg_indices], axis=1))\n",
    "\n",
    "    # Normalize the weight vector\n",
    "    weight_vector /= np.linalg.norm(weight_vector)\n",
    "\n",
    "    # Construct the hyperplane equation\n",
    "    hyperplane_equation = f\"({weight_vector[0]})*x + ({weight_vector[1]})*y + ({bias}) = 0\"\n",
    "\n",
    "    return hyperplane_equation"
   ]
  },
  {
   "cell_type": "code",
   "execution_count": 3,
   "id": "dfaf8687",
   "metadata": {},
   "outputs": [
    {
     "name": "stdout",
     "output_type": "stream",
     "text": [
      "Enter the number of support vectors: 3\n",
      "Enter support vector 1 (x, y): 2.5,0\n",
      "Enter the target for support vector 1 (+1 or -1): 1\n",
      "Enter support vector 2 (x, y): 0,3.5\n",
      "Enter the target for support vector 2 (+1 or -1): 1\n",
      "Enter support vector 3 (x, y): 7.5,7.5\n",
      "Enter the target for support vector 3 (+1 or -1): -1\n"
     ]
    }
   ],
   "source": [
    "# User input for support vectors\n",
    "num_support_vectors = int(input(\"Enter the number of support vectors: \"))\n",
    "support_vectors = []\n",
    "targets = []\n",
    "\n",
    "for i in range(num_support_vectors):\n",
    "    vector = input(f\"Enter support vector {i+1} (x, y): \").split(\",\")\n",
    "    x, y = float(vector[0]), float(vector[1])\n",
    "    support_vectors.append((x, y))\n",
    "    target = int(input(f\"Enter the target for support vector {i+1} (+1 or -1): \"))\n",
    "    targets.append(target)"
   ]
  },
  {
   "cell_type": "code",
   "execution_count": 7,
   "id": "a4176b43",
   "metadata": {},
   "outputs": [
    {
     "name": "stdout",
     "output_type": "stream",
     "text": [
      "The equation of the hyperplane is: \n",
      " (0.5812381937190965)*x + (0.813733471206735)*y + (6.0) = 0\n"
     ]
    }
   ],
   "source": [
    "hyperplane_equation = svmClassifier(support_vectors, targets)\n",
    "print(f\"The equation of the hyperplane is: \\n {hyperplane_equation}\")"
   ]
  },
  {
   "cell_type": "markdown",
   "id": "dbeb3c51",
   "metadata": {},
   "source": [
    "## Q.2"
   ]
  },
  {
   "cell_type": "code",
   "execution_count": 14,
   "id": "370acdec",
   "metadata": {},
   "outputs": [
    {
     "name": "stdout",
     "output_type": "stream",
     "text": [
      "[[ 72.4   76.3   29.18]\n",
      " [ 41.6   70.3   29.35]\n",
      " [ 34.3   77.1   29.24]\n",
      " [ 35.1   68.    29.27]\n",
      " [ 10.7   79.    29.78]\n",
      " [ 12.9   67.4   29.39]\n",
      " [  8.3   66.8   29.48]\n",
      " [ 20.1   76.9   29.48]\n",
      " [ 72.2   77.7   29.09]\n",
      " [ 24.    67.7   29.6 ]\n",
      " [ 23.2   76.8   29.38]\n",
      " [ 47.4   86.6   29.38]\n",
      " [ 31.5   76.9   29.63]\n",
      " [ 10.6   86.3   29.56]\n",
      " [ 11.2   86.    29.48]\n",
      " [ 73.3   76.3   29.4 ]\n",
      " [ 75.4   77.9   29.28]\n",
      " [ 96.6   78.7   29.29]\n",
      " [107.4   86.8   29.03]\n",
      " [ 54.9   70.9   29.37]]\n",
      "[0.9  0.91 0.96 0.89 1.   1.1  1.15 1.03 0.77 1.07 1.07 0.94 1.1  1.1\n",
      " 1.1  0.91 0.87 0.78 0.82 0.95]\n"
     ]
    }
   ],
   "source": [
    "import numpy as np\n",
    "from sklearn.linear_model import LinearRegression\n",
    "\n",
    "# Load the data\n",
    "data = np.genfromtxt('Nitrous_Oxide.csv', delimiter=',', skip_header=1)\n",
    "X = data[:, 1:]  # Features (humidity, temperature, pressure)\n",
    "y = data[:, 0]   # Target (nitrous oxide)\n",
    "print(X)\n",
    "print(y)"
   ]
  },
  {
   "cell_type": "code",
   "execution_count": 15,
   "id": "656b81c7",
   "metadata": {},
   "outputs": [
    {
     "name": "stdout",
     "output_type": "stream",
     "text": [
      "Linear Regression Model:\n",
      "Nitrous Oxide = -2.23 + -0.00 * Humidity + 0.00 * Temperature + 0.11 * Pressure\n"
     ]
    }
   ],
   "source": [
    "# Create the Linear Regression model\n",
    "model = LinearRegression()\n",
    "\n",
    "# Fit the model to the data\n",
    "model.fit(X, y)\n",
    "\n",
    "# Get the coefficients and intercept\n",
    "coefficients = model.coef_\n",
    "intercept = model.intercept_\n",
    "\n",
    "# Print the model equation\n",
    "print(\"Linear Regression Model:\")\n",
    "print(f\"Nitrous Oxide = {intercept:.2f} + {coefficients[0]:.2f} * Humidity + {coefficients[1]:.2f} * Temperature + {coefficients[2]:.2f} * Pressure\")"
   ]
  },
  {
   "cell_type": "code",
   "execution_count": 9,
   "id": "ea033b17",
   "metadata": {},
   "outputs": [
    {
     "name": "stdout",
     "output_type": "stream",
     "text": [
      "Enter Humidity Value :50\n",
      "Enter Temperature Value :76\n",
      "Enter Pressure Value :29.30\n",
      "\n",
      "Estimated Nitrous Oxide Emission: 0.94 ppm\n"
     ]
    }
   ],
   "source": [
    "# Conditions for estimation\n",
    "humidity = float(input(\"Enter Humidity Value :\"))#50.0\n",
    "temperature = float(input(\"Enter Temperature Value :\"))#76.0\n",
    "pressure = float(input(\"Enter Pressure Value :\")) #29.30\n",
    "\n",
    "# Estimate nitrous oxide emission\n",
    "nitrous_oxide = intercept + coefficients[0] * humidity + coefficients[1] * temperature + coefficients[2] * pressure\n",
    "\n",
    "print(f\"\\nEstimated Nitrous Oxide Emission: {nitrous_oxide:.2f} ppm\")"
   ]
  }
 ],
 "metadata": {
  "kernelspec": {
   "display_name": "Python 3 (ipykernel)",
   "language": "python",
   "name": "python3"
  },
  "language_info": {
   "codemirror_mode": {
    "name": "ipython",
    "version": 3
   },
   "file_extension": ".py",
   "mimetype": "text/x-python",
   "name": "python",
   "nbconvert_exporter": "python",
   "pygments_lexer": "ipython3",
   "version": "3.11.4"
  }
 },
 "nbformat": 4,
 "nbformat_minor": 5
}
