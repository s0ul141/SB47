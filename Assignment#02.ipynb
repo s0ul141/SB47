{
 "cells": [
  {
   "cell_type": "markdown",
   "id": "a0248377",
   "metadata": {},
   "source": [
    "Exercise 1. Write a Python function named ConvertToArray(str) which takes a string of numbers separated by commas and colon. \n",
    "The function should then convert this string into a array of numbers and return\n",
    "it to the user. For converting the string into array use the following rules:\n",
    "(i) The colon distinguishes the elements by row i.e., all the values before the colon should be placed in single\n",
    "row of the array.\n",
    "(ii) The comma distinguishes the elements by column i.e., all the values separated by comma will be placed in\n",
    "columns in the same row of the array.\"\"\"\n"
   ]
  },
  {
   "cell_type": "code",
   "execution_count": 1,
   "id": "b19cad7b",
   "metadata": {},
   "outputs": [],
   "source": [
    "def ConvertToArray(input_str):\n",
    "    mat=[]\n",
    "    row= input_str.split(\";\")\n",
    "    \n",
    "    for i in row:\n",
    "        if '.' in i:\n",
    "            col= [float(c) for c in i.split(',')]\n",
    "        else:\n",
    "            col= [int(c) for c in i.split(',')]\n",
    "        mat.append(col)\n",
    "    print (\"Array of Numbers :\")\n",
    "    for i in mat:\n",
    "        print (\"[\",*i,\"]\")"
   ]
  },
  {
   "cell_type": "code",
   "execution_count": 2,
   "id": "4e094b7e",
   "metadata": {},
   "outputs": [
    {
     "name": "stdout",
     "output_type": "stream",
     "text": [
      "Array of Numbers :\n",
      "[ 2 4 5 ]\n",
      "[ 5 7 1 ]\n",
      "[ 5 8 3 ]\n"
     ]
    }
   ],
   "source": [
    "a1= \"2,4,5;5,7,1;5,8,3\"\n",
    "ConvertToArray(a1)"
   ]
  },
  {
   "cell_type": "code",
   "execution_count": 3,
   "id": "fcc3da3b",
   "metadata": {},
   "outputs": [
    {
     "name": "stdout",
     "output_type": "stream",
     "text": [
      "Array of Numbers :\n",
      "[ 2.4 6.0 5.9 ]\n",
      "[ 9.8 7.7 9.0 ]\n",
      "[ 4.3 5.0 2.0 ]\n"
     ]
    }
   ],
   "source": [
    "a2= \"2.4,6.0,5.9;9.8,7.7,9.0;4.3,5.0,2.0\"\n",
    "ConvertToArray(a2)"
   ]
  },
  {
   "cell_type": "markdown",
   "id": "493ba4fb",
   "metadata": {},
   "source": [
    "Exercise 2. Write a function named ArraySize(array) which accepts a list of numbers and returns its\n",
    "dimension (i.e., number of rows and columns). For example, if the array = [1,2,3,4] then the output\n",
    "should be (1,4). If the array = [[1,2,3,4],[5,6,7,8]] then the output should be (2,4).\n",
    "Hint: You can use the len() function to obtain the number of elements."
   ]
  },
  {
   "cell_type": "code",
   "execution_count": 4,
   "id": "ab3e875b",
   "metadata": {},
   "outputs": [],
   "source": [
    "#function giving the dimensions \n",
    "\n",
    "def ArraySize(array):\n",
    "    flag = False\n",
    "    col=0\n",
    "    row=0\n",
    "    for i in array:\n",
    "        if isinstance(i, list):\n",
    "            flag = True\n",
    "            break \n",
    "    if flag: \n",
    "        row=len(array)\n",
    "        for i in array:\n",
    "            col=len(i)\n",
    "        return (row, col)\n",
    "    else:\n",
    "        row=1\n",
    "        col=len(array)\n",
    "        return (row, col)"
   ]
  },
  {
   "cell_type": "code",
   "execution_count": 5,
   "id": "fffd327a",
   "metadata": {},
   "outputs": [
    {
     "name": "stdout",
     "output_type": "stream",
     "text": [
      "the dimension is : (1, 4)\n"
     ]
    }
   ],
   "source": [
    "d1= [1,2,3,4]\n",
    "d_d1 =ArraySize(d1) \n",
    "print(\"the dimension is :\", d_d1)"
   ]
  },
  {
   "cell_type": "code",
   "execution_count": 6,
   "id": "ad45bec3",
   "metadata": {},
   "outputs": [
    {
     "name": "stdout",
     "output_type": "stream",
     "text": [
      "the dimension is : (2, 4)\n"
     ]
    }
   ],
   "source": [
    "d2=[[1,2,3,4], [5,6,7,8]]\n",
    "d_d2 =ArraySize(d2)\n",
    "print(\"the dimension is :\", d_d2)"
   ]
  },
  {
   "cell_type": "markdown",
   "id": "80414ca2",
   "metadata": {},
   "source": [
    "Exercise 3. Write a function ArrayOperations(array1,array2,operation) where the operation\n",
    "is either add, subtract and dotproduct. Then the function should perform the operations of addition,\n",
    "subtraction and element-wise multiplication respectively on the arrays array1 and array2.\n",
    "Remark: Please note that, for the specified operations to be performed both arrays should have same dimension\n",
    "and to check this, you can use the above function ArraySize."
   ]
  },
  {
   "cell_type": "code",
   "execution_count": 7,
   "id": "047e96db",
   "metadata": {},
   "outputs": [],
   "source": [
    "def ArrayOperations(a1, a2, op):\n",
    "    \n",
    "    d_a1=ArraySize(a1)\n",
    "    d_a2=ArraySize(a2)\n",
    "    #checking Dimensions of the array\n",
    "    if d_a1 == d_a2 :\n",
    "        r=len(a1)\n",
    "        for i in a1:\n",
    "            c=len(i)\n",
    "            \n",
    "        #Addition    \n",
    "        if op == \"add\":\n",
    "            add=[]\n",
    "            for i in range(r):\n",
    "                add.append([])\n",
    "                for j in range(c):\n",
    "                    add[i].append(a1[i][j]+a2[i][j])\n",
    "            print (\"Addition is:\")\n",
    "            for i in add:\n",
    "                print (\"[\", *i, \"]\")\n",
    "\n",
    "        #Subtract\n",
    "        elif op == \"sub\":\n",
    "            sub=[]\n",
    "            for i in a1:\n",
    "                c=len(i)\n",
    "            for i in range(r):\n",
    "                sub.append([])\n",
    "                for j in range(c):\n",
    "                    sub[i].append(a1[i][j]-a2[i][j])\n",
    "            print (\"Subtraction is:\")\n",
    "            for i in sub:\n",
    "                print (\"[\", *i, \"]\")\n",
    "                \n",
    "        #Dotproduct\n",
    "        elif op == \"dot\":\n",
    "            #creating the result matrix\n",
    "            result=[]\n",
    "            for i in range(len(a1)):\n",
    "                result.append([])\n",
    "                for j in range(len(a1[i])):\n",
    "                    result[i].append(0)\n",
    "            for i in range(len(a1)):\n",
    "                for j in range(len(a2[0])):\n",
    "                    for k in range(len(a2)):\n",
    "                        result[i][j] += a1[i][k] * a2[k][j]\n",
    "            \n",
    "            print(\"Dotproduct is:\")\n",
    "            for i in result:\n",
    "                print(i) \n",
    "        else:\n",
    "            print(\"Input array with proper dimension UwU\")\n"
   ]
  },
  {
   "cell_type": "code",
   "execution_count": 8,
   "id": "81900a47",
   "metadata": {},
   "outputs": [
    {
     "name": "stdout",
     "output_type": "stream",
     "text": [
      "Addition is:\n",
      "[ 6 8 17 ]\n",
      "[ 6 11 4 ]\n",
      "[ 7 12 2 ]\n"
     ]
    }
   ],
   "source": [
    "a1=[[1,2,8],[2,4,3],[4,7,1]]\n",
    "a2=[[5,6,9],[4,7,1],[3,5,1]]\n",
    "\n",
    "op=\"add\"\n",
    "ArrayOperations(a1, a2, op)"
   ]
  },
  {
   "cell_type": "code",
   "execution_count": 9,
   "id": "c1f8e55e",
   "metadata": {},
   "outputs": [
    {
     "name": "stdout",
     "output_type": "stream",
     "text": [
      "Dotproduct is:\n",
      "[37, 60, 19]\n",
      "[35, 55, 25]\n",
      "[51, 78, 44]\n"
     ]
    }
   ],
   "source": [
    "op=\"dot\"\n",
    "ArrayOperations(a1, a2, op)"
   ]
  },
  {
   "cell_type": "code",
   "execution_count": 10,
   "id": "630dd80a",
   "metadata": {},
   "outputs": [
    {
     "name": "stdout",
     "output_type": "stream",
     "text": [
      "Subtraction is:\n",
      "[ -4 -4 -1 ]\n",
      "[ -2 -3 2 ]\n",
      "[ 1 2 0 ]\n"
     ]
    }
   ],
   "source": [
    "op=\"sub\"\n",
    "ArrayOperations(a1, a2, op)"
   ]
  },
  {
   "cell_type": "code",
   "execution_count": 12,
   "id": "71159e48",
   "metadata": {},
   "outputs": [
    {
     "name": "stdout",
     "output_type": "stream",
     "text": [
      "Input array with proper dimension UwU\n"
     ]
    }
   ],
   "source": [
    "op=\"lol\"\n",
    "ArrayOperations(a1, a2, op)"
   ]
  }
 ],
 "metadata": {
  "kernelspec": {
   "display_name": "Python 3 (ipykernel)",
   "language": "python",
   "name": "python3"
  },
  "language_info": {
   "codemirror_mode": {
    "name": "ipython",
    "version": 3
   },
   "file_extension": ".py",
   "mimetype": "text/x-python",
   "name": "python",
   "nbconvert_exporter": "python",
   "pygments_lexer": "ipython3",
   "version": "3.11.4"
  }
 },
 "nbformat": 4,
 "nbformat_minor": 5
}
