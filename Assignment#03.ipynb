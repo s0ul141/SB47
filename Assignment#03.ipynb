{
 "cells": [
  {
   "cell_type": "markdown",
   "id": "1133dcb0",
   "metadata": {},
   "source": [
    "Q1. Write a function ‘factorial(n)’ to find the factorial of a given positive integer n. Using this\n",
    "function, write a function ‘binom(n,k)’ to find the binomial coefficient (n/k) = n!/(k!(n-k)!)"
   ]
  },
  {
   "cell_type": "code",
   "execution_count": 1,
   "id": "314702b4",
   "metadata": {},
   "outputs": [],
   "source": [
    "def factorial(n): #function defination\n",
    "    if n == 0:\n",
    "        return 1\n",
    "    else:\n",
    "        return n * factorial(n-1)\n",
    "\n",
    "def binom(n, k):\n",
    "    return factorial(n) / (factorial(k) * factorial(n - k))\n"
   ]
  },
  {
   "cell_type": "code",
   "execution_count": 5,
   "id": "bcf2addf",
   "metadata": {},
   "outputs": [
    {
     "name": "stdout",
     "output_type": "stream",
     "text": [
      "The binomial coefficient is  35.0\n"
     ]
    }
   ],
   "source": [
    "#fucntion calling\n",
    "x= binom(7,4)\n",
    "print (\"The binomial coefficient is \", x)"
   ]
  },
  {
   "cell_type": "markdown",
   "id": "9066d2aa",
   "metadata": {},
   "source": [
    "Q2. Find three functions scripts named ‘equalFirstText(str1, str2, n)’,\n",
    "‘equalLastText(str1,str2,n)’ and ‘equalFirstLastText(stt1,str2,n)’. These three functions checks whether in two given strings\n",
    "(i) are the first ‘n’ characters the same or not,\n",
    "(ii) are the last ‘n’ characters the same or not, and\n",
    "(iii) are the first ‘n’ and last ‘n’ characters identical or not?"
   ]
  },
  {
   "cell_type": "code",
   "execution_count": 124,
   "id": "3b4084e7",
   "metadata": {},
   "outputs": [],
   "source": [
    "def equalFirstText(str1, str2, n): #function 1\n",
    "    l=0\n",
    "    if str1[:n].lower() == str2[:n].lower() :\n",
    "        l=len(str1[:n])\n",
    "    if l==n:\n",
    "        print(\"Yes, the first\",n,\"characters are same.\")\n",
    "    else:\n",
    "        print(\"No, the first\",n,\"characters are not same.\")\n",
    "        \n",
    "\n",
    "def equalLastText(str1, str2, n): #function 2\n",
    "    l=0\n",
    "    if str1[-n:].lower() == str2[-n:].lower():\n",
    "        l=len(str1[-n:])\n",
    "    if l==n:\n",
    "        print(\"Yes, the last\",n,\"characters are same.\")\n",
    "    else:\n",
    "        print(\"No, the last\",n,\"characters are not same.\")\n",
    "\n",
    "\n",
    "def equalFirstLastText(str1, str2, n): #function 3\n",
    "    l=0\n",
    "    if str1[:n] == str2[:n] and str1[-n:] == str2[-n:]:\n",
    "        l=len(str1[-n:])\n",
    "    if l==n:\n",
    "        print(\"Yes, the frist\",n,\"and last\",n,\"are same.\")\n",
    "    else:\n",
    "        print(\"No, the first\",n,\"and last\",n,\"are not same.\")\n",
    "        \n"
   ]
  },
  {
   "cell_type": "code",
   "execution_count": 125,
   "id": "0b654898",
   "metadata": {},
   "outputs": [
    {
     "name": "stdout",
     "output_type": "stream",
     "text": [
      "Yes, the first 4 characters are same.\n",
      "No, the first 3 characters are not same.\n",
      "No, the last 3 characters are not same.\n",
      "Yes, the last 2 characters are same.\n",
      "No, the first 2 and last 2 are not same.\n",
      "No, the first 3 and last 3 are not same.\n"
     ]
    }
   ],
   "source": [
    "#calling fn 1\n",
    "equalFirstText(\"Soumik\",\"soumya\",4)\n",
    "equalFirstText(\"Goutami\",\"soumya\",3)\n",
    "#calling fn 2\n",
    "equalLastText(\"GoutaMI\",\"soumya\",3)\n",
    "equalLastText(\"souMIK\",\"rittik\",2)\n",
    "#calling fn 3\n",
    "equalFirstLastText(\"Soutami\",\"soasdami\",2)\n",
    "equalFirstLastText(\"Goutami\",\"Gosoumya\",3)"
   ]
  },
  {
   "cell_type": "markdown",
   "id": "b9a91777",
   "metadata": {},
   "source": [
    "Q3. Write a Python program for the following:\n",
    "    a) Generate random matrices A4×5, B5×3 and C3×4 of your choice.\n",
    "    b) Compute the matrices G = AB, D = BC, E = D + AT, F = ABC and print them.\n",
    "    c) Compute the inverse of matrix and eigenvalues and eigenvectors of F.\n",
    "    d) Find the square root of the elements of the matrix A and print it.\n",
    "    e) Find the natural logarithm of elements of the matrix BC and print it.\n",
    "    f) Extract the sub matrix from A, which contains the elements from second row and third row and print it.\n",
    "    g) Extract at least three sub matrices from B, of your choice and print them.\n",
    "    h) Generate a random matrix R5×5 and a normalized random matrix S5×5 and calculate the matrices BCA+\n",
    "        R and BCA − S and print them.\n",
    "    i) Find the element by element multiplication and division of the matrices BC and AT"
   ]
  },
  {
   "cell_type": "code",
   "execution_count": 127,
   "id": "2cfa96ac",
   "metadata": {},
   "outputs": [],
   "source": [
    "import numpy as np"
   ]
  },
  {
   "cell_type": "code",
   "execution_count": 178,
   "id": "706db4df",
   "metadata": {},
   "outputs": [
    {
     "name": "stdout",
     "output_type": "stream",
     "text": [
      "Matrix A (4x5):\n",
      " [[1 5 9 7 9]\n",
      " [6 2 6 5 3]\n",
      " [2 9 5 2 4]\n",
      " [2 9 2 6 3]]\n",
      "\n",
      "Matrix B (5x3):\n",
      " [[8 3 7]\n",
      " [8 2 3]\n",
      " [1 3 8]\n",
      " [1 2 9]\n",
      " [8 6 7]]\n",
      "\n",
      "Matrix C (3x4):\n",
      " [[3 3 6 8]\n",
      " [6 5 8 2]\n",
      " [4 7 5 7]]\n"
     ]
    }
   ],
   "source": [
    "#Q3>a\n",
    "A = np.random.randint(1,10,size=(4, 5))\n",
    "B = np.random.randint(1,10,size=(5, 3))\n",
    "C = np.random.randint(1,10,size=(3, 4))\n",
    "\n",
    "print(\"Matrix A (4x5):\\n\", A)\n",
    "print(\"\\nMatrix B (5x3):\\n\", B)\n",
    "print(\"\\nMatrix C (3x4):\\n\", C)\n"
   ]
  },
  {
   "cell_type": "code",
   "execution_count": 179,
   "id": "b3021a4d",
   "metadata": {},
   "outputs": [
    {
     "name": "stdout",
     "output_type": "stream",
     "text": [
      "G: \n",
      " [[136 108 220]\n",
      " [ 99  68 162]\n",
      " [127  67 127]\n",
      " [120  60 132]]\n",
      "D: \n",
      " [[ 70  88 107 119]\n",
      " [ 48  55  79  89]\n",
      " [ 53  74  70  70]\n",
      " [ 51  76  67  75]\n",
      " [ 88 103 131 125]]\n",
      "E: \n",
      " [[ 71  94 109 121]\n",
      " [ 53  57  88  98]\n",
      " [ 62  80  75  72]\n",
      " [ 58  81  69  81]\n",
      " [ 97 106 135 128]]\n",
      "F: \n",
      " [[1936 2488 2780 2844]\n",
      " [1353 1771 1948 2062]\n",
      " [1291 1605 1933 2039]\n",
      " [1248 1584 1860 2004]]\n"
     ]
    }
   ],
   "source": [
    "#Q3>b\n",
    "G=A@B\n",
    "D=B@C\n",
    "E=D+A.T\n",
    "F=(A@B)@C\n",
    "print(\"G: \\n\",G)\n",
    "print(\"D: \\n\",D)\n",
    "print(\"E: \\n\",E)\n",
    "print(\"F: \\n\",F)"
   ]
  },
  {
   "cell_type": "code",
   "execution_count": 180,
   "id": "bcd0f884",
   "metadata": {},
   "outputs": [
    {
     "name": "stdout",
     "output_type": "stream",
     "text": [
      "Inverse of F: \n",
      " [[ 8.08438374e+12 -1.44934864e+13 -1.57845287e+13  1.95001176e+13]\n",
      " [-2.80898079e+12  5.03587241e+12  5.48445489e+12 -6.77546460e+12]\n",
      " [-4.69305328e+12  8.41359171e+12  9.16305269e+12 -1.13199835e+13]\n",
      " [ 1.54151385e+12 -2.76358852e+12 -3.00976183e+12  3.71824277e+12]]\n",
      "Eigen Values of F: \n",
      " [ 7.48339356e+03  1.16728564e+02 -1.25463061e-13  4.38778760e+01]\n",
      "Eigen Vectors of F: \n",
      " [[-0.64439518 -0.7438255  -0.81811396 -0.74277384]\n",
      " [-0.45687099 -0.35741007  0.28425994  0.44743184]\n",
      " [-0.43920206  0.41733363  0.47492209 -0.30093032]\n",
      " [-0.42793142  0.38054475 -0.15599631  0.3969039 ]]\n"
     ]
    }
   ],
   "source": [
    "#Q3>c\n",
    "F_inv = np.linalg.inv(F)\n",
    "print(\"Inverse of F: \\n\", F_inv)\n",
    "\n",
    "eival, eivec= np.linalg.eig(F)\n",
    "print(\"Eigen Values of F: \\n\", eival)\n",
    "print(\"Eigen Vectors of F: \\n\", eivec)"
   ]
  },
  {
   "cell_type": "code",
   "execution_count": 181,
   "id": "a0bb22f2",
   "metadata": {},
   "outputs": [
    {
     "name": "stdout",
     "output_type": "stream",
     "text": [
      "The Square root of matrix A is : \n",
      " [[1.         2.23606798 3.         2.64575131 3.        ]\n",
      " [2.44948974 1.41421356 2.44948974 2.23606798 1.73205081]\n",
      " [1.41421356 3.         2.23606798 1.41421356 2.        ]\n",
      " [1.41421356 3.         1.41421356 2.44948974 1.73205081]]\n"
     ]
    }
   ],
   "source": [
    "#Q3>d\n",
    "sq_A = np.sqrt(A)\n",
    "print(\"The Square root of matrix A is : \\n\",sq_A)"
   ]
  },
  {
   "cell_type": "code",
   "execution_count": 182,
   "id": "55cf33a2",
   "metadata": {},
   "outputs": [
    {
     "name": "stdout",
     "output_type": "stream",
     "text": [
      "Natural logarithm of BC is \n",
      " [[4.24849524 4.47733681 4.67282883 4.77912349]\n",
      " [3.87120101 4.00733319 4.36944785 4.48863637]\n",
      " [3.97029191 4.30406509 4.24849524 4.24849524]\n",
      " [3.93182563 4.33073334 4.20469262 4.31748811]\n",
      " [4.47733681 4.63472899 4.87519732 4.82831374]]\n"
     ]
    }
   ],
   "source": [
    "#Q3>e\n",
    "BC = B@C\n",
    "log_BC = np.log(BC)\n",
    "print(\"Natural logarithm of BC is \\n\", log_BC)"
   ]
  },
  {
   "cell_type": "code",
   "execution_count": 183,
   "id": "99ba08e4",
   "metadata": {},
   "outputs": [
    {
     "name": "stdout",
     "output_type": "stream",
     "text": [
      "The elements of sub matrix of A from second row and third row are: \n",
      " [[6 2 6 5 3]\n",
      " [2 9 5 2 4]]\n"
     ]
    }
   ],
   "source": [
    "#Q3>f\n",
    "sub_mat = A[1:3]\n",
    "print(\"The elements of sub matrix of A from second row and third row are: \\n\", sub_mat)"
   ]
  },
  {
   "cell_type": "code",
   "execution_count": 184,
   "id": "5b365c86",
   "metadata": {},
   "outputs": [
    {
     "name": "stdout",
     "output_type": "stream",
     "text": [
      "1st Sub Matrix is : \n",
      " [[8 3 7]\n",
      " [8 2 3]\n",
      " [1 3 8]]\n",
      "2nd Sub Matrix is : \n",
      " [[1 2 9]\n",
      " [8 6 7]]\n",
      "3rd Sub Matrix is : \n",
      " [[1 3 8]\n",
      " [1 2 9]]\n"
     ]
    }
   ],
   "source": [
    "#Q3>g\n",
    "s1_B=B[:3]\n",
    "s2_B=B[-2:,:3]\n",
    "s3_B=B[2:4]\n",
    "print(\"1st Sub Matrix is : \\n\", s1_B)\n",
    "print(\"2nd Sub Matrix is : \\n\", s2_B)\n",
    "print(\"3rd Sub Matrix is : \\n\", s3_B)"
   ]
  },
  {
   "cell_type": "code",
   "execution_count": 185,
   "id": "253cfff6",
   "metadata": {},
   "outputs": [
    {
     "name": "stdout",
     "output_type": "stream",
     "text": [
      "The R is : \n",
      " [[35 83 35 65  8]\n",
      " [43 58  2 90 34]\n",
      " [69 46 14 45  0]\n",
      " [51 82 51 31 28]\n",
      " [92 73  0 92 91]]\n",
      "The S is : \n",
      " [[77 14 23 36 20]\n",
      " [41 31 20 20 26]\n",
      " [60 28 52 75 42]\n",
      " [67  5 92 58 89]\n",
      " [86 35 57 72 12]]\n",
      "The matrix BCA+R is : \n",
      " [[1085 2643 1966 1923 1687]\n",
      " [ 757 1920 1337 1393 1214]\n",
      " [ 846 1719 1425 1346 1189]\n",
      " [ 842 1767 1451 1352 1208]\n",
      " [1310 3023 2315 2235 2091]]\n",
      "The matrix BCA-S is : \n",
      " [[1049.70559605 2559.94647201 1930.91206116 1857.8623566  1678.92353144]\n",
      " [ 713.84323946 1861.88147374 1334.92353144 1302.92353144 1179.90059088]\n",
      " [ 776.77059433 1672.89294402 1410.80118175 1300.71324291 1188.83941603]\n",
      " [ 790.74383033 1684.98088286 1399.64824464 1320.77824118 1179.65971492]\n",
      " [1217.6711852  2949.86618002 2314.78206461 2142.72471319 1999.95411887]]\n"
     ]
    }
   ],
   "source": [
    "#Q3>h\n",
    "R= np.random.randint(0,100,size=(5,5))\n",
    "S= np.random.randint(0,100,size=(5,5))\n",
    "print(\"The R is : \\n\", R)\n",
    "print(\"The S is : \\n\", S)\n",
    "S=S/np.linalg.norm(S)\n",
    "\n",
    "BCA = B@C@A\n",
    "plus= BCA+R\n",
    "minus= BCA-S\n",
    "\n",
    "print(\"The matrix BCA+R is : \\n\", plus)\n",
    "print(\"The matrix BCA-S is : \\n\", minus)"
   ]
  },
  {
   "cell_type": "code",
   "execution_count": 186,
   "id": "665ed174",
   "metadata": {},
   "outputs": [
    {
     "name": "stdout",
     "output_type": "stream",
     "text": [
      "The element by element multipliction is \n",
      " [[ 70 528 214 238]\n",
      " [240 110 711 801]\n",
      " [477 444 350 140]\n",
      " [357 380 134 450]\n",
      " [792 309 524 375]]\n",
      "The element by element division is \n",
      " [[70.         14.66666667 53.5        59.5       ]\n",
      " [ 9.6        27.5         8.77777778  9.88888889]\n",
      " [ 5.88888889 12.33333333 14.         35.        ]\n",
      " [ 7.28571429 15.2        33.5        12.5       ]\n",
      " [ 9.77777778 34.33333333 32.75       41.66666667]]\n"
     ]
    }
   ],
   "source": [
    "multi=B@C * A.T\n",
    "divi=B@C / A.T\n",
    "print(\"The element by element multipliction is \\n\",multi)\n",
    "print(\"The element by element division is \\n\",divi)"
   ]
  },
  {
   "cell_type": "markdown",
   "id": "e5a56f9a",
   "metadata": {},
   "source": [
    "Q4. Write a Python script to verify that A is a magic square by constructing the 5-column array with column sums\n",
    "of A and computing the maximum and minimum values of the column sums array. Do the same for the row\n",
    "sums. Finally, compute the two diagonal sums. Check that these six values are the same."
   ]
  },
  {
   "cell_type": "code",
   "execution_count": 187,
   "id": "75c50c3d",
   "metadata": {},
   "outputs": [
    {
     "name": "stdout",
     "output_type": "stream",
     "text": [
      "Matrix A:\n",
      " [[17 24  1  8 15]\n",
      " [23  5  7 14 16]\n",
      " [ 4  6 13 20 22]\n",
      " [10 12 19 21  3]\n",
      " [11 18 25  2  9]]\n",
      "Column sums of A:\n",
      " [65 65 65 65 65]\n",
      "Row sums of A:\n",
      " [65 65 65 65 65]\n",
      "Diagonal sums of A:\n",
      " 65 65\n",
      "Is A a magic square?\n",
      " True\n"
     ]
    }
   ],
   "source": [
    "A = np.array([[17, 24, 1, 8, 15], [23, 5, 7, 14, 16], [4, 6, 13, 20, 22], [10, 12, 19, 21, 3], [11, 18, 25, 2, 9]])\n",
    "\n",
    "column_sums = np.sum(A, axis=0)\n",
    "row_sums = np.sum(A, axis=1)\n",
    "\n",
    "diag_sum1 = np.trace(A)\n",
    "diag_sum2 = np.trace(np.fliplr(A))\n",
    "\n",
    "is_column_sums_equal = np.all(column_sums == column_sums[0])\n",
    "\n",
    "is_row_sums_equal = np.all(row_sums == row_sums[0])\n",
    "\n",
    "is_magic_square = is_column_sums_equal and is_row_sums_equal and (column_sums[0] == row_sums[0] == diag_sum1 == diag_sum2)\n",
    "\n",
    "print(\"Matrix A:\\n\", A)\n",
    "print(\"Column sums of A:\\n\", column_sums)\n",
    "print(\"Row sums of A:\\n\", row_sums)\n",
    "print(\"Diagonal sums of A:\\n\", diag_sum1, diag_sum2)\n",
    "print(\"Is A a magic square?\\n\", is_magic_square)\n"
   ]
  }
 ],
 "metadata": {
  "kernelspec": {
   "display_name": "Python 3 (ipykernel)",
   "language": "python",
   "name": "python3"
  },
  "language_info": {
   "codemirror_mode": {
    "name": "ipython",
    "version": 3
   },
   "file_extension": ".py",
   "mimetype": "text/x-python",
   "name": "python",
   "nbconvert_exporter": "python",
   "pygments_lexer": "ipython3",
   "version": "3.11.4"
  }
 },
 "nbformat": 4,
 "nbformat_minor": 5
}
