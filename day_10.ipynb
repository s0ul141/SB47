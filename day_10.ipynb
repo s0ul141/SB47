{
 "cells": [
  {
   "cell_type": "code",
   "execution_count": 8,
   "id": "46382694",
   "metadata": {},
   "outputs": [
    {
     "name": "stdout",
     "output_type": "stream",
     "text": [
      "even\n",
      "odd\n"
     ]
    }
   ],
   "source": [
    "def flaotEvenOdd(num):\n",
    "    f= str(num).split(\".\")\n",
    "    if int(f[1])%2==0:\n",
    "        print(\"even\")\n",
    "    else:\n",
    "        print(\"odd\")\n",
    "flaotEvenOdd(123.566)\n",
    "flaotEvenOdd(1243.899)"
   ]
  },
  {
   "cell_type": "code",
   "execution_count": 1,
   "id": "9e4a1f21",
   "metadata": {},
   "outputs": [
    {
     "data": {
      "text/plain": [
       "True"
      ]
     },
     "execution_count": 1,
     "metadata": {},
     "output_type": "execute_result"
    }
   ],
   "source": [
    "def isAdam(num):\n",
    "    if '.'in str(num):\n",
    "        print(\"Float entered! Enter only an integer!\")\n",
    "    else:\n",
    "        if str(num*2)==str(int(str(num)[::-1])*2)[::-1]:\n",
    "            return True\n",
    "        else:\n",
    "            return False\n",
    "isAdam(12)"
   ]
  },
  {
   "cell_type": "code",
   "execution_count": 2,
   "id": "a7e80961",
   "metadata": {},
   "outputs": [
    {
     "name": "stdout",
     "output_type": "stream",
     "text": [
      "1: This is an Adam number!\n",
      "2: This is an Adam number!\n",
      "3: This is an Adam number!\n",
      "4: This is an Adam number!\n",
      "5: Not an Adam number!\n",
      "6: Not an Adam number!\n",
      "7: Not an Adam number!\n",
      "8: Not an Adam number!\n",
      "9: Not an Adam number!\n",
      "10: Not an Adam number!\n",
      "11: This is an Adam number!\n",
      "12: This is an Adam number!\n",
      "13: This is an Adam number!\n",
      "14: This is an Adam number!\n",
      "15: Not an Adam number!\n",
      "16: Not an Adam number!\n",
      "17: Not an Adam number!\n",
      "18: Not an Adam number!\n",
      "19: Not an Adam number!\n",
      "20: Not an Adam number!\n"
     ]
    }
   ],
   "source": [
    "def adamNosInRange(num1,num2):\n",
    "    for i in range(num1,num2+1):\n",
    "        if isAdam(i)==True:\n",
    "            print(f\"{i}: This is an Adam number!\")\n",
    "        else:\n",
    "            print(f\"{i}: Not an Adam number!\")\n",
    "adamNosInRange(1,20)"
   ]
  },
  {
   "cell_type": "code",
   "execution_count": 5,
   "id": "f6ca16f4",
   "metadata": {},
   "outputs": [
    {
     "name": "stdout",
     "output_type": "stream",
     "text": [
      "1\n"
     ]
    }
   ],
   "source": [
    "#digital root\n",
    "\n",
    "def digital_root(num):\n",
    "    if num>9:\n",
    "        s=0\n",
    "        while num>0:\n",
    "            d=num%10\n",
    "            num=num//10\n",
    "            s=s+d\n",
    "        return digital_root(s)\n",
    "    else:\n",
    "        print(num)\n",
    "digital_root(12934)"
   ]
  },
  {
   "cell_type": "code",
   "execution_count": 14,
   "id": "906fe3d7",
   "metadata": {},
   "outputs": [
    {
     "data": {
      "text/plain": [
       "[1, 5, 8]"
      ]
     },
     "execution_count": 14,
     "metadata": {},
     "output_type": "execute_result"
    }
   ],
   "source": [
    "def findAll(string, ch):\n",
    "    c,l=[],[]\n",
    "    for i in string:\n",
    "        l.append(i)\n",
    "    for i in range(len(l)):\n",
    "        if ch == l[i]:\n",
    "            c.append(i)\n",
    "    if len(c)!= 0:\n",
    "        return c\n",
    "    else:\n",
    "        return c\n",
    "\n",
    "findAll(\"arafsrfgrg\", 'r')"
   ]
  }
 ],
 "metadata": {
  "kernelspec": {
   "display_name": "Python 3 (ipykernel)",
   "language": "python",
   "name": "python3"
  },
  "language_info": {
   "codemirror_mode": {
    "name": "ipython",
    "version": 3
   },
   "file_extension": ".py",
   "mimetype": "text/x-python",
   "name": "python",
   "nbconvert_exporter": "python",
   "pygments_lexer": "ipython3",
   "version": "3.11.4"
  }
 },
 "nbformat": 4,
 "nbformat_minor": 5
}
