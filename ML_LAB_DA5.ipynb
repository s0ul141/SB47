{
 "cells": [
  {
   "cell_type": "markdown",
   "id": "79b8b47b",
   "metadata": {},
   "source": [
    "## Q1"
   ]
  },
  {
   "cell_type": "markdown",
   "id": "e2092857",
   "metadata": {},
   "source": [
    "#### a."
   ]
  },
  {
   "cell_type": "code",
   "execution_count": 3,
   "id": "f243b22e-6705-4e4f-b2e2-805585c23214",
   "metadata": {},
   "outputs": [],
   "source": [
    "import numpy as np"
   ]
  },
  {
   "cell_type": "code",
   "execution_count": 2,
   "id": "85ddb92e",
   "metadata": {},
   "outputs": [],
   "source": [
    "def knnPredict(xtest, X, y, k):\n",
    "    # Calculate Euclidean distances\n",
    "    distances = np.sqrt(np.sum((X - xtest)**2, axis=1))\n",
    "    # Sort distances and get indices\n",
    "    sorted_indices = np.argsort(distances) \n",
    "    # Get labels of k-nearest neighbors\n",
    "    k_nearest_labels = y[sorted_indices[:k]]  \n",
    "    # Count occurrences of each label\n",
    "    unique_labels, counts = np.unique(k_nearest_labels, return_counts=True)\n",
    "    # Get the label with maximum count\n",
    "    max_count_label = unique_labels[np.argmax(counts)]  \n",
    "    return max_count_label"
   ]
  },
  {
   "cell_type": "markdown",
   "id": "5af22082",
   "metadata": {},
   "source": [
    "#### b."
   ]
  },
  {
   "cell_type": "code",
   "execution_count": 4,
   "id": "65744305-a243-46fe-b0dd-aa76279cbb30",
   "metadata": {},
   "outputs": [
    {
     "name": "stdout",
     "output_type": "stream",
     "text": [
      "Predicted Label: 0\n"
     ]
    }
   ],
   "source": [
    "\n",
    "# Given dataset\n",
    "X = np.array([[1, 2], [2, 3], [3, 4], [4, 5]])\n",
    "y = np.array([0, 0, 1, 1])\n",
    "\n",
    "# New data point\n",
    "xtest = np.array([2.5, 3.5])\n",
    "\n",
    "# Value of k\n",
    "k = 3\n",
    "\n",
    "# Predict the label using KNN\n",
    "predicted_label = knnPredict(xtest, X, y, k)\n",
    "print(\"Predicted Label:\", predicted_label)"
   ]
  },
  {
   "cell_type": "markdown",
   "id": "3b3c488d",
   "metadata": {},
   "source": [
    "## Q2"
   ]
  },
  {
   "cell_type": "markdown",
   "id": "30d7051c",
   "metadata": {},
   "source": [
    "#### a."
   ]
  },
  {
   "cell_type": "code",
   "execution_count": 5,
   "id": "a47df22e-84e9-4214-a1bd-bd56ed701942",
   "metadata": {},
   "outputs": [],
   "source": [
    "\n",
    "def kmeanCluster(X, k):\n",
    "    # Initialize centroids randomly\n",
    "    centroids = X[np.random.choice(X.shape[0], k, replace=False)]\n",
    "    \n",
    "    # Initialize cluster assignments\n",
    "    cluster_assignments = np.zeros(X.shape[0])\n",
    "    \n",
    "    while True:\n",
    "        # Calculate distances between each data point and centroids\n",
    "        distances = np.sqrt(((X - centroids[:, np.newaxis])**2).sum(axis=2))\n",
    "        \n",
    "        # Assign each data point to the closest centroid\n",
    "        new_assignments = np.argmin(distances, axis=0)\n",
    "        \n",
    "        # Check for convergence\n",
    "        if np.array_equal(new_assignments, cluster_assignments):\n",
    "            break\n",
    "        \n",
    "        # Update cluster assignments\n",
    "        cluster_assignments = new_assignments\n",
    "        \n",
    "        # Update centroids\n",
    "        for i in range(k):\n",
    "            centroids[i] = X[cluster_assignments == i].mean(axis=0)\n",
    "    \n",
    "    return centroids, cluster_assignments"
   ]
  },
  {
   "cell_type": "markdown",
   "id": "0c62688d",
   "metadata": {},
   "source": [
    "#### b."
   ]
  },
  {
   "cell_type": "code",
   "execution_count": 6,
   "id": "9c0e67bb-a8cb-4935-a988-c091cf33ff61",
   "metadata": {},
   "outputs": [
    {
     "name": "stdout",
     "output_type": "stream",
     "text": [
      "Cluster centroids:\n",
      "[[3 9]\n",
      " [7 4]\n",
      " [1 3]]\n",
      "Cluster assignments for each data point:\n",
      "[0 2 1 0 1 1 2 0]\n"
     ]
    }
   ],
   "source": [
    "# Define the dataset\n",
    "X = np.array([[2, 10], [2, 5], [8, 4], [5, 8], [7, 5], [6, 4], [1, 2], [4, 9]])\n",
    "# Number of clusters\n",
    "k = 3\n",
    "\n",
    "# Apply k-means clustering\n",
    "centroids, cluster_assignments = kmeanCluster(X, k)\n",
    "\n",
    "print(\"Cluster centroids:\")\n",
    "print(centroids)\n",
    "print(\"Cluster assignments for each data point:\")\n",
    "print(cluster_assignments)"
   ]
  }
 ],
 "metadata": {
  "kernelspec": {
   "display_name": "Python 3 (ipykernel)",
   "language": "python",
   "name": "python3"
  },
  "language_info": {
   "codemirror_mode": {
    "name": "ipython",
    "version": 3
   },
   "file_extension": ".py",
   "mimetype": "text/x-python",
   "name": "python",
   "nbconvert_exporter": "python",
   "pygments_lexer": "ipython3",
   "version": "3.11.4"
  }
 },
 "nbformat": 4,
 "nbformat_minor": 5
}
