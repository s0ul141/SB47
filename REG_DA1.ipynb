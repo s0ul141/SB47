{
 "cells": [
  {
   "cell_type": "markdown",
   "id": "226c023f",
   "metadata": {},
   "source": [
    "# REG_DA1_LAB_DATA"
   ]
  },
  {
   "cell_type": "markdown",
   "id": "c844cdc3",
   "metadata": {},
   "source": [
    "## Problem 1: Perform the correlation analysis for the data1"
   ]
  },
  {
   "cell_type": "code",
   "execution_count": 2,
   "id": "5c83bd28",
   "metadata": {},
   "outputs": [],
   "source": [
    "import pandas as pd\n",
    "import matplotlib.pyplot as plt\n",
    "import seaborn as sns"
   ]
  },
  {
   "cell_type": "code",
   "execution_count": 4,
   "id": "bb8d680d",
   "metadata": {},
   "outputs": [
    {
     "data": {
      "text/html": [
       "<div>\n",
       "<style scoped>\n",
       "    .dataframe tbody tr th:only-of-type {\n",
       "        vertical-align: middle;\n",
       "    }\n",
       "\n",
       "    .dataframe tbody tr th {\n",
       "        vertical-align: top;\n",
       "    }\n",
       "\n",
       "    .dataframe thead th {\n",
       "        text-align: right;\n",
       "    }\n",
       "</style>\n",
       "<table border=\"1\" class=\"dataframe\">\n",
       "  <thead>\n",
       "    <tr style=\"text-align: right;\">\n",
       "      <th></th>\n",
       "      <th>Student</th>\n",
       "      <th>Hours spent studying</th>\n",
       "      <th>Exam Score</th>\n",
       "      <th>IQ score</th>\n",
       "      <th>Hours spent sleeping</th>\n",
       "      <th>School rating</th>\n",
       "    </tr>\n",
       "  </thead>\n",
       "  <tbody>\n",
       "    <tr>\n",
       "      <th>0</th>\n",
       "      <td>Student #1</td>\n",
       "      <td>1</td>\n",
       "      <td>89</td>\n",
       "      <td>85</td>\n",
       "      <td>7</td>\n",
       "      <td>73</td>\n",
       "    </tr>\n",
       "    <tr>\n",
       "      <th>1</th>\n",
       "      <td>Student #2</td>\n",
       "      <td>3</td>\n",
       "      <td>60</td>\n",
       "      <td>131</td>\n",
       "      <td>5</td>\n",
       "      <td>75</td>\n",
       "    </tr>\n",
       "    <tr>\n",
       "      <th>2</th>\n",
       "      <td>Student #3</td>\n",
       "      <td>3</td>\n",
       "      <td>75</td>\n",
       "      <td>100</td>\n",
       "      <td>7</td>\n",
       "      <td>84</td>\n",
       "    </tr>\n",
       "    <tr>\n",
       "      <th>3</th>\n",
       "      <td>Student #4</td>\n",
       "      <td>1</td>\n",
       "      <td>21</td>\n",
       "      <td>80</td>\n",
       "      <td>8</td>\n",
       "      <td>64</td>\n",
       "    </tr>\n",
       "    <tr>\n",
       "      <th>4</th>\n",
       "      <td>Student #5</td>\n",
       "      <td>3</td>\n",
       "      <td>72</td>\n",
       "      <td>82</td>\n",
       "      <td>8</td>\n",
       "      <td>77</td>\n",
       "    </tr>\n",
       "    <tr>\n",
       "      <th>5</th>\n",
       "      <td>Student #6</td>\n",
       "      <td>3</td>\n",
       "      <td>60</td>\n",
       "      <td>88</td>\n",
       "      <td>9</td>\n",
       "      <td>92</td>\n",
       "    </tr>\n",
       "    <tr>\n",
       "      <th>6</th>\n",
       "      <td>Student #7</td>\n",
       "      <td>1</td>\n",
       "      <td>21</td>\n",
       "      <td>116</td>\n",
       "      <td>9</td>\n",
       "      <td>62</td>\n",
       "    </tr>\n",
       "    <tr>\n",
       "      <th>7</th>\n",
       "      <td>Student #8</td>\n",
       "      <td>1</td>\n",
       "      <td>24</td>\n",
       "      <td>130</td>\n",
       "      <td>7</td>\n",
       "      <td>74</td>\n",
       "    </tr>\n",
       "    <tr>\n",
       "      <th>8</th>\n",
       "      <td>Student #9</td>\n",
       "      <td>2</td>\n",
       "      <td>44</td>\n",
       "      <td>98</td>\n",
       "      <td>9</td>\n",
       "      <td>74</td>\n",
       "    </tr>\n",
       "    <tr>\n",
       "      <th>9</th>\n",
       "      <td>Student #10</td>\n",
       "      <td>2</td>\n",
       "      <td>48</td>\n",
       "      <td>130</td>\n",
       "      <td>8</td>\n",
       "      <td>79</td>\n",
       "    </tr>\n",
       "  </tbody>\n",
       "</table>\n",
       "</div>"
      ],
      "text/plain": [
       "       Student  Hours spent studying  Exam Score  IQ score  \\\n",
       "0   Student #1                     1          89        85   \n",
       "1   Student #2                     3          60       131   \n",
       "2   Student #3                     3          75       100   \n",
       "3   Student #4                     1          21        80   \n",
       "4   Student #5                     3          72        82   \n",
       "5   Student #6                     3          60        88   \n",
       "6   Student #7                     1          21       116   \n",
       "7   Student #8                     1          24       130   \n",
       "8   Student #9                     2          44        98   \n",
       "9  Student #10                     2          48       130   \n",
       "\n",
       "   Hours spent sleeping  School rating  \n",
       "0                     7             73  \n",
       "1                     5             75  \n",
       "2                     7             84  \n",
       "3                     8             64  \n",
       "4                     8             77  \n",
       "5                     9             92  \n",
       "6                     9             62  \n",
       "7                     7             74  \n",
       "8                     9             74  \n",
       "9                     8             79  "
      ]
     },
     "execution_count": 4,
     "metadata": {},
     "output_type": "execute_result"
    }
   ],
   "source": [
    "data1= pd.read_excel('REG_DA1_LAB_DATA1.xlsx')\n",
    "data1"
   ]
  },
  {
   "cell_type": "markdown",
   "id": "c82108f6",
   "metadata": {},
   "source": [
    "### scatter diagram (between Exam Score and Hours spent sleeping) "
   ]
  },
  {
   "cell_type": "code",
   "execution_count": 5,
   "id": "d18a4af0",
   "metadata": {},
   "outputs": [
    {
     "data": {
      "image/png": "[encoded data removed]",
      "text/plain": [
       "<Figure size 640x480 with 1 Axes>"
      ]
     },
     "metadata": {},
     "output_type": "display_data"
    }
   ],
   "source": [
    "# Scatter plot\n",
    "plt.scatter(x= data1['Hours spent sleeping'],y= data1['Exam Score'], color='purple')\n",
    "plt.title('Scatter Plot of Exam Score vs Hours Spent Sleeping')\n",
    "plt.xlabel('Hours Spent Sleeping')\n",
    "plt.ylabel('Exam Score')\n",
    "plt.show()"
   ]
  },
  {
   "cell_type": "markdown",
   "id": "f3edff05",
   "metadata": {},
   "source": [
    "### Correlation coefficient using direct code (between Exam Score and IQ score). \n"
   ]
  },
  {
   "cell_type": "code",
   "execution_count": 6,
   "id": "b6a23b51",
   "metadata": {},
   "outputs": [],
   "source": [
    "from scipy.stats import pearsonr"
   ]
  },
  {
   "cell_type": "code",
   "execution_count": 7,
   "id": "2d1eb066",
   "metadata": {},
   "outputs": [
    {
     "name": "stdout",
     "output_type": "stream",
     "text": [
      "Correlation Coefficient: -0.344\n"
     ]
    }
   ],
   "source": [
    "# Calculate correlation coefficient\n",
    "correlation_coefficient, _ = pearsonr(data1['Exam Score'], data1['IQ score'])\n",
    "\n",
    "print(\"Correlation Coefficient:\", round(correlation_coefficient, 3))\n"
   ]
  },
  {
   "cell_type": "markdown",
   "id": "997def8f",
   "metadata": {},
   "source": [
    "### Karl Pearson correlation coefficient (based on the formula) [between Exam Score and Hours spent sleeping].   \n"
   ]
  },
  {
   "cell_type": "code",
   "execution_count": 8,
   "id": "190a916c",
   "metadata": {},
   "outputs": [
    {
     "name": "stdout",
     "output_type": "stream",
     "text": [
      "Pearson correlation coefficient: -0.328\n"
     ]
    }
   ],
   "source": [
    "# Calculate Pearson correlation coefficient\n",
    "n = len(data1)\n",
    "sum_xy = sum([x * y for x, y in zip(data1['Exam Score'], data1['Hours spent sleeping'])])\n",
    "sum_x = sum(data1['Exam Score'])\n",
    "sum_y = sum(data1['Hours spent sleeping'])\n",
    "sum_x_squared = sum([x**2 for x in data1['Exam Score']])\n",
    "sum_y_squared = sum([y**2 for y in data1['Hours spent sleeping']])\n",
    "\n",
    "correlation_coefficient = (n * sum_xy - sum_x * sum_y) / ((n * sum_x_squared - sum_x**2) * (n * sum_y_squared - sum_y**2))**0.5\n",
    "\n",
    "print(\"Pearson correlation coefficient:\", round(correlation_coefficient, 3))"
   ]
  },
  {
   "cell_type": "markdown",
   "id": "1579b84f",
   "metadata": {},
   "source": [
    "### Correlation matrix (between Exam Score, IQ score and Hours spent sleeping). "
   ]
  },
  {
   "cell_type": "code",
   "execution_count": 9,
   "id": "d15d9f43",
   "metadata": {},
   "outputs": [
    {
     "name": "stdout",
     "output_type": "stream",
     "text": [
      "Correlation Matrix:\n",
      "                      Exam Score  IQ score  Hours spent sleeping\n",
      "Exam Score              1.000000 -0.343539             -0.327681\n",
      "IQ score               -0.343539  1.000000             -0.398107\n",
      "Hours spent sleeping   -0.327681 -0.398107              1.000000\n"
     ]
    }
   ],
   "source": [
    "# Calculate correlation matrix\n",
    "correlation_matrix = data1[['Exam Score', 'IQ score', 'Hours spent sleeping']].corr()\n",
    "\n",
    "print(\"Correlation Matrix:\")\n",
    "print(correlation_matrix)"
   ]
  },
  {
   "cell_type": "markdown",
   "id": "cc018989",
   "metadata": {},
   "source": [
    "### Heat map correlation(All the variables)."
   ]
  },
  {
   "cell_type": "code",
   "execution_count": 10,
   "id": "542741e8",
   "metadata": {},
   "outputs": [
    {
     "name": "stderr",
     "output_type": "stream",
     "text": [
      "C:\\Users\\kings\\AppData\\Local\\Temp\\ipykernel_2684\\1806553040.py:2: FutureWarning: The default value of numeric_only in DataFrame.corr is deprecated. In a future version, it will default to False. Select only valid columns or specify the value of numeric_only to silence this warning.\n",
      "  correlation_matrix = data1.corr()\n"
     ]
    },
    {
     "data": {
      "image/png": "[encoded data removed]",
      "text/plain": [
       "<Figure size 800x600 with 2 Axes>"
      ]
     },
     "metadata": {},
     "output_type": "display_data"
    }
   ],
   "source": [
    "# Calculate correlation matrix\n",
    "correlation_matrix = data1.corr()\n",
    "\n",
    "# Create a heatmap\n",
    "plt.figure(figsize=(8, 6))\n",
    "sns.heatmap(correlation_matrix, annot=True, cmap='PRGn', fmt=\".2f\", linewidths=0.5)\n",
    "plt.title('Correlation Heatmap of Variables')\n",
    "plt.show()\n"
   ]
  },
  {
   "cell_type": "markdown",
   "id": "c98755de",
   "metadata": {},
   "source": [
    "## Problem 2: Following data is based on Advertisement of product. Now analyse the followings:"
   ]
  },
  {
   "cell_type": "code",
   "execution_count": 26,
   "id": "bb4f4ae0",
   "metadata": {
    "scrolled": true
   },
   "outputs": [
    {
     "data": {
      "text/html": [
       "<div>\n",
       "<style scoped>\n",
       "    .dataframe tbody tr th:only-of-type {\n",
       "        vertical-align: middle;\n",
       "    }\n",
       "\n",
       "    .dataframe tbody tr th {\n",
       "        vertical-align: top;\n",
       "    }\n",
       "\n",
       "    .dataframe thead th {\n",
       "        text-align: right;\n",
       "    }\n",
       "</style>\n",
       "<table border=\"1\" class=\"dataframe\">\n",
       "  <thead>\n",
       "    <tr style=\"text-align: right;\">\n",
       "      <th></th>\n",
       "      <th>S. N</th>\n",
       "      <th>TV</th>\n",
       "      <th>Radio</th>\n",
       "      <th>Newspaper</th>\n",
       "      <th>Sales</th>\n",
       "    </tr>\n",
       "  </thead>\n",
       "  <tbody>\n",
       "    <tr>\n",
       "      <th>0</th>\n",
       "      <td>1</td>\n",
       "      <td>230.1</td>\n",
       "      <td>37.8</td>\n",
       "      <td>69.2</td>\n",
       "      <td>22.1</td>\n",
       "    </tr>\n",
       "    <tr>\n",
       "      <th>1</th>\n",
       "      <td>2</td>\n",
       "      <td>44.5</td>\n",
       "      <td>39.3</td>\n",
       "      <td>45.1</td>\n",
       "      <td>10.4</td>\n",
       "    </tr>\n",
       "    <tr>\n",
       "      <th>2</th>\n",
       "      <td>3</td>\n",
       "      <td>17.2</td>\n",
       "      <td>45.9</td>\n",
       "      <td>69.3</td>\n",
       "      <td>9.3</td>\n",
       "    </tr>\n",
       "    <tr>\n",
       "      <th>3</th>\n",
       "      <td>4</td>\n",
       "      <td>151.5</td>\n",
       "      <td>41.3</td>\n",
       "      <td>58.5</td>\n",
       "      <td>18.5</td>\n",
       "    </tr>\n",
       "    <tr>\n",
       "      <th>4</th>\n",
       "      <td>5</td>\n",
       "      <td>180.8</td>\n",
       "      <td>10.8</td>\n",
       "      <td>58.4</td>\n",
       "      <td>12.9</td>\n",
       "    </tr>\n",
       "    <tr>\n",
       "      <th>5</th>\n",
       "      <td>6</td>\n",
       "      <td>8.7</td>\n",
       "      <td>48.9</td>\n",
       "      <td>75.0</td>\n",
       "      <td>7.2</td>\n",
       "    </tr>\n",
       "    <tr>\n",
       "      <th>6</th>\n",
       "      <td>7</td>\n",
       "      <td>57.5</td>\n",
       "      <td>32.8</td>\n",
       "      <td>23.5</td>\n",
       "      <td>11.8</td>\n",
       "    </tr>\n",
       "    <tr>\n",
       "      <th>7</th>\n",
       "      <td>8</td>\n",
       "      <td>120.2</td>\n",
       "      <td>19.6</td>\n",
       "      <td>11.6</td>\n",
       "      <td>13.2</td>\n",
       "    </tr>\n",
       "    <tr>\n",
       "      <th>8</th>\n",
       "      <td>9</td>\n",
       "      <td>8.6</td>\n",
       "      <td>2.1</td>\n",
       "      <td>1.0</td>\n",
       "      <td>4.8</td>\n",
       "    </tr>\n",
       "    <tr>\n",
       "      <th>9</th>\n",
       "      <td>10</td>\n",
       "      <td>199.8</td>\n",
       "      <td>2.6</td>\n",
       "      <td>21.2</td>\n",
       "      <td>10.6</td>\n",
       "    </tr>\n",
       "    <tr>\n",
       "      <th>10</th>\n",
       "      <td>11</td>\n",
       "      <td>66.1</td>\n",
       "      <td>5.8</td>\n",
       "      <td>24.2</td>\n",
       "      <td>8.6</td>\n",
       "    </tr>\n",
       "    <tr>\n",
       "      <th>11</th>\n",
       "      <td>12</td>\n",
       "      <td>214.7</td>\n",
       "      <td>24.0</td>\n",
       "      <td>4.0</td>\n",
       "      <td>17.4</td>\n",
       "    </tr>\n",
       "    <tr>\n",
       "      <th>12</th>\n",
       "      <td>13</td>\n",
       "      <td>23.8</td>\n",
       "      <td>35.1</td>\n",
       "      <td>65.9</td>\n",
       "      <td>9.2</td>\n",
       "    </tr>\n",
       "    <tr>\n",
       "      <th>13</th>\n",
       "      <td>14</td>\n",
       "      <td>97.5</td>\n",
       "      <td>7.6</td>\n",
       "      <td>7.2</td>\n",
       "      <td>9.7</td>\n",
       "    </tr>\n",
       "    <tr>\n",
       "      <th>14</th>\n",
       "      <td>15</td>\n",
       "      <td>204.1</td>\n",
       "      <td>32.9</td>\n",
       "      <td>46.0</td>\n",
       "      <td>19.0</td>\n",
       "    </tr>\n",
       "    <tr>\n",
       "      <th>15</th>\n",
       "      <td>16</td>\n",
       "      <td>195.4</td>\n",
       "      <td>47.7</td>\n",
       "      <td>52.9</td>\n",
       "      <td>22.4</td>\n",
       "    </tr>\n",
       "  </tbody>\n",
       "</table>\n",
       "</div>"
      ],
      "text/plain": [
       "    S. N     TV  Radio  Newspaper  Sales\n",
       "0      1  230.1   37.8       69.2   22.1\n",
       "1      2   44.5   39.3       45.1   10.4\n",
       "2      3   17.2   45.9       69.3    9.3\n",
       "3      4  151.5   41.3       58.5   18.5\n",
       "4      5  180.8   10.8       58.4   12.9\n",
       "5      6    8.7   48.9       75.0    7.2\n",
       "6      7   57.5   32.8       23.5   11.8\n",
       "7      8  120.2   19.6       11.6   13.2\n",
       "8      9    8.6    2.1        1.0    4.8\n",
       "9     10  199.8    2.6       21.2   10.6\n",
       "10    11   66.1    5.8       24.2    8.6\n",
       "11    12  214.7   24.0        4.0   17.4\n",
       "12    13   23.8   35.1       65.9    9.2\n",
       "13    14   97.5    7.6        7.2    9.7\n",
       "14    15  204.1   32.9       46.0   19.0\n",
       "15    16  195.4   47.7       52.9   22.4"
      ]
     },
     "execution_count": 26,
     "metadata": {},
     "output_type": "execute_result"
    }
   ],
   "source": [
    "data2 = pd.read_excel('REG_DA1_LAB_DATA2.xlsx')\n",
    "data2"
   ]
  },
  {
   "cell_type": "markdown",
   "id": "6e194be0",
   "metadata": {},
   "source": [
    "### Fitting a simple Linear regresseion model between Sales and TV"
   ]
  },
  {
   "cell_type": "code",
   "execution_count": 27,
   "id": "cba1328a",
   "metadata": {},
   "outputs": [],
   "source": [
    "from sklearn.linear_model import LinearRegression"
   ]
  },
  {
   "cell_type": "code",
   "execution_count": 35,
   "id": "4741866f",
   "metadata": {},
   "outputs": [
    {
     "name": "stdout",
     "output_type": "stream",
     "text": [
      "Intercept: 6.815427538794575\n",
      "Coefficient: 0.0538605654376747\n",
      "Predictions: [19.20874365  9.2122227   7.74182926 14.9753032  16.55341777  7.28401446\n",
      "  9.91241005 13.2894675   7.2786284  17.57676851 10.37561091 18.37929094\n",
      "  8.097309   12.06683267 17.80836894 17.33978203]\n"
     ]
    }
   ],
   "source": [
    "# Split features (TV) and target variable (Sales)\n",
    "X = data2[['TV']]\n",
    "y = data2['Sales']\n",
    "\n",
    "# Initialize and fit the linear regression model\n",
    "model = LinearRegression()\n",
    "model.fit(X, y)\n",
    "\n",
    "# Print the coefficients\n",
    "print('Intercept:', model.intercept_)\n",
    "print('Coefficient:', model.coef_[0])\n",
    "\n",
    "# Make predictions\n",
    "predictions = model.predict(X)\n",
    "print('Predictions:', predictions)"
   ]
  },
  {
   "cell_type": "markdown",
   "id": "508d1e2a",
   "metadata": {},
   "source": [
    "### Fitting a simple Linear regresseion model between Sales and Newspaper"
   ]
  },
  {
   "cell_type": "code",
   "execution_count": 36,
   "id": "f9208763",
   "metadata": {},
   "outputs": [
    {
     "name": "stdout",
     "output_type": "stream",
     "text": [
      "Intercept: 10.991452516458558\n",
      "Coefficient: 0.049347171779878476\n",
      "Predictions: [14.4062768  13.21700996 14.41121152 13.87826207 13.87332735 14.6924904\n",
      " 12.15111105 11.56387971 11.04079969 12.03761256 12.18565407 11.1888412\n",
      " 14.24343114 11.34675215 13.26142242 13.6019179 ]\n"
     ]
    }
   ],
   "source": [
    "# Split features (Newspaper) and target variable (Sales)\n",
    "X = data2[['Newspaper']]\n",
    "y = data2['Sales']\n",
    "\n",
    "# Initialize and fit the linear regression model\n",
    "model = LinearRegression()\n",
    "model.fit(X, y)\n",
    "\n",
    "# Print the coefficients\n",
    "print('Intercept:', model.intercept_)\n",
    "print('Coefficient:', model.coef_[0])\n",
    "\n",
    "# Make predictions\n",
    "predictions = model.predict(X)\n",
    "print('Predictions:', predictions)\n"
   ]
  },
  {
   "cell_type": "markdown",
   "id": "4e56cf50",
   "metadata": {},
   "source": [
    "### Fitting a simple Linear regresseion model between Sales and Radio"
   ]
  },
  {
   "cell_type": "code",
   "execution_count": 37,
   "id": "ebb9a336",
   "metadata": {},
   "outputs": [
    {
     "name": "stdout",
     "output_type": "stream",
     "text": [
      "Intercept: 9.439612147848797\n",
      "Coefficient: 0.12912530086231974\n",
      "Predictions: [14.32054852 14.51423647 15.36646346 14.77248707 10.8341654  15.75383936\n",
      " 13.67492202 11.97046804  9.71077528  9.77533793 10.18853889 12.53861937\n",
      " 13.97191021 10.42096443 13.68783455 15.598889  ]\n"
     ]
    }
   ],
   "source": [
    "# Split features (Radio) and target variable (Sales)\n",
    "X = data2[['Radio']]\n",
    "y = data2['Sales']\n",
    "\n",
    "# Initialize and fit the linear regression model\n",
    "model = LinearRegression()\n",
    "model.fit(X, y)\n",
    "\n",
    "# Print the coefficients\n",
    "print('Intercept:', model.intercept_)\n",
    "print('Coefficient:', model.coef_[0])\n",
    "\n",
    "# Make predictions\n",
    "predictions = model.predict(X)\n",
    "print('Predictions:', predictions)\n"
   ]
  },
  {
   "cell_type": "markdown",
   "id": "479d8926",
   "metadata": {},
   "source": [
    "### Calculate R-Square and Adjusted R-Square by choosing primarily Sales and TV"
   ]
  },
  {
   "cell_type": "code",
   "execution_count": 42,
   "id": "19484915",
   "metadata": {},
   "outputs": [
    {
     "name": "stdout",
     "output_type": "stream",
     "text": [
      "R-Square: 0.6876241989696272\n",
      "Adjusted R-Square: 0.665311641753172\n"
     ]
    }
   ],
   "source": [
    "from sklearn.metrics import r2_score\n",
    "import numpy as np\n",
    "\n",
    "# Split features (TV) and target variable (Sales)\n",
    "X = data2[['TV']]\n",
    "y = data2['Sales']\n",
    "\n",
    "# Initialize and fit the linear regression model\n",
    "model = LinearRegression()\n",
    "model.fit(X, y)\n",
    "\n",
    "# Calculate R-Square\n",
    "y_pred = model.predict(X)\n",
    "r2 = r2_score(y, y_pred)\n",
    "print(\"R-Square:\", r2)\n",
    "\n",
    "# Calculate adjusted R-Square\n",
    "n = len(y)\n",
    "p = X.shape[1]\n",
    "adjusted_r2 = 1 - (1 - r2) * (n - 1) / (n - p - 1)\n",
    "print(\"Adjusted R-Square:\", adjusted_r2)\n"
   ]
  },
  {
   "cell_type": "markdown",
   "id": "e43e65f8",
   "metadata": {},
   "source": [
    "### Comment on the results"
   ]
  },
  {
   "cell_type": "markdown",
   "id": "d30a595d",
   "metadata": {},
   "source": [
    "-TV advertising expenditure appears to have the highest impact on Sales among the three mediums, as indicated by the highest R-Square value.\n",
    "\n",
    "-Radio advertising expenditure also shows a significant impact on Sales, but slightly less than TV.\n",
    "\n",
    "-Newspaper advertising expenditure has the least impact on Sales, with a lower R-Square value compared to TV and Radio.\n",
    "\n",
    "\n",
    "\n",
    "\n"
   ]
  }
 ],
 "metadata": {
  "kernelspec": {
   "display_name": "Python 3 (ipykernel)",
   "language": "python",
   "name": "python3"
  },
  "language_info": {
   "codemirror_mode": {
    "name": "ipython",
    "version": 3
   },
   "file_extension": ".py",
   "mimetype": "text/x-python",
   "name": "python",
   "nbconvert_exporter": "python",
   "pygments_lexer": "ipython3",
   "version": "3.11.4"
  }
 },
 "nbformat": 4,
 "nbformat_minor": 5
}
