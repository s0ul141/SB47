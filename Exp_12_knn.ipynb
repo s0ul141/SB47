{
 "cells": [
  {
   "cell_type": "code",
   "execution_count": 7,
   "id": "99ad9086",
   "metadata": {},
   "outputs": [],
   "source": [
    "import pandas as pd\n",
    "import numpy as np"
   ]
  },
  {
   "cell_type": "code",
   "execution_count": 12,
   "id": "5da62e06",
   "metadata": {},
   "outputs": [],
   "source": [
    "def knn_bby(df,res,args,k):\n",
    "    args=np.array(args)\n",
    "    col=[]\n",
    "    for i in df.drop(columns=res):\n",
    "        col.append(i)\n",
    "    eu_dis=[]\n",
    "    man_dis=[]\n",
    "    for i in df[col].values:\n",
    "        eu_dis.append(np.sqrt(sum((i-args)**2)))\n",
    "        man_dis.append(sum(np.abs(i-args)))\n",
    "    df[\"Euclidean_dis\"]=eu_dis\n",
    "    df[\"Manhattan_dis\"]=man_dis\n",
    "    df=df.sort_values(\"Euclidean_dis\")\n",
    "    eu=df[res][:k]\n",
    "    df=df.sort_values(\"Manhattan_dis\")\n",
    "    ma=df[res][:k]\n",
    "    return eu.max(),ma.max()\n",
    "\n"
   ]
  },
  {
   "cell_type": "code",
   "execution_count": 14,
   "id": "c55a6f06",
   "metadata": {},
   "outputs": [],
   "source": [
    "data=pd.DataFrame({\"Mathematics\":[4,6,7,5,8],\n",
    "                   \"Computer_Science\":[3,7,8,5,8],\n",
    "                   \"Result\":[\"Fail\", \"Pass\", \"Pass\", \"Fail\", \"Pass\"]})"
   ]
  },
  {
   "cell_type": "code",
   "execution_count": 15,
   "id": "c9f57dee",
   "metadata": {},
   "outputs": [
    {
     "name": "stdout",
     "output_type": "stream",
     "text": [
      "euclidean distance : Pass , manhattan distance : Pass\n"
     ]
    }
   ],
   "source": [
    "euc,man=knn_bby(data,\"Result\",[6,8],3)\n",
    "print(\"euclidean distance :\",euc,\", manhattan distance :\",man)"
   ]
  }
 ],
 "metadata": {
  "kernelspec": {
   "display_name": "Python 3 (ipykernel)",
   "language": "python",
   "name": "python3"
  },
  "language_info": {
   "codemirror_mode": {
    "name": "ipython",
    "version": 3
   },
   "file_extension": ".py",
   "mimetype": "text/x-python",
   "name": "python",
   "nbconvert_exporter": "python",
   "pygments_lexer": "ipython3",
   "version": "3.11.4"
  }
 },
 "nbformat": 4,
 "nbformat_minor": 5
}
