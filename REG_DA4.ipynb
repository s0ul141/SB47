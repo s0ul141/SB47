{
 "cells": [
  {
   "cell_type": "markdown",
   "id": "eb418e48",
   "metadata": {},
   "source": [
    "## Question 1\n",
    "\n",
    "\n",
    "Problem 1: Take any geographical data of size 50 consisting at least 5 variables (eg: longitude, latitude,\n",
    "temperature, elevation, area). Fit a multiple regression model and check the validity of model based on the\n",
    "assumptions: Linearity, Normality, Multicollinearity, Autocorrelation and Homoscedasticity.\n",
    "\n"
   ]
  },
  {
   "cell_type": "code",
   "execution_count": 25,
   "id": "b1c6bb3c",
   "metadata": {},
   "outputs": [],
   "source": [
    "import pandas as pd\n",
    "import numpy as np\n",
    "import statsmodels.api as sm\n",
    "from statsmodels.stats.outliers_influence import variance_inflation_factor\n",
    "import matplotlib.pyplot as plt"
   ]
  },
  {
   "cell_type": "code",
   "execution_count": 9,
   "id": "9ba633cd",
   "metadata": {},
   "outputs": [
    {
     "data": {
      "text/html": [
       "<div>\n",
       "<style scoped>\n",
       "    .dataframe tbody tr th:only-of-type {\n",
       "        vertical-align: middle;\n",
       "    }\n",
       "\n",
       "    .dataframe tbody tr th {\n",
       "        vertical-align: top;\n",
       "    }\n",
       "\n",
       "    .dataframe thead th {\n",
       "        text-align: right;\n",
       "    }\n",
       "</style>\n",
       "<table border=\"1\" class=\"dataframe\">\n",
       "  <thead>\n",
       "    <tr style=\"text-align: right;\">\n",
       "      <th></th>\n",
       "      <th>longitude</th>\n",
       "      <th>latitude</th>\n",
       "      <th>temperature</th>\n",
       "      <th>elevation</th>\n",
       "      <th>area</th>\n",
       "    </tr>\n",
       "  </thead>\n",
       "  <tbody>\n",
       "    <tr>\n",
       "      <th>0</th>\n",
       "      <td>97.373060</td>\n",
       "      <td>-13.872955</td>\n",
       "      <td>8.350300</td>\n",
       "      <td>451.547025</td>\n",
       "      <td>731.586470</td>\n",
       "    </tr>\n",
       "    <tr>\n",
       "      <th>1</th>\n",
       "      <td>-24.144931</td>\n",
       "      <td>8.232742</td>\n",
       "      <td>21.535296</td>\n",
       "      <td>791.075984</td>\n",
       "      <td>951.554448</td>\n",
       "    </tr>\n",
       "    <tr>\n",
       "      <th>2</th>\n",
       "      <td>59.613984</td>\n",
       "      <td>-42.669835</td>\n",
       "      <td>23.249565</td>\n",
       "      <td>57.733477</td>\n",
       "      <td>230.844151</td>\n",
       "    </tr>\n",
       "    <tr>\n",
       "      <th>3</th>\n",
       "      <td>-61.807476</td>\n",
       "      <td>-40.604863</td>\n",
       "      <td>8.923583</td>\n",
       "      <td>694.040816</td>\n",
       "      <td>893.791284</td>\n",
       "    </tr>\n",
       "    <tr>\n",
       "      <th>4</th>\n",
       "      <td>-60.866981</td>\n",
       "      <td>-7.498574</td>\n",
       "      <td>14.364700</td>\n",
       "      <td>1744.422470</td>\n",
       "      <td>758.579925</td>\n",
       "    </tr>\n",
       "    <tr>\n",
       "      <th>...</th>\n",
       "      <td>...</td>\n",
       "      <td>...</td>\n",
       "      <td>...</td>\n",
       "      <td>...</td>\n",
       "      <td>...</td>\n",
       "    </tr>\n",
       "    <tr>\n",
       "      <th>95</th>\n",
       "      <td>-139.341017</td>\n",
       "      <td>-86.369866</td>\n",
       "      <td>14.697251</td>\n",
       "      <td>276.699903</td>\n",
       "      <td>959.990744</td>\n",
       "    </tr>\n",
       "    <tr>\n",
       "      <th>96</th>\n",
       "      <td>8.076315</td>\n",
       "      <td>37.078144</td>\n",
       "      <td>2.883208</td>\n",
       "      <td>65.110548</td>\n",
       "      <td>756.447463</td>\n",
       "    </tr>\n",
       "    <tr>\n",
       "      <th>97</th>\n",
       "      <td>55.683578</td>\n",
       "      <td>-40.522968</td>\n",
       "      <td>8.549527</td>\n",
       "      <td>1032.566675</td>\n",
       "      <td>982.205150</td>\n",
       "    </tr>\n",
       "    <tr>\n",
       "      <th>98</th>\n",
       "      <td>89.522054</td>\n",
       "      <td>-4.443220</td>\n",
       "      <td>13.524718</td>\n",
       "      <td>1530.930196</td>\n",
       "      <td>1.518415</td>\n",
       "    </tr>\n",
       "    <tr>\n",
       "      <th>99</th>\n",
       "      <td>122.149983</td>\n",
       "      <td>89.013253</td>\n",
       "      <td>7.873265</td>\n",
       "      <td>1151.698940</td>\n",
       "      <td>229.682228</td>\n",
       "    </tr>\n",
       "  </tbody>\n",
       "</table>\n",
       "<p>100 rows × 5 columns</p>\n",
       "</div>"
      ],
      "text/plain": [
       "     longitude   latitude  temperature    elevation        area\n",
       "0    97.373060 -13.872955     8.350300   451.547025  731.586470\n",
       "1   -24.144931   8.232742    21.535296   791.075984  951.554448\n",
       "2    59.613984 -42.669835    23.249565    57.733477  230.844151\n",
       "3   -61.807476 -40.604863     8.923583   694.040816  893.791284\n",
       "4   -60.866981  -7.498574    14.364700  1744.422470  758.579925\n",
       "..         ...        ...          ...          ...         ...\n",
       "95 -139.341017 -86.369866    14.697251   276.699903  959.990744\n",
       "96    8.076315  37.078144     2.883208    65.110548  756.447463\n",
       "97   55.683578 -40.522968     8.549527  1032.566675  982.205150\n",
       "98   89.522054  -4.443220    13.524718  1530.930196    1.518415\n",
       "99  122.149983  89.013253     7.873265  1151.698940  229.682228\n",
       "\n",
       "[100 rows x 5 columns]"
      ]
     },
     "execution_count": 9,
     "metadata": {},
     "output_type": "execute_result"
    }
   ],
   "source": [
    "# Load the dataset\n",
    "data = pd.read_excel('geographical_data.xlsx', index_col= 0)\n",
    "data"
   ]
  },
  {
   "cell_type": "code",
   "execution_count": 10,
   "id": "245ea509",
   "metadata": {},
   "outputs": [
    {
     "name": "stdout",
     "output_type": "stream",
     "text": [
      "                            OLS Regression Results                            \n",
      "==============================================================================\n",
      "Dep. Variable:                   area   R-squared:                       0.042\n",
      "Model:                            OLS   Adj. R-squared:                  0.001\n",
      "Method:                 Least Squares   F-statistic:                     1.033\n",
      "Date:                Tue, 09 Apr 2024   Prob (F-statistic):              0.394\n",
      "Time:                        19:52:33   Log-Likelihood:                -705.89\n",
      "No. Observations:                 100   AIC:                             1422.\n",
      "Df Residuals:                      95   BIC:                             1435.\n",
      "Df Model:                           4                                         \n",
      "Covariance Type:            nonrobust                                         \n",
      "===============================================================================\n",
      "                  coef    std err          t      P>|t|      [0.025      0.975]\n",
      "-------------------------------------------------------------------------------\n",
      "const         652.5579    104.421      6.249      0.000     445.255     859.861\n",
      "longitude      -0.4912      0.299     -1.642      0.104      -1.085       0.103\n",
      "latitude       -0.4036      0.609     -0.662      0.509      -1.613       0.806\n",
      "temperature    -4.8025      6.674     -0.720      0.474     -18.051       8.446\n",
      "elevation      -0.0109      0.029     -0.374      0.709      -0.069       0.047\n",
      "==============================================================================\n",
      "Omnibus:                       27.339   Durbin-Watson:                   1.924\n",
      "Prob(Omnibus):                  0.000   Jarque-Bera (JB):                7.453\n",
      "Skew:                          -0.353   Prob(JB):                       0.0241\n",
      "Kurtosis:                       1.864   Cond. No.                     4.95e+03\n",
      "==============================================================================\n",
      "\n",
      "Notes:\n",
      "[1] Standard Errors assume that the covariance matrix of the errors is correctly specified.\n",
      "[2] The condition number is large, 4.95e+03. This might indicate that there are\n",
      "strong multicollinearity or other numerical problems.\n"
     ]
    }
   ],
   "source": [
    "# Fit the multiple regression model\n",
    "X = data[['longitude', 'latitude', 'temperature', 'elevation']]\n",
    "y = data['area']\n",
    "X = sm.add_constant(X)  # Add a constant for the intercept term\n",
    "model = sm.OLS(y, X).fit()\n",
    "\n",
    "# Print the summary of the model\n",
    "print(model.summary())"
   ]
  },
  {
   "cell_type": "code",
   "execution_count": 17,
   "id": "48040da2",
   "metadata": {},
   "outputs": [
    {
     "data": {
      "image/png": "[encoded data removed]",
      "text/plain": [
       "<Figure size 640x480 with 1 Axes>"
      ]
     },
     "metadata": {},
     "output_type": "display_data"
    }
   ],
   "source": [
    "# Assuming X and y are defined\n",
    "X = sm.add_constant(X)  # Add an intercept to our model\n",
    "model = sm.OLS(y, X).fit()  # Fit the model\n",
    "\n",
    "# Get influence of each observation\n",
    "influence = model.get_influence()\n",
    "\n",
    "# Create a scatter plot\n",
    "plt.scatter(influence.hat_matrix_diag, influence.resid_studentized_internal)\n",
    "plt.title('Linearity Check')\n",
    "plt.xlabel('Leverage')\n",
    "plt.ylabel('Standardized Residuals')\n",
    "plt.show()\n"
   ]
  },
  {
   "cell_type": "markdown",
   "id": "73fc0eb8",
   "metadata": {},
   "source": [
    "##### Linearity: The linearity check plot should not show any specific patterns. If there is a pattern, it indicates a violation of the linearity assumption."
   ]
  },
  {
   "cell_type": "code",
   "execution_count": 12,
   "id": "91d8da4b",
   "metadata": {},
   "outputs": [
    {
     "name": "stdout",
     "output_type": "stream",
     "text": [
      "Shapiro-Wilk p-value: 0.00011317392636556178\n"
     ]
    }
   ],
   "source": [
    "# Check for normality\n",
    "import scipy.stats as stats\n",
    "residuals = model.resid\n",
    "_, p_value = stats.shapiro(residuals)\n",
    "print(f'Shapiro-Wilk p-value: {p_value}')\n",
    "\n"
   ]
  },
  {
   "cell_type": "markdown",
   "id": "31de4029",
   "metadata": {},
   "source": [
    "##### Normality: The Shapiro-Wilk p-value should be greater than 0.05 to accept the null hypothesis of normality."
   ]
  },
  {
   "cell_type": "code",
   "execution_count": 13,
   "id": "24371282",
   "metadata": {},
   "outputs": [
    {
     "name": "stdout",
     "output_type": "stream",
     "text": [
      "   VIF Factor     Features\n",
      "0   13.075355        const\n",
      "1    1.018794    longitude\n",
      "2    1.035059     latitude\n",
      "3    1.014725  temperature\n",
      "4    1.011515    elevation\n"
     ]
    }
   ],
   "source": [
    "# Check for multicollinearity\n",
    "vif = pd.DataFrame()\n",
    "vif['VIF Factor'] = [variance_inflation_factor(X.values, i) for i in range(X.shape[1])]\n",
    "vif['Features'] = X.columns\n",
    "print(vif)"
   ]
  },
  {
   "cell_type": "markdown",
   "id": "5c8800be",
   "metadata": {},
   "source": [
    "##### Multicollinearity: The VIF values should be less than 5 (or 10, according to different sources) for all features to avoid multicollinearity issues."
   ]
  },
  {
   "cell_type": "code",
   "execution_count": 14,
   "id": "9aefba3a",
   "metadata": {},
   "outputs": [
    {
     "name": "stdout",
     "output_type": "stream",
     "text": [
      "Durbin-Watson: 1.9242684401770391\n"
     ]
    }
   ],
   "source": [
    "# Check for autocorrelation\n",
    "from statsmodels.stats.stattools import durbin_watson\n",
    "print(f'Durbin-Watson: {durbin_watson(model.resid)}')"
   ]
  },
  {
   "cell_type": "markdown",
   "id": "ab8da789",
   "metadata": {},
   "source": [
    "##### Homoscedasticity: The plot of fitted values vs. residuals should not show any specific pattern. If there is a pattern, it indicates a violation of the homoscedasticity assumption."
   ]
  },
  {
   "cell_type": "code",
   "execution_count": 15,
   "id": "943b266c",
   "metadata": {},
   "outputs": [
    {
     "data": {
      "image/png": "[encoded data removed]",
      "text/plain": [
       "<Figure size 640x480 with 1 Axes>"
      ]
     },
     "metadata": {},
     "output_type": "display_data"
    }
   ],
   "source": [
    "# Check for homoscedasticity\n",
    "plt.scatter(model.fittedvalues, model.resid)\n",
    "plt.title('Homoscedasticity Check')\n",
    "plt.xlabel('Fitted Values')\n",
    "plt.ylabel('Residuals')\n",
    "plt.show()"
   ]
  },
  {
   "cell_type": "markdown",
   "id": "6d595911",
   "metadata": {},
   "source": [
    "##### Homoscedasticity: The plot of fitted values vs. residuals should not show any specific pattern. If there is a pattern, it indicates a violation of the homoscedasticity assumption."
   ]
  },
  {
   "cell_type": "markdown",
   "id": "bdcbad81",
   "metadata": {},
   "source": [
    "## Question 2\n",
    "Create your own dataset of size 15 having 4 variables for Sport area and test for multicollinearity\n",
    "using VIF. Further remove and combine the highly correlated variables and test them again for multicollinearity\n",
    "using VIF.\n"
   ]
  },
  {
   "cell_type": "code",
   "execution_count": 26,
   "id": "bd3d5aab",
   "metadata": {},
   "outputs": [],
   "source": [
    "from statsmodels.stats.outliers_influence import variance_inflation_factor"
   ]
  },
  {
   "cell_type": "code",
   "execution_count": 27,
   "id": "642cf426",
   "metadata": {},
   "outputs": [
    {
     "data": {
      "text/html": [
       "<div>\n",
       "<style scoped>\n",
       "    .dataframe tbody tr th:only-of-type {\n",
       "        vertical-align: middle;\n",
       "    }\n",
       "\n",
       "    .dataframe tbody tr th {\n",
       "        vertical-align: top;\n",
       "    }\n",
       "\n",
       "    .dataframe thead th {\n",
       "        text-align: right;\n",
       "    }\n",
       "</style>\n",
       "<table border=\"1\" class=\"dataframe\">\n",
       "  <thead>\n",
       "    <tr style=\"text-align: right;\">\n",
       "      <th></th>\n",
       "      <th>Players</th>\n",
       "      <th>Area_sqft</th>\n",
       "      <th>Revenue_million</th>\n",
       "      <th>Expenses_million</th>\n",
       "    </tr>\n",
       "  </thead>\n",
       "  <tbody>\n",
       "    <tr>\n",
       "      <th>0</th>\n",
       "      <td>25</td>\n",
       "      <td>5000</td>\n",
       "      <td>2.5</td>\n",
       "      <td>1.8</td>\n",
       "    </tr>\n",
       "    <tr>\n",
       "      <th>1</th>\n",
       "      <td>18</td>\n",
       "      <td>3500</td>\n",
       "      <td>1.2</td>\n",
       "      <td>0.9</td>\n",
       "    </tr>\n",
       "    <tr>\n",
       "      <th>2</th>\n",
       "      <td>32</td>\n",
       "      <td>7000</td>\n",
       "      <td>4.8</td>\n",
       "      <td>3.2</td>\n",
       "    </tr>\n",
       "    <tr>\n",
       "      <th>3</th>\n",
       "      <td>20</td>\n",
       "      <td>4200</td>\n",
       "      <td>1.8</td>\n",
       "      <td>1.3</td>\n",
       "    </tr>\n",
       "    <tr>\n",
       "      <th>4</th>\n",
       "      <td>28</td>\n",
       "      <td>6000</td>\n",
       "      <td>3.2</td>\n",
       "      <td>2.4</td>\n",
       "    </tr>\n",
       "    <tr>\n",
       "      <th>5</th>\n",
       "      <td>22</td>\n",
       "      <td>4800</td>\n",
       "      <td>2.1</td>\n",
       "      <td>1.6</td>\n",
       "    </tr>\n",
       "    <tr>\n",
       "      <th>6</th>\n",
       "      <td>30</td>\n",
       "      <td>6500</td>\n",
       "      <td>4.0</td>\n",
       "      <td>2.9</td>\n",
       "    </tr>\n",
       "    <tr>\n",
       "      <th>7</th>\n",
       "      <td>24</td>\n",
       "      <td>5200</td>\n",
       "      <td>2.7</td>\n",
       "      <td>1.9</td>\n",
       "    </tr>\n",
       "    <tr>\n",
       "      <th>8</th>\n",
       "      <td>27</td>\n",
       "      <td>5800</td>\n",
       "      <td>3.0</td>\n",
       "      <td>2.2</td>\n",
       "    </tr>\n",
       "    <tr>\n",
       "      <th>9</th>\n",
       "      <td>26</td>\n",
       "      <td>5500</td>\n",
       "      <td>2.9</td>\n",
       "      <td>2.1</td>\n",
       "    </tr>\n",
       "    <tr>\n",
       "      <th>10</th>\n",
       "      <td>31</td>\n",
       "      <td>6800</td>\n",
       "      <td>4.5</td>\n",
       "      <td>3.0</td>\n",
       "    </tr>\n",
       "    <tr>\n",
       "      <th>11</th>\n",
       "      <td>19</td>\n",
       "      <td>4000</td>\n",
       "      <td>1.5</td>\n",
       "      <td>1.1</td>\n",
       "    </tr>\n",
       "    <tr>\n",
       "      <th>12</th>\n",
       "      <td>23</td>\n",
       "      <td>5000</td>\n",
       "      <td>2.4</td>\n",
       "      <td>1.7</td>\n",
       "    </tr>\n",
       "    <tr>\n",
       "      <th>13</th>\n",
       "      <td>29</td>\n",
       "      <td>6200</td>\n",
       "      <td>3.8</td>\n",
       "      <td>2.6</td>\n",
       "    </tr>\n",
       "    <tr>\n",
       "      <th>14</th>\n",
       "      <td>21</td>\n",
       "      <td>4500</td>\n",
       "      <td>1.9</td>\n",
       "      <td>1.4</td>\n",
       "    </tr>\n",
       "  </tbody>\n",
       "</table>\n",
       "</div>"
      ],
      "text/plain": [
       "    Players  Area_sqft  Revenue_million  Expenses_million\n",
       "0        25       5000              2.5               1.8\n",
       "1        18       3500              1.2               0.9\n",
       "2        32       7000              4.8               3.2\n",
       "3        20       4200              1.8               1.3\n",
       "4        28       6000              3.2               2.4\n",
       "5        22       4800              2.1               1.6\n",
       "6        30       6500              4.0               2.9\n",
       "7        24       5200              2.7               1.9\n",
       "8        27       5800              3.0               2.2\n",
       "9        26       5500              2.9               2.1\n",
       "10       31       6800              4.5               3.0\n",
       "11       19       4000              1.5               1.1\n",
       "12       23       5000              2.4               1.7\n",
       "13       29       6200              3.8               2.6\n",
       "14       21       4500              1.9               1.4"
      ]
     },
     "execution_count": 27,
     "metadata": {},
     "output_type": "execute_result"
    }
   ],
   "source": [
    "# Create a sample dataset\n",
    "data = {\n",
    "    'Players': [25, 18, 32, 20, 28, 22, 30, 24, 27, 26, 31, 19, 23, 29, 21],\n",
    "    'Area_sqft': [5000, 3500, 7000, 4200, 6000, 4800, 6500, 5200, 5800, 5500, 6800, 4000, 5000, 6200, 4500],\n",
    "    'Revenue_million': [2.5, 1.2, 4.8, 1.8, 3.2, 2.1, 4.0, 2.7, 3.0, 2.9, 4.5, 1.5, 2.4, 3.8, 1.9],\n",
    "    'Expenses_million': [1.8, 0.9, 3.2, 1.3, 2.4, 1.6, 2.9, 1.9, 2.2, 2.1, 3.0, 1.1, 1.7, 2.6, 1.4]\n",
    "}\n",
    "\n",
    "data = pd.DataFrame(data)\n",
    "data"
   ]
  },
  {
   "cell_type": "code",
   "execution_count": 28,
   "id": "b58f0d65",
   "metadata": {},
   "outputs": [
    {
     "name": "stdout",
     "output_type": "stream",
     "text": [
      "Initial VIF values:\n",
      "     VIF Factor           Feature\n",
      "0  1912.313321           Players\n",
      "1  2393.699048         Area_sqft\n",
      "2   777.375156   Revenue_million\n",
      "3  1137.502732  Expenses_million\n"
     ]
    }
   ],
   "source": [
    "# Calculate VIF\n",
    "features = ['Players', 'Area_sqft', 'Revenue_million', 'Expenses_million']\n",
    "vif = pd.DataFrame()\n",
    "vif['VIF Factor'] = [variance_inflation_factor(data[features].values, i) for i in range(len(features))]\n",
    "vif['Feature'] = features\n",
    "print(\"Initial VIF values:\\n\", vif)"
   ]
  },
  {
   "cell_type": "code",
   "execution_count": 29,
   "id": "0cc26528",
   "metadata": {},
   "outputs": [
    {
     "name": "stdout",
     "output_type": "stream",
     "text": [
      "\n",
      "Highly correlated features: []\n"
     ]
    }
   ],
   "source": [
    "# Remove highly correlated variables\n",
    "vif = vif[vif['VIF Factor'] < 5]\n",
    "features_to_remove = vif[vif['VIF Factor'] >= 5]['Feature'].tolist()\n",
    "print(\"\\nHighly correlated features:\", features_to_remove)"
   ]
  },
  {
   "cell_type": "markdown",
   "id": "ff6b72cd",
   "metadata": {},
   "source": [
    "we will combine correlated vaiables, when we have highly correlated(i.e.,correlation >=0.8) features or else there is no need."
   ]
  },
  {
   "cell_type": "code",
   "execution_count": null,
   "id": "77979d02",
   "metadata": {},
   "outputs": [],
   "source": [
    "# Combine correlated variables\n",
    "\n",
    "\n",
    "data['Revenue_Expenses_million'] = data['Revenue_million'] - data['Expenses_million']\n",
    "data.drop(['Revenue_million', 'Expenses_million'], axis=1, inplace=True)"
   ]
  }
 ],
 "metadata": {
  "kernelspec": {
   "display_name": "Python 3 (ipykernel)",
   "language": "python",
   "name": "python3"
  },
  "language_info": {
   "codemirror_mode": {
    "name": "ipython",
    "version": 3
   },
   "file_extension": ".py",
   "mimetype": "text/x-python",
   "name": "python",
   "nbconvert_exporter": "python",
   "pygments_lexer": "ipython3",
   "version": "3.11.4"
  }
 },
 "nbformat": 4,
 "nbformat_minor": 5
}
