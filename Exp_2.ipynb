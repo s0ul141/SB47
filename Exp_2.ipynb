{
 "cells": [
  {
   "cell_type": "markdown",
   "id": "dc44f010",
   "metadata": {},
   "source": [
    "Write a Python code to display the regression line equation for  (x_i,y_i), i=1,2, ....,n  using least square method. Use the code for the following:\n",
    "\n",
    " x: 14 , 16 , 18 , 20 , 24 , 30 , 32 \n",
    "\n",
    " y: 52 , 62 , 65 , 70 , 76 , 80 , 78"
   ]
  },
  {
   "cell_type": "code",
   "execution_count": 1,
   "id": "b580dd55",
   "metadata": {},
   "outputs": [
    {
     "name": "stdout",
     "output_type": "stream",
     "text": [
      "The equation of the regression line is: y = 1.3333333333333333x + 39.66666666666667\n"
     ]
    }
   ],
   "source": [
    "import numpy as np\n",
    "\n",
    "# Define the x and y data\n",
    "x = np.array([14, 16, 18, 20, 24, 30, 32])\n",
    "y = np.array([52, 62, 65, 70, 76, 80, 78])\n",
    "\n",
    "# Calculate the mean of x and y\n",
    "mean_x = np.mean(x)\n",
    "mean_y = np.mean(y)\n",
    "\n",
    "# Calculate the terms needed for the num and den (numerator and denominator) of beta\n",
    "num = np.sum((x - mean_x) * (y - mean_y))\n",
    "den = np.sum((x - mean_x)**2)\n",
    "\n",
    "# Calculate beta and alpha\n",
    "beta = num / den\n",
    "alpha = mean_y - (beta * mean_x)\n",
    "\n",
    "# Print the equation of the regression line\n",
    "print(f\"The equation of the regression line is: y = {beta}x + {alpha}\")\n",
    "\n"
   ]
  }
 ],
 "metadata": {
  "kernelspec": {
   "display_name": "Python 3 (ipykernel)",
   "language": "python",
   "name": "python3"
  },
  "language_info": {
   "codemirror_mode": {
    "name": "ipython",
    "version": 3
   },
   "file_extension": ".py",
   "mimetype": "text/x-python",
   "name": "python",
   "nbconvert_exporter": "python",
   "pygments_lexer": "ipython3",
   "version": "3.11.4"
  }
 },
 "nbformat": 4,
 "nbformat_minor": 5
}
