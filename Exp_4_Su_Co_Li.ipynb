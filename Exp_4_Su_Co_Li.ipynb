{
 "cells": [
  {
   "cell_type": "markdown",
   "id": "32970976",
   "metadata": {},
   "source": [
    "Write a Python function to return the values of support, confidence and lift. Use the function to find  A -> D, A -> C, C -> A,( B, C )->A    for the following transactions:\n",
    "\n",
    " Trans. ID: T_1, T_2,  T_3,  T_4, T_5 \n",
    "Items: [A,B,C],  [A,C,D], [B,C,D], [A,D,E], [B,C,E]"
   ]
  },
  {
   "cell_type": "code",
   "execution_count": 1,
   "id": "4dff8c86",
   "metadata": {},
   "outputs": [],
   "source": [
    "\n",
    "# Define a function to calculate support\n",
    "def calculate_support(X, transactions):\n",
    "    count = 0\n",
    "    for transaction in transactions:\n",
    "        if set(X).issubset(set(transaction)):\n",
    "            count += 1\n",
    "    return count / len(transactions)\n",
    "\n",
    "# Define a function to calculate confidence\n",
    "def calculate_confidence(X, Y, transactions):\n",
    "    return calculate_support(X + Y, transactions) / calculate_support(X, transactions)\n",
    "\n",
    "# Define a function to calculate lift\n",
    "def calculate_lift(X, Y, transactions):\n",
    "    return calculate_confidence(X, Y, transactions) / calculate_support(Y, transactions)\n",
    "\n"
   ]
  },
  {
   "cell_type": "code",
   "execution_count": 4,
   "id": "21c758bf",
   "metadata": {},
   "outputs": [],
   "source": [
    "# Define the transactions\n",
    "transactions = [\n",
    "    ['A', 'B', 'C'],\n",
    "    ['A', 'C', 'D'],\n",
    "    ['B', 'C', 'D'],\n",
    "    ['A', 'D', 'E'],\n",
    "    ['B', 'C', 'E']\n",
    "]\n",
    "# Define the rules\n",
    "rules = [\n",
    "    (['A'], ['D']),\n",
    "    (['A'], ['C']),\n",
    "    (['C'], ['A']),\n",
    "    (['B', 'C'], ['A'])\n",
    "]\n"
   ]
  },
  {
   "cell_type": "code",
   "execution_count": 5,
   "id": "435cfce7",
   "metadata": {},
   "outputs": [
    {
     "name": "stdout",
     "output_type": "stream",
     "text": [
      "Rule: ['A'] -> ['D']\n",
      "Support: 0.4\n",
      "Confidence: 0.6666666666666667\n",
      "Lift: 1.1111111111111114\n",
      "\n",
      "Rule: ['A'] -> ['C']\n",
      "Support: 0.4\n",
      "Confidence: 0.6666666666666667\n",
      "Lift: 0.8333333333333334\n",
      "\n",
      "Rule: ['C'] -> ['A']\n",
      "Support: 0.4\n",
      "Confidence: 0.5\n",
      "Lift: 0.8333333333333334\n",
      "\n",
      "Rule: ['B', 'C'] -> ['A']\n",
      "Support: 0.2\n",
      "Confidence: 0.33333333333333337\n",
      "Lift: 0.5555555555555557\n",
      "\n"
     ]
    }
   ],
   "source": [
    "# Calculate and print the support, confidence and lift for each rule\n",
    "for X, Y in rules:\n",
    "    print(f\"Rule: {X} -> {Y}\")\n",
    "    print(f\"Support: {calculate_support(X + Y, transactions)}\")\n",
    "    print(f\"Confidence: {calculate_confidence(X, Y, transactions)}\")\n",
    "    print(f\"Lift: {calculate_lift(X, Y, transactions)}\")\n",
    "    print()\n",
    "\n"
   ]
  },
  {
   "cell_type": "code",
   "execution_count": 10,
   "id": "0552b06f",
   "metadata": {},
   "outputs": [],
   "source": [
    "def scf(X, Y, transactions):\n",
    "    \n",
    "    def calculate_support(X, transactions):\n",
    "        count = 0\n",
    "        for transaction in transactions:\n",
    "            if set(X).issubset(set(transaction)):\n",
    "                count += 1\n",
    "        return count / len(transactions)\n",
    "\n",
    "    # Define a function to calculate confidence\n",
    "    def calculate_confidence(X, Y, transactions):\n",
    "        return calculate_support(X + Y, transactions) / calculate_support(X, transactions)\n",
    "\n",
    "    # Define a function to calculate lift\n",
    "    def calculate_lift(X, Y, transactions):\n",
    "        return calculate_confidence(X, Y, transactions) / calculate_support(Y, transactions)\n",
    "    \n",
    "    # Call the calculate_support function\n",
    "    support = calculate_support(X, transactions)\n",
    "    \n",
    "    # Call the calculate_confidence function\n",
    "    confidence = calculate_confidence(X, Y, transactions)\n",
    "    \n",
    "    # Call the calculate_lift function\n",
    "    lift = calculate_lift(X, Y, transactions)\n",
    "    \n",
    "    return support, confidence, lift\n"
   ]
  },
  {
   "cell_type": "code",
   "execution_count": 11,
   "id": "f7d03042",
   "metadata": {},
   "outputs": [
    {
     "name": "stdout",
     "output_type": "stream",
     "text": [
      "(0.6, 0.6666666666666667, 1.1111111111111114)\n"
     ]
    }
   ],
   "source": [
    " \n",
    "print (scf('A', 'D',transactions ))"
   ]
  }
 ],
 "metadata": {
  "kernelspec": {
   "display_name": "Python 3 (ipykernel)",
   "language": "python",
   "name": "python3"
  },
  "language_info": {
   "codemirror_mode": {
    "name": "ipython",
    "version": 3
   },
   "file_extension": ".py",
   "mimetype": "text/x-python",
   "name": "python",
   "nbconvert_exporter": "python",
   "pygments_lexer": "ipython3",
   "version": "3.11.4"
  }
 },
 "nbformat": 4,
 "nbformat_minor": 5
}
