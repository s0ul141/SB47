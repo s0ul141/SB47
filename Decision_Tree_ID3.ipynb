{
  "nbformat": 4,
  "nbformat_minor": 0,
  "metadata": {
    "colab": {
      "provenance": []
    },
    "kernelspec": {
      "name": "python3",
      "display_name": "Python 3"
    },
    "language_info": {
      "name": "python"
    }
  },
  "cells": [
    {
      "cell_type": "code",
      "source": [
        "import numpy as np\n",
        "\n",
        "class Node:\n",
        "    def __init__(self, feature=None, value=None, result=None):\n",
        "        self.feature = feature  # Index of feature to split on\n",
        "        self.value = value      # Value of the feature to split on\n",
        "        self.result = result    # Class label for leaf nodes\n",
        "        self.children = {}      # Dictionary to store child nodes\n",
        "\n",
        "def entropy(labels):\n",
        "    unique_labels, counts = np.unique(labels, return_counts=True)\n",
        "    probabilities = counts / len(labels)\n",
        "    entropy_value = -np.sum(probabilities * np.log2(probabilities))\n",
        "    return entropy_value\n",
        "\n",
        "def information_gain(data, feature_index, threshold, labels):\n",
        "    # Split the data based on the given feature and threshold\n",
        "    left_mask = data[:, feature_index] == threshold\n",
        "    right_mask = ~left_mask\n",
        "\n",
        "    # Calculate entropy for the original data\n",
        "    original_entropy = entropy(labels)\n",
        "\n",
        "    # Calculate entropy for the left and right subsets\n",
        "    left_entropy = entropy(labels[left_mask])\n",
        "    right_entropy = entropy(labels[right_mask])\n",
        "\n",
        "    # Calculate information gain\n",
        "    gain = original_entropy - (len(labels[left_mask]) / len(labels) * left_entropy\n",
        "                               + len(labels[right_mask]) / len(labels) * right_entropy)\n",
        "\n",
        "    return gain\n",
        "\n",
        "def find_best_split(data, labels):\n",
        "    num_features = data.shape[1]\n",
        "    best_feature = None\n",
        "    best_threshold = None\n",
        "    max_gain = -1\n",
        "\n",
        "    for feature_index in range(num_features):\n",
        "        unique_values = np.unique(data[:, feature_index])\n",
        "        thresholds = unique_values\n",
        "\n",
        "        for threshold in thresholds:\n",
        "            gain = information_gain(data, feature_index, threshold, labels)\n",
        "\n",
        "            if gain > max_gain:\n",
        "                max_gain = gain\n",
        "                best_feature = feature_index\n",
        "                best_threshold = threshold\n",
        "\n",
        "    return best_feature, best_threshold\n",
        "\n",
        "def id3(data, labels, feature_names):\n",
        "    # Base case: if all labels are the same, return a leaf node\n",
        "    if len(np.unique(labels)) == 1:\n",
        "        return Node(result=labels[0])\n",
        "\n",
        "    # Base case: if no features left to split on, return a leaf node with the majority class\n",
        "    if data.shape[1] == 0:\n",
        "        majority_class = np.bincount(labels).argmax()\n",
        "        return Node(result=majority_class)\n",
        "\n",
        "    # Find the best feature and threshold to split on\n",
        "    best_feature, best_threshold = find_best_split(data, labels)\n",
        "\n",
        "    # Base case: if no useful split is found, return a leaf node with the majority class\n",
        "    if best_feature is None:\n",
        "        majority_class = np.bincount(labels).argmax()\n",
        "        return Node(result=majority_class)\n",
        "\n",
        "    # Split the data based on the best feature and threshold\n",
        "    left_mask = data[:, best_feature] == best_threshold\n",
        "    right_mask = ~left_mask\n",
        "\n",
        "    # Recursively build the tree for the left and right subsets\n",
        "    left_child = id3(data[left_mask], labels[left_mask], feature_names)\n",
        "    right_child = id3(data[right_mask], labels[right_mask], feature_names)\n",
        "\n",
        "    # Create a node for the best split\n",
        "    node = Node(feature=feature_names[best_feature], value=best_threshold)\n",
        "    node.children[\"{}\".format(best_threshold)] = left_child\n",
        "    node.children[\"not {}\".format(best_threshold)] = right_child\n",
        "\n",
        "    return node\n",
        "\n",
        "def predict(node, sample, feature_names):\n",
        "    if node.result is not None:\n",
        "        return node.result\n",
        "\n",
        "    if sample[feature_names.index(node.feature)] == node.value:\n",
        "        return predict(node.children[\"{}\".format(node.value)], sample, feature_names)\n",
        "    else:\n",
        "        return predict(node.children[\"not {}\".format(node.value)], sample, feature_names)\n",
        "\n"
      ],
      "metadata": {
        "id": "CuLsqA8j4-TI"
      },
      "execution_count": 18,
      "outputs": []
    },
    {
      "cell_type": "code",
      "source": [
        "# Example usage:\n",
        "x = [['Sunny', 'Warm', 'High', 'Strong'],\n",
        "     ['Sunny', 'Warm', 'Low', 'Weak'],\n",
        "     ['Cloudy', 'Cool', 'High', 'Strong'],\n",
        "     ['Cloudy', 'Cool', 'Low', 'Weak']]\n",
        "y = ['No', 'Yes', 'No', 'Yes']\n",
        "feature_names = ['Outlook', 'Temperature', 'Humidity', 'Wind']\n",
        "\n",
        "# Convert categorical features to numerical values\n",
        "for i in range(len(x[0])):\n",
        "    unique_values = np.unique([row[i] for row in x])\n",
        "    value_mapping = {value: idx for idx, value in enumerate(unique_values)}\n",
        "    for j in range(len(x)):\n",
        "        x[j][i] = value_mapping[x[j][i]]\n",
        "print (\"X\",x)\n",
        "# Convert labels to numerical values (0 and 1)\n",
        "label_mapping = {'No': 0, 'Yes': 1}\n",
        "y = [label_mapping[label] for label in y]\n",
        "print(\"Y\",y)"
      ],
      "metadata": {
        "colab": {
          "base_uri": "https://localhost:8080/"
        },
        "id": "JeODVWIG5D0h",
        "outputId": "349e7179-4743-4d73-a6ff-8fdb5ba6ad13"
      },
      "execution_count": 25,
      "outputs": [
        {
          "output_type": "stream",
          "name": "stdout",
          "text": [
            "X [[2, 1, 0, 0], [2, 1, 1, 1], [0, 0, 0, 0], [1, 0, 1, 1]]\n",
            "Y [0, 1, 0, 1]\n"
          ]
        }
      ]
    },
    {
      "cell_type": "code",
      "source": [
        "data = np.array(x, dtype=int)\n",
        "labels = np.array(y)\n",
        "\n",
        "# Build the decision tree\n",
        "tree = id3(data, labels, feature_names)\n",
        "\n",
        "# Make predictions\n",
        "sample = [0, 1, 0, 1]  # ['Sunny', 'Warm', 'Low', 'Weak']\n",
        "prediction = predict(tree, sample, feature_names)\n",
        "print(\"Prediction:\", prediction)\n"
      ],
      "metadata": {
        "colab": {
          "base_uri": "https://localhost:8080/"
        },
        "id": "YXZcjMIP56b5",
        "outputId": "e9b16a13-496e-4ece-d310-62e4edee3f3c"
      },
      "execution_count": 23,
      "outputs": [
        {
          "output_type": "stream",
          "name": "stdout",
          "text": [
            "Prediction: 0\n"
          ]
        }
      ]
    }
  ]
}