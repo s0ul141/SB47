{
 "cells": [
  {
   "cell_type": "code",
   "execution_count": 2,
   "id": "0ed17ce8",
   "metadata": {},
   "outputs": [],
   "source": [
    "import matplotlib.pyplot as plt\n",
    "import numpy as np"
   ]
  },
  {
   "cell_type": "code",
   "execution_count": 3,
   "id": "995e038b",
   "metadata": {},
   "outputs": [],
   "source": [
    "%matplotlib qt\n",
    "##ppstyle\n",
    "x1=np.linspace(-np.pi,   np.pi,100)\n",
    "y1=np.sin(x1)\n",
    "y2=np.cos(x1)\n",
    "\n",
    "plt.plot(x1,y1,':r', label='sin(x)') #-- for dashed, -. for dash dot, : ofr dotted\n",
    "plt.plot(x1,y2,'-.k' ,label='cos(x)')\n",
    "plt.xlabel(\"X-axis\")\n",
    "plt.ylabel(\"Y-axis\")\n",
    "plt.title(\"plots of $\\sin(x)$ and $\\cos(x)$\")\n",
    "plt.legend()\n",
    "plt.show()"
   ]
  },
  {
   "cell_type": "code",
   "execution_count": 11,
   "id": "c13c30db",
   "metadata": {},
   "outputs": [],
   "source": [
    "#oo style\n",
    "fig, ax=plt.subplots()\n",
    "\n",
    "x2=np.linspace(50*-np.pi,50*np.pi,100)\n",
    "y3=np.sin(x2)\n",
    "y4=np.cos(x2)\n",
    "ax.plot(x2,y3, '-m')\n",
    "ax.plot(x2,y4, '--g')\n",
    "ax.set_xlabel(\"x-axis\")\n",
    "ax.set_ylabel(\"y-axis\")\n",
    "ax.set_title(\"plot for $\\ sin(x)$ and $\\cos(x)$\" )\n",
    "ax.legend(['sin(x)', 'cos(x)'])#we dont use legend like this rather we write within the plot(_,_,lable=\"\")\n",
    "plt.show()"
   ]
  },
  {
   "cell_type": "code",
   "execution_count": 10,
   "id": "f437d747",
   "metadata": {},
   "outputs": [
    {
     "name": "stderr",
     "output_type": "stream",
     "text": [
      "No handles with labels found to put in legend.\n"
     ]
    }
   ],
   "source": [
    "fig, ax=plt.subplots()\n",
    "\n",
    "x2=np.linspace(50*-np.pi,50*np.pi,100)\n",
    "y3=np.sin(x2)\n",
    "y4=np.tan(x2)\n",
    "ax.plot(x2,y3, '--m')\n",
    "ax.plot(x2,y4, '>g', ms=\"10\", markeredgecolor=\"red\") #o, >, <, * showing the data points\n",
    "ax.set_xlabel(\"x-axis\")\n",
    "ax.set_ylabel(\"y-axis\")\n",
    "ax.set_title(\"plot for $\\ sin(x)$ and $\\cos(x)$\" )\n",
    "#ax.legend(['sin(x)', 'tan(x)'])#we dont use legend like this rather we write within the plot(_,_,lable=\"\")\n",
    "ax.legend()\n",
    "plt.show()"
   ]
  },
  {
   "cell_type": "code",
   "execution_count": 6,
   "id": "f35412a5",
   "metadata": {},
   "outputs": [],
   "source": [
    "fig, ax=plt.subplots(2,2)#2 row 2 colums\n",
    "\n",
    "x2=np.linspace(5*-np.pi,5*np.pi,100)\n",
    "y3=np.sin(x2)\n",
    "y4=np.cos(x2)\n",
    "ax[0,0].plot(x2,y3, '-m', label=\"sin(x)\" )\n",
    "ax[0,0].set_title(\"plot for sin(x)\")\n",
    "ax[1,1].plot(x2,y4, '--g', label=\"cos(X)\")\n",
    "ax[1,1].set_title(\"plot for cos(x)\")\n",
    "ax[1,0].plot((0,5,3),(2,2,0))\n",
    "ax[0,1].remove()\n",
    "ax[0,0].legend()\n",
    "ax[1,1].legend()\n",
    "plt.show()"
   ]
  },
  {
   "cell_type": "code",
   "execution_count": 7,
   "id": "a1417bea",
   "metadata": {},
   "outputs": [
    {
     "data": {
      "text/plain": [
       "<function matplotlib.pyplot.show(*, block=None)>"
      ]
     },
     "execution_count": 7,
     "metadata": {},
     "output_type": "execute_result"
    }
   ],
   "source": [
    "plt.barh((0,5,3),(2,2,6),color=\"blue\" )\n",
    "\n",
    "plt.bar((0,5,3),(2,2,6),color=\"red\" )\n",
    "plt.show"
   ]
  },
  {
   "cell_type": "code",
   "execution_count": 8,
   "id": "30361651",
   "metadata": {},
   "outputs": [
    {
     "data": {
      "text/plain": [
       "<function matplotlib.pyplot.show(*, block=None)>"
      ]
     },
     "execution_count": 8,
     "metadata": {},
     "output_type": "execute_result"
    }
   ],
   "source": [
    "x=np.random.randn(1000)\n",
    "y=np.random.randn(1000)\n",
    "plt.scatter(x,y, marker=\"*\")\n",
    "plt.show"
   ]
  },
  {
   "cell_type": "code",
   "execution_count": 9,
   "id": "84ab313e",
   "metadata": {},
   "outputs": [
    {
     "data": {
      "text/plain": [
       "<function matplotlib.pyplot.show(*, block=None)>"
      ]
     },
     "execution_count": 9,
     "metadata": {},
     "output_type": "execute_result"
    }
   ],
   "source": [
    "x=np.random.randn(1000)\n",
    "y=np.random.randn(1000)\n",
    "fig, ax= plt.subplots(figsize=(10,10))\n",
    "ax.scatter(x,y, marker=\"*\")\n",
    "plt.show"
   ]
  }
 ],
 "metadata": {
  "kernelspec": {
   "display_name": "Python 3 (ipykernel)",
   "language": "python",
   "name": "python3"
  },
  "language_info": {
   "codemirror_mode": {
    "name": "ipython",
    "version": 3
   },
   "file_extension": ".py",
   "mimetype": "text/x-python",
   "name": "python",
   "nbconvert_exporter": "python",
   "pygments_lexer": "ipython3",
   "version": "3.9.7"
  }
 },
 "nbformat": 4,
 "nbformat_minor": 5
}
