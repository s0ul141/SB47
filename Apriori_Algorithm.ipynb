{
 "cells": [
  {
   "cell_type": "markdown",
   "id": "a352e9b9",
   "metadata": {},
   "source": [
    "## Apriori algorithm\n",
    "    Support Confidence and Lift"
   ]
  },
  {
   "cell_type": "code",
   "execution_count": 35,
   "id": "87b0dec1",
   "metadata": {},
   "outputs": [],
   "source": [
    "# fucntion to calculate support confidence and lift based on given RULE\n",
    "def calculate_support_confidence_lift(rule, df):\n",
    "    items = [item.strip() for item in rule.split('=>')]\n",
    "    if len(items) != 2:\n",
    "        print(\"Invalid rule format. Use 'A=>B', 'C,D=>A', 'A,C=>E,F', etc.\")\n",
    "        return 0, 0, 0\n",
    "\n",
    "    antecedent, consequent = items\n",
    "\n",
    "    # Extracting items from the rule\n",
    "    antecedent_items = [item.strip() for item in antecedent.split(',')]\n",
    "    consequent_items = [item.strip() for item in consequent.split(',')]\n",
    "\n",
    "    # Calculate counts\n",
    "    intersection_count = len(df[df['Items'].apply(lambda x: all(item in x.split(',') \n",
    "                                                                for item in antecedent_items + consequent_items))])\n",
    "    antecedent_count = len(df[df['Items'].apply(lambda x: all(item in x.split(',') for item in antecedent_items))])\n",
    "    consequent_count = len(df[df['Items'].apply(lambda x: all(item in x.split(',') for item in consequent_items))])\n",
    "    total_transactions = len(df)\n",
    "\n",
    "    support, confidence, lift = 0, 0, 0\n",
    "\n",
    "    if total_transactions > 0:\n",
    "        support = intersection_count / total_transactions\n",
    "        confidence = support / (antecedent_count / total_transactions) if antecedent_count > 0 else 0\n",
    "        lift = support / ((antecedent_count / total_transactions) * \n",
    "                          (consequent_count / total_transactions))if antecedent_count > 0 and consequent_count > 0 else 0\n",
    "\n",
    "    return support, confidence, lift\n"
   ]
  },
  {
   "cell_type": "code",
   "execution_count": 36,
   "id": "d7822e5d",
   "metadata": {},
   "outputs": [],
   "source": [
    "# Read the CSV file using pandas\n",
    "file_path = \"D:/Downloads/at5_transactions.csv\" #Give ur own file path / data set \n",
    "df = pd.read_csv(file_path)"
   ]
  },
  {
   "cell_type": "code",
   "execution_count": 37,
   "id": "fea77ce3",
   "metadata": {},
   "outputs": [
    {
     "name": "stdout",
     "output_type": "stream",
     "text": [
      "Enter the association rule (e.g., 'A=>B', 'C,D=>A', 'A,C=>E,F', etc.): A=>B\n",
      "Support: 0.10\n",
      "Confidence: 0.36\n",
      "Lift: 0.89\n"
     ]
    }
   ],
   "source": [
    "# Example: User input for the association rule\n",
    "user_rule = input(\"Enter the association rule (e.g., 'A=>B', 'C,D=>A', 'A,C=>E,F', etc.): \")\n",
    "\n",
    "support, confidence, lift = calculate_support_confidence_lift(user_rule, df)\n",
    "\n",
    "print(f\"Support: {support:.2f}\")\n",
    "print(f\"Confidence: {confidence:.2f}\")\n",
    "print(f\"Lift: {lift:.2f}\")"
   ]
  },
  {
   "cell_type": "markdown",
   "id": "28ad8df7",
   "metadata": {},
   "source": [
    "## Link for Dataset is here\n",
    "    https://github.com/s0ul141/SB47/blob/main/generate_transactions.ipynb"
   ]
  }
 ],
 "metadata": {
  "kernelspec": {
   "display_name": "Python 3 (ipykernel)",
   "language": "python",
   "name": "python3"
  },
  "language_info": {
   "codemirror_mode": {
    "name": "ipython",
    "version": 3
   },
   "file_extension": ".py",
   "mimetype": "text/x-python",
   "name": "python",
   "nbconvert_exporter": "python",
   "pygments_lexer": "ipython3",
   "version": "3.11.4"
  }
 },
 "nbformat": 4,
 "nbformat_minor": 5
}
