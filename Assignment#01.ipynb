{
 "cells": [
  {
   "cell_type": "markdown",
   "id": "2711d0fd",
   "metadata": {},
   "source": [
    "q.1>> Pattern"
   ]
  },
  {
   "cell_type": "code",
   "execution_count": 11,
   "id": "87308e13",
   "metadata": {},
   "outputs": [
    {
     "name": "stdout",
     "output_type": "stream",
     "text": [
      "Enter the number of star's(*) you want 11\n",
      "***********\n",
      "**********\n",
      "*********\n",
      "********\n",
      "*******\n",
      "******\n",
      "*****\n",
      "****\n",
      "***\n",
      "**\n",
      "*\n"
     ]
    }
   ],
   "source": [
    "n = int(input(\"Enter the number of star's(*) you want \"))\n",
    "for i in range (n, 0, -1): #controls the line change\n",
    "    for j in range (0, i): #controls the inline change\n",
    "        print (\"*\", end=\"\")\n",
    "    print()"
   ]
  },
  {
   "cell_type": "markdown",
   "id": "198494a2",
   "metadata": {},
   "source": [
    "q.2>> This code accepts a list of integers (-ve or +ve) and sum of squares of +ve int, sum  of cube of -ve int"
   ]
  },
  {
   "cell_type": "code",
   "execution_count": null,
   "id": "d2336637",
   "metadata": {},
   "outputs": [],
   "source": [
    "\n",
    "n=10 #a/c we have to accepts the list of 10 so we are assigning 'n' with 10\n",
    "l=[] # initializing an empty list\n",
    "neg_sum=0 #initializing neg_sum to store the sum of -ve int\n",
    "pos_sum=0 #initializing pos_sum to store the sum of +ve int\n",
    "for i in range (0, n): \n",
    "    s= int(input(\"Enter an Integer :\")) \n",
    "    l.append(s) #appending items to the list 'l'\n",
    "for i in range (0, n):\n",
    "    if (l[i]>0):\n",
    "        pos_sum=pos_sum+(l[i]**2)\n",
    "    else:\n",
    "        neg_sum=neg_sum+(l[i]**3)\n",
    "print (\"Sum of Square of Positive Integers\", +pos_sum)\n",
    "print (\"Sum of Cube of Negative Integers\", +neg_sum)"
   ]
  },
  {
   "cell_type": "markdown",
   "id": "cae1b998",
   "metadata": {},
   "source": [
    "q.3>> Euclidean distance between 2 points of N-dimensions"
   ]
  },
  {
   "cell_type": "code",
   "execution_count": 21,
   "id": "41690903",
   "metadata": {},
   "outputs": [
    {
     "name": "stdout",
     "output_type": "stream",
     "text": [
      "Enter the number of dimensions you want: 4\n",
      "Enter the values for a: 32\n",
      "Enter the values for b: 31\n",
      "Enter the values for a: 34\n",
      "Enter the values for b: 20\n",
      "Enter the values for a: 3\n",
      "Enter the values for b: 7\n",
      "Enter the values for a: 8\n",
      "Enter the values for b: 2\n",
      "coordinates of A are (32, 34, 3, 8)\n",
      "coordinates of B are (31, 20, 7, 2)\n",
      "The Euclidian Distance between the given points are  15.7797338380595\n"
     ]
    }
   ],
   "source": [
    "n = int(input(\"Enter the number of dimensions you want: \")) #give dimensions eg., (x1,y1) 2d (x,y,z)3d ...so on (x,y,z,...n) nd\n",
    "a = [] #Point A\n",
    "b = [] #Point B\n",
    "d=0\n",
    "for i in range(0, n): #taking input from users\n",
    "    s = int(input(\"Enter the values for a: \"))\n",
    "    p = int(input(\"Enter the values for b: \"))\n",
    "    a.append(s) #appending \n",
    "    b.append(p) #appending\n",
    "print (\"coordinates of A are\", tuple(a)) #printing as tuple\n",
    "print (\"coordinates of B are\", tuple(b)) #printing as tuple\n",
    "for i in range (0, n): #summation of points \n",
    "    d = d+((a[i]-b[i])**2)\n",
    "d=d**0.5 #sqrt of the summation\n",
    "print(\"The Euclidian Distance between the given points are \",+d)"
   ]
  },
  {
   "cell_type": "markdown",
   "id": "fd777f4d",
   "metadata": {},
   "source": [
    "extract number from a string and then reverse only the number or digit part keep the rest alphabet part same"
   ]
  },
  {
   "cell_type": "code",
   "execution_count": null,
   "id": "4349fde5",
   "metadata": {},
   "outputs": [],
   "source": [
    "a= input(\"enter an alpha numeric number: \")\n",
    "res=[] #to store the result \n",
    "num='' #to store the digit\n",
    "for i in a:\n",
    "    if i.isdigit():\n",
    "        num = num+ i #joining the digit\n",
    "    else:\n",
    "        if num:\n",
    "            rev= num[::-1] #reversing the digits\n",
    "            res.append(rev) #appending the digit\n",
    "            num='' #re-initializing \n",
    "        res.append(i) #appending the characters\n",
    "if num: #adding the last left out digits\n",
    "    rev = num[::-1]\n",
    "    res.append(rev) #appending the digit\n",
    "\n",
    "final = ''.join(res) #type casting it from list to string\n",
    "print(final)"
   ]
  }
 ],
 "metadata": {
  "kernelspec": {
   "display_name": "Python 3 (ipykernel)",
   "language": "python",
   "name": "python3"
  },
  "language_info": {
   "codemirror_mode": {
    "name": "ipython",
    "version": 3
   },
   "file_extension": ".py",
   "mimetype": "text/x-python",
   "name": "python",
   "nbconvert_exporter": "python",
   "pygments_lexer": "ipython3",
   "version": "3.11.4"
  }
 },
 "nbformat": 4,
 "nbformat_minor": 5
}
