{
 "cells": [
  {
   "cell_type": "code",
   "execution_count": 1,
   "id": "dab1f7ed",
   "metadata": {},
   "outputs": [],
   "source": [
    "import numpy as np\n",
    "import pandas as pd"
   ]
  },
  {
   "cell_type": "code",
   "execution_count": 56,
   "id": "ffe0ae17",
   "metadata": {},
   "outputs": [],
   "source": [
    "def get_hat_matrix(X):\n",
    "    # Calculate the matrix product X'X\n",
    "    XtX = X.T @X\n",
    "    # Calculate the inverse of (X'X)\n",
    "    XtX_inv = np.linalg.pinv(XtX)\n",
    "    \n",
    "    # Calculate the Hat matrix\n",
    "    H= X@(XtX_inv@X.T)\n",
    "    \n",
    "    return H"
   ]
  },
  {
   "cell_type": "code",
   "execution_count": 2,
   "id": "cf9c09c0",
   "metadata": {},
   "outputs": [
    {
     "data": {
      "text/html": [
       "<div>\n",
       "<style scoped>\n",
       "    .dataframe tbody tr th:only-of-type {\n",
       "        vertical-align: middle;\n",
       "    }\n",
       "\n",
       "    .dataframe tbody tr th {\n",
       "        vertical-align: top;\n",
       "    }\n",
       "\n",
       "    .dataframe thead th {\n",
       "        text-align: right;\n",
       "    }\n",
       "</style>\n",
       "<table border=\"1\" class=\"dataframe\">\n",
       "  <thead>\n",
       "    <tr style=\"text-align: right;\">\n",
       "      <th></th>\n",
       "      <th>Color</th>\n",
       "      <th>Quality</th>\n",
       "      <th>Price</th>\n",
       "    </tr>\n",
       "  </thead>\n",
       "  <tbody>\n",
       "    <tr>\n",
       "      <th>0</th>\n",
       "      <td>7</td>\n",
       "      <td>5</td>\n",
       "      <td>65</td>\n",
       "    </tr>\n",
       "    <tr>\n",
       "      <th>1</th>\n",
       "      <td>3</td>\n",
       "      <td>7</td>\n",
       "      <td>38</td>\n",
       "    </tr>\n",
       "    <tr>\n",
       "      <th>2</th>\n",
       "      <td>5</td>\n",
       "      <td>8</td>\n",
       "      <td>51</td>\n",
       "    </tr>\n",
       "    <tr>\n",
       "      <th>3</th>\n",
       "      <td>8</td>\n",
       "      <td>1</td>\n",
       "      <td>38</td>\n",
       "    </tr>\n",
       "    <tr>\n",
       "      <th>4</th>\n",
       "      <td>9</td>\n",
       "      <td>3</td>\n",
       "      <td>55</td>\n",
       "    </tr>\n",
       "    <tr>\n",
       "      <th>5</th>\n",
       "      <td>5</td>\n",
       "      <td>4</td>\n",
       "      <td>43</td>\n",
       "    </tr>\n",
       "    <tr>\n",
       "      <th>6</th>\n",
       "      <td>4</td>\n",
       "      <td>0</td>\n",
       "      <td>25</td>\n",
       "    </tr>\n",
       "    <tr>\n",
       "      <th>7</th>\n",
       "      <td>2</td>\n",
       "      <td>6</td>\n",
       "      <td>33</td>\n",
       "    </tr>\n",
       "    <tr>\n",
       "      <th>8</th>\n",
       "      <td>8</td>\n",
       "      <td>7</td>\n",
       "      <td>71</td>\n",
       "    </tr>\n",
       "    <tr>\n",
       "      <th>9</th>\n",
       "      <td>6</td>\n",
       "      <td>4</td>\n",
       "      <td>51</td>\n",
       "    </tr>\n",
       "    <tr>\n",
       "      <th>10</th>\n",
       "      <td>9</td>\n",
       "      <td>2</td>\n",
       "      <td>49</td>\n",
       "    </tr>\n",
       "  </tbody>\n",
       "</table>\n",
       "</div>"
      ],
      "text/plain": [
       "    Color  Quality  Price\n",
       "0       7        5     65\n",
       "1       3        7     38\n",
       "2       5        8     51\n",
       "3       8        1     38\n",
       "4       9        3     55\n",
       "5       5        4     43\n",
       "6       4        0     25\n",
       "7       2        6     33\n",
       "8       8        7     71\n",
       "9       6        4     51\n",
       "10      9        2     49"
      ]
     },
     "execution_count": 2,
     "metadata": {},
     "output_type": "execute_result"
    }
   ],
   "source": [
    "data = pd.read_excel('DA1_hat_data.xlsx')\n",
    "data"
   ]
  },
  {
   "cell_type": "code",
   "execution_count": 14,
   "id": "b581d5d6",
   "metadata": {},
   "outputs": [
    {
     "name": "stdout",
     "output_type": "stream",
     "text": [
      "Target Variable:\n",
      "0     65\n",
      "1     38\n",
      "2     51\n",
      "3     38\n",
      "4     55\n",
      "5     43\n",
      "6     25\n",
      "7     33\n",
      "8     71\n",
      "9     51\n",
      "10    49\n",
      "Name: Price, dtype: int64\n",
      "\n",
      "Design Matrix (X):\n",
      "(11, 3) \n",
      " [[1. 7. 5.]\n",
      " [1. 3. 7.]\n",
      " [1. 5. 8.]\n",
      " [1. 8. 1.]\n",
      " [1. 9. 3.]\n",
      " [1. 5. 4.]\n",
      " [1. 4. 0.]\n",
      " [1. 2. 6.]\n",
      " [1. 8. 7.]\n",
      " [1. 6. 4.]\n",
      " [1. 9. 2.]]\n"
     ]
    }
   ],
   "source": [
    "\n",
    "# Extract the target variable and regressors\n",
    "target_variable = data['Price']  # the target variable\n",
    "regressors = data[['Color', 'Quality']]  # regressors\n",
    "\n",
    "# Add a column of ones at the beginning of the regressors DataFrame\n",
    "regressors = pd.DataFrame(np.c_[np.ones(len(regressors)), regressors], columns=['ones'] + list(regressors.columns))\n",
    "\n",
    "# Convert the regressors DataFrame to a NumPy matrix\n",
    "X = regressors.values\n",
    "\n",
    "print(\"Target Variable:\")\n",
    "print(target_variable)\n",
    "print(\"\\nDesign Matrix (X):\")\n",
    "print(X.shape,'\\n', X)"
   ]
  },
  {
   "cell_type": "code",
   "execution_count": 57,
   "id": "d200b2be",
   "metadata": {
    "scrolled": false
   },
   "outputs": [
    {
     "data": {
      "text/plain": [
       "array([[ 0.1277394 ,  0.06869518,  0.134182  ,  0.07956221,  0.13927915,\n",
       "         0.06225258, -0.03342907,  0.02696059,  0.18745634,  0.08600481,\n",
       "         0.1212968 ],\n",
       "       [ 0.06869518,  0.29053792,  0.23379648, -0.08158038, -0.06931615,\n",
       "         0.12543662,  0.05899247,  0.30536366,  0.0809594 ,  0.08352092,\n",
       "        -0.09640612],\n",
       "       [ 0.134182  ,  0.23379648,  0.29509172, -0.08515097,  0.02882351,\n",
       "         0.07288675, -0.15219022,  0.17537323,  0.24815649,  0.07575875,\n",
       "        -0.02672773],\n",
       "       [ 0.07956221, -0.08158038, -0.08515097,  0.26709617,  0.20220446,\n",
       "         0.08313281,  0.23216642, -0.05875961,  0.0146705 ,  0.10238299,\n",
       "         0.2442754 ],\n",
       "       [ 0.13927915, -0.06931615,  0.02882351,  0.20220446,  0.2466558 ,\n",
       "         0.04113949,  0.00284613, -0.11684649,  0.1837305 ,  0.09174882,\n",
       "         0.24973479],\n",
       "       [ 0.06225258,  0.12543662,  0.07288675,  0.08313281,  0.04113949,\n",
       "         0.11480245,  0.17775363,  0.15695102,  0.02025926,  0.09376698,\n",
       "         0.05161841],\n",
       "       [-0.03342907,  0.05899247, -0.15219022,  0.23216642,  0.00284613,\n",
       "         0.17775363,  0.57204585,  0.2058268 , -0.26274936,  0.11340526,\n",
       "         0.08533209],\n",
       "       [ 0.02696059,  0.30536366,  0.17537323, -0.05875961, -0.11684649,\n",
       "         0.15695102,  0.2058268 ,  0.36805609, -0.03112629,  0.08965303,\n",
       "        -0.12145204],\n",
       "       [ 0.18745634,  0.0809594 ,  0.24815649,  0.0146705 ,  0.1837305 ,\n",
       "         0.02025926, -0.26274936, -0.03112629,  0.35651634,  0.07537064,\n",
       "         0.12675619],\n",
       "       [ 0.08600481,  0.08352092,  0.07575875,  0.10238299,  0.09174882,\n",
       "         0.09376698,  0.11340526,  0.08965303,  0.07537064,  0.09213692,\n",
       "         0.09625087],\n",
       "       [ 0.1212968 , -0.09640612, -0.02672773,  0.2442754 ,  0.24973479,\n",
       "         0.05161841,  0.08533209, -0.12145204,  0.12675619,  0.09625087,\n",
       "         0.26932133]])"
      ]
     },
     "execution_count": 57,
     "metadata": {},
     "output_type": "execute_result"
    }
   ],
   "source": [
    "\n",
    "# Add a column of ones for the intercept term\n",
    "X = np.column_stack((np.ones(len(X)), X))\n",
    "\n",
    "# Calculate the Hat matrix\n",
    "H = get_hat_matrix(X)\n",
    "#print(H)  # Output: (100, 100)\n",
    "H"
   ]
  },
  {
   "cell_type": "code",
   "execution_count": 7,
   "id": "988511ec",
   "metadata": {},
   "outputs": [
    {
     "data": {
      "text/plain": [
       "array([54.81049962, 42.74617713, 56.29516934, 44.67212606, 57.08424539,\n",
       "       41.26150741, 21.33255712, 34.09247329, 67.22261896, 46.15679578,\n",
       "       53.32582991])"
      ]
     },
     "execution_count": 7,
     "metadata": {},
     "output_type": "execute_result"
    }
   ],
   "source": [
    "Fitted_values= H@target_variable \n",
    "Fitted_values"
   ]
  },
  {
   "cell_type": "code",
   "execution_count": 8,
   "id": "886c55b8",
   "metadata": {},
   "outputs": [],
   "source": [
    "import matplotlib.pyplot as plt"
   ]
  },
  {
   "cell_type": "code",
   "execution_count": 9,
   "id": "f29be340",
   "metadata": {},
   "outputs": [
    {
     "data": {
      "text/plain": [
       "[<matplotlib.lines.Line2D at 0x230230c4b90>]"
      ]
     },
     "execution_count": 9,
     "metadata": {},
     "output_type": "execute_result"
    },
    {
     "data": {
      "image/png": "[encoded data removed]",
      "text/plain": [
       "<Figure size 640x480 with 1 Axes>"
      ]
     },
     "metadata": {},
     "output_type": "display_data"
    }
   ],
   "source": [
    "plt.plot(target_variable)\n",
    "plt.plot(Fitted_values, color='red')"
   ]
  },
  {
   "cell_type": "code",
   "execution_count": 11,
   "id": "d7da67b2",
   "metadata": {},
   "outputs": [
    {
     "data": {
      "text/plain": [
       "0     10.189500\n",
       "1     -4.746177\n",
       "2     -5.295169\n",
       "3     -6.672126\n",
       "4     -2.084245\n",
       "5      1.738493\n",
       "6      3.667443\n",
       "7     -1.092473\n",
       "8      3.777381\n",
       "9      4.843204\n",
       "10    -4.325830\n",
       "Name: Price, dtype: float64"
      ]
     },
     "execution_count": 11,
     "metadata": {},
     "output_type": "execute_result"
    }
   ],
   "source": [
    "Residual = target_variable - Fitted_values\n",
    "Residual"
   ]
  }
 ],
 "metadata": {
  "kernelspec": {
   "display_name": "Python 3 (ipykernel)",
   "language": "python",
   "name": "python3"
  },
  "language_info": {
   "codemirror_mode": {
    "name": "ipython",
    "version": 3
   },
   "file_extension": ".py",
   "mimetype": "text/x-python",
   "name": "python",
   "nbconvert_exporter": "python",
   "pygments_lexer": "ipython3",
   "version": "3.11.4"
  }
 },
 "nbformat": 4,
 "nbformat_minor": 5
}
