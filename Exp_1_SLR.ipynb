{
 "cells": [
  {
   "cell_type": "markdown",
   "id": "b6ecfc87",
   "metadata": {},
   "source": [
    "Write a Python code to display the regression line equation for  {(x_i,y_i), i=1,2,....,n} . Use the code for the following:\n",
    "\n",
    " x: 14 , 16 , 18 , 20 , 24 , 30 , 32 \n",
    "\n",
    " y: 52 , 62 , 65 , 70 , 76 , 80 , 78 "
   ]
  },
  {
   "cell_type": "code",
   "execution_count": 1,
   "id": "bec64895",
   "metadata": {},
   "outputs": [],
   "source": [
    "import numpy as np\n",
    "\n",
    "# Define the x and y values\n",
    "x = np.array([14, 16, 18, 20, 24, 30, 32])\n",
    "y = np.array([52, 62, 65, 70, 76, 80, 78])\n"
   ]
  },
  {
   "cell_type": "code",
   "execution_count": 6,
   "id": "baf9f712",
   "metadata": {},
   "outputs": [],
   "source": [
    "# Add a column of ones to x\n",
    "X = np.vstack([x, np.ones(len(x))]).T\n",
    "\n",
    "\n",
    "# Calculate the coefficients using matrix multiplication and inversion\n",
    "coefficients = np.linalg.inv(X.T @ X) @ X.T @ y\n",
    "\n",
    "# Extract the slope and intercept from the coefficients\n",
    "m, c = coefficients\n",
    "\n"
   ]
  },
  {
   "cell_type": "code",
   "execution_count": 7,
   "id": "3e3fecfc",
   "metadata": {},
   "outputs": [
    {
     "name": "stdout",
     "output_type": "stream",
     "text": [
      "The equation of the regression line is: y = 1.3333333333333266x + 39.666666666666714\n"
     ]
    }
   ],
   "source": [
    "# Print the equation of the regression line\n",
    "print(f\"The equation of the regression line is: y = {m}x + {c}\")"
   ]
  },
  {
   "cell_type": "markdown",
   "id": "9efef6f6",
   "metadata": {},
   "source": [
    "## Verification"
   ]
  },
  {
   "cell_type": "code",
   "execution_count": 4,
   "id": "51bca372",
   "metadata": {},
   "outputs": [],
   "source": [
    "import statsmodels.api as sm"
   ]
  },
  {
   "cell_type": "code",
   "execution_count": 6,
   "id": "d471edd9",
   "metadata": {},
   "outputs": [
    {
     "name": "stdout",
     "output_type": "stream",
     "text": [
      "                            OLS Regression Results                            \n",
      "==============================================================================\n",
      "Dep. Variable:                      y   R-squared:                       0.845\n",
      "Model:                            OLS   Adj. R-squared:                  0.814\n",
      "Method:                 Least Squares   F-statistic:                     27.23\n",
      "Date:                Thu, 25 Apr 2024   Prob (F-statistic):            0.00341\n",
      "Time:                        23:16:42   Log-Likelihood:                -19.023\n",
      "No. Observations:                   7   AIC:                             42.05\n",
      "Df Residuals:                       5   BIC:                             41.94\n",
      "Df Model:                           1                                         \n",
      "Covariance Type:            nonrobust                                         \n",
      "==============================================================================\n",
      "                 coef    std err          t      P>|t|      [0.025      0.975]\n",
      "------------------------------------------------------------------------------\n",
      "const         39.6667      5.855      6.775      0.001      24.616      54.717\n",
      "x1             1.3333      0.255      5.219      0.003       0.677       1.990\n",
      "==============================================================================\n",
      "Omnibus:                          nan   Durbin-Watson:                   1.038\n",
      "Prob(Omnibus):                    nan   Jarque-Bera (JB):                0.702\n",
      "Skew:                          -0.584   Prob(JB):                        0.704\n",
      "Kurtosis:                       1.980   Cond. No.                         82.0\n",
      "==============================================================================\n",
      "\n",
      "Notes:\n",
      "[1] Standard Errors assume that the covariance matrix of the errors is correctly specified.\n"
     ]
    },
    {
     "name": "stderr",
     "output_type": "stream",
     "text": [
      "C:\\Users\\kings\\anaconda3\\Lib\\site-packages\\statsmodels\\stats\\stattools.py:74: ValueWarning: omni_normtest is not valid with less than 8 observations; 7 samples were given.\n",
      "  warn(\"omni_normtest is not valid with less than 8 observations; %i \"\n"
     ]
    }
   ],
   "source": [
    "X = sm.add_constant(x)\n",
    "\n",
    "# Fit the linear regression model\n",
    "model = sm.OLS(y, X).fit()\n",
    "\n",
    "# Print the summary\n",
    "print(model.summary())"
   ]
  }
 ],
 "metadata": {
  "kernelspec": {
   "display_name": "Python 3 (ipykernel)",
   "language": "python",
   "name": "python3"
  },
  "language_info": {
   "codemirror_mode": {
    "name": "ipython",
    "version": 3
   },
   "file_extension": ".py",
   "mimetype": "text/x-python",
   "name": "python",
   "nbconvert_exporter": "python",
   "pygments_lexer": "ipython3",
   "version": "3.11.4"
  }
 },
 "nbformat": 4,
 "nbformat_minor": 5
}
