{
 "cells": [
  {
   "cell_type": "code",
   "execution_count": 1,
   "id": "c540a95a",
   "metadata": {},
   "outputs": [
    {
     "name": "stdout",
     "output_type": "stream",
     "text": [
      "(100, 100)\n"
     ]
    }
   ],
   "source": [
    "t=(100,)\n",
    "print(t*2)"
   ]
  },
  {
   "cell_type": "code",
   "execution_count": 3,
   "id": "350c47b0",
   "metadata": {},
   "outputs": [
    {
     "data": {
      "text/plain": [
       "8.88888888888889"
      ]
     },
     "execution_count": 3,
     "metadata": {},
     "output_type": "execute_result"
    }
   ],
   "source": [
    "(8/9)*10"
   ]
  },
  {
   "cell_type": "code",
   "execution_count": 4,
   "id": "3c493301",
   "metadata": {},
   "outputs": [
    {
     "name": "stdout",
     "output_type": "stream",
     "text": [
      "None\n"
     ]
    }
   ],
   "source": [
    "d={\"f\":1, \"a\":2}\n",
    "print(d.get(\"g\"))"
   ]
  },
  {
   "cell_type": "code",
   "execution_count": null,
   "id": "fba9e7fa",
   "metadata": {},
   "outputs": [],
   "source": [
    "row=int(input(\"enter no of rows:\"))\n",
    "column=int(input(\"enter no of column:\"))\n",
    "l_1 = [[int(input(\"enter a number for list 1 :\")) for j in range (column)]for i in range (row)]\n",
    "#print(l_1)\n",
    "l_2 = [[int(input(\"enter a number for list 2 :\")) for j in range (column)]for i in range (row)]\n",
    "l_sum=[]\n",
    "l_sub=[]\n",
    "l_mul=[]\n",
    "for i in range(row):\n",
    "    l_sum.append([])\n",
    "    l_sub.append([])\n",
    "    l_mul.append([])\n",
    "    for j in range(column):\n",
    "        s=l_1[i][j]+l_2[i][j]\n",
    "        subb=l_1[i][j]-l_2[i][j]\n",
    "        m=l_1[i][j]*l_2[i][j]\n",
    "        l_sum[i].append(s)\n",
    "        l_sub[i].append(subb)\n",
    "        l_mul[i].append(m)\n",
    "print(\"sum of list 1 and list 2\", l_sum)\n",
    "print(\"subtraction of list 1 and list 2\", l_sub)\n",
    "print(\"multiplication of list 1 and list 2\", l_mul)\n"
   ]
  },
  {
   "cell_type": "code",
   "execution_count": 2,
   "id": "efaae035",
   "metadata": {},
   "outputs": [
    {
     "name": "stdout",
     "output_type": "stream",
     "text": [
      "enter number of row :2\n",
      "enter number of column :2\n",
      "enter a number for list :1\n",
      "enter a number for list :2\n",
      "enter a number for list :3\n",
      "enter a number for list :4\n",
      "enter a number for list :5\n",
      "enter a number for list :6\n",
      "enter a number for list :7\n",
      "enter a number for list :8\n",
      "[[], 1, [], 3, 4]\n",
      "[[], 5, [], 7, 8]\n",
      "give the operation u want +, -, * :+\n",
      "final ouput matrix : [[6, 8], [10, 12]]\n"
     ]
    }
   ],
   "source": [
    "def mat(r, c): #accepting\n",
    "    l= [[int(input(\"enter a number for list :\")) for j in range (c)]for i in range (r)]\n",
    "    return l\n",
    "\n",
    "\n",
    "def dis(lol):\n",
    "    l = len(lol)\n",
    "    m=[]\n",
    "    for i in range(0, l):\n",
    "        m.append([])\n",
    "        for j in range(0,i+1):\n",
    "            m.append(lol[i][j])\n",
    "    print (m)\n",
    "    \n",
    "def op(m1, m2, ope):\n",
    "    l_mul=[]\n",
    "    l_sub=[]\n",
    "    l_sum=[]\n",
    "    if (ope==\"*\"):\n",
    "        for i in range(row):\n",
    "            l_mul.append([])\n",
    "            for j in range(column):\n",
    "                l_mul[i].append(m1[i][j]*m2[i][j])\n",
    "        return l_mul\n",
    "    \n",
    "    elif (ope==\"-\"):\n",
    "        for i in range(row):\n",
    "            l_sub.append([])\n",
    "            for j in range(column):\n",
    "                l_sub[i].append(m1[i][j]-m2[i][j])\n",
    "        return l_sub\n",
    "\n",
    "    elif (ope==\"+\"):   \n",
    "        for i in range(row):\n",
    "            l_sum.append([])\n",
    "            for j in range(column):\n",
    "                l_sum[i].append(m1[i][j]+m2[i][j])\n",
    "        return l_sum\n",
    "    \n",
    "    else:\n",
    "        print(\"give a valid choice\")\n",
    "\n",
    "        \n",
    "#input part\n",
    "row=int(input(\"enter number of row :\"))\n",
    "column=int(input(\"enter number of column :\"))\n",
    "\n",
    "l_1=mat(row, column)\n",
    "l_2=mat(row, column)\n",
    "\n",
    "dis(l_1)\n",
    "dis(l_2)\n",
    "\n",
    "#cho=input(\"give the operation u want +, -, * :\")\n",
    "#final = op(l_1, l_2, cho)\n",
    "#print(\"final ouput matrix :\", final)"
   ]
  }
 ],
 "metadata": {
  "kernelspec": {
   "display_name": "Python 3 (ipykernel)",
   "language": "python",
   "name": "python3"
  },
  "language_info": {
   "codemirror_mode": {
    "name": "ipython",
    "version": 3
   },
   "file_extension": ".py",
   "mimetype": "text/x-python",
   "name": "python",
   "nbconvert_exporter": "python",
   "pygments_lexer": "ipython3",
   "version": "3.9.7"
  }
 },
 "nbformat": 4,
 "nbformat_minor": 5
}
