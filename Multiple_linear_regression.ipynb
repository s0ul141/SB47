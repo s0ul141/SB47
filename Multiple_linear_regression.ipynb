{
  "nbformat": 4,
  "nbformat_minor": 0,
  "metadata": {
    "colab": {
      "provenance": []
    },
    "kernelspec": {
      "name": "python3",
      "display_name": "Python 3"
    },
    "language_info": {
      "name": "python"
    }
  },
  "cells": [
    {
      "cell_type": "code",
      "execution_count": 13,
      "metadata": {
        "id": "_3aEMVLiUXTr"
      },
      "outputs": [],
      "source": [
        "import numpy as np"
      ]
    },
    {
      "cell_type": "code",
      "source": [
        "# Get input for the number of samples and features\n",
        "num_samples = int(input(\"Enter the number of samples (i.e., number of rows): \"))\n",
        "num_features = int(input(\"Enter the number of features(i.e., X1, X2...Xn): \"))"
      ],
      "metadata": {
        "colab": {
          "base_uri": "https://localhost:8080/"
        },
        "id": "df05oRUcZ_5q",
        "outputId": "a3ddbfa0-0e47-44b6-a1d9-bb5cee1923db"
      },
      "execution_count": 18,
      "outputs": [
        {
          "name": "stdout",
          "output_type": "stream",
          "text": [
            "Enter the number of samples: 6\n",
            "Enter the number of features: 2\n"
          ]
        }
      ]
    },
    {
      "cell_type": "code",
      "source": [
        "# Get input for the feature matrix X\n",
        "X = np.zeros((num_samples, num_features + 1))  # Add an extra column for the bias term\n",
        "X[:, 0] = 1  # Set the bias term to 1\n",
        "for i in range(num_samples):\n",
        "    for j in range(1, num_features + 1):\n",
        "        X[i, j] = float(input(f\"Enter X[{i}][{j - 1}]: \"))\n",
        "print(X)"
      ],
      "metadata": {
        "colab": {
          "base_uri": "https://localhost:8080/"
        },
        "id": "8Nqx-846VKGu",
        "outputId": "16fad36a-8c5d-416d-af43-2643cf5dcde0"
      },
      "execution_count": 19,
      "outputs": [
        {
          "output_type": "stream",
          "name": "stdout",
          "text": [
            "Enter X[0][0]: 1.6\n",
            "Enter X[0][1]: 851\n",
            "Enter X[1][0]: 22.0\n",
            "Enter X[1][1]: 1058\n",
            "Enter X[2][0]: 33\n",
            "Enter X[2][1]: 1357\n",
            "Enter X[3][0]: 15.5\n",
            "Enter X[3][1]: 816\n",
            "Enter X[4][0]: 43\n",
            "Enter X[4][1]: 1201\n",
            "Enter X[5][0]: 40\n",
            "Enter X[5][1]: 1115\n",
            "[[1.000e+00 1.600e+00 8.510e+02]\n",
            " [1.000e+00 2.200e+01 1.058e+03]\n",
            " [1.000e+00 3.300e+01 1.357e+03]\n",
            " [1.000e+00 1.550e+01 8.160e+02]\n",
            " [1.000e+00 4.300e+01 1.201e+03]\n",
            " [1.000e+00 4.000e+01 1.115e+03]]\n"
          ]
        }
      ]
    },
    {
      "cell_type": "code",
      "source": [
        "# Get input for the response variable Y\n",
        "Y = np.zeros(num_samples)\n",
        "for i in range(num_samples):\n",
        "    Y[i] = float(input(f\"Enter Y[{i}]: \"))\n"
      ],
      "metadata": {
        "colab": {
          "base_uri": "https://localhost:8080/"
        },
        "id": "P81_hf6vV2o1",
        "outputId": "36502f91-e741-47b1-8e7b-765f85a627e2"
      },
      "execution_count": 20,
      "outputs": [
        {
          "name": "stdout",
          "output_type": "stream",
          "text": [
            "Enter Y[0]: 193\n",
            "Enter Y[1]: 172\n",
            "Enter Y[2]: 113\n",
            "Enter Y[3]: 230\n",
            "Enter Y[4]: 91\n",
            "Enter Y[5]: 125\n"
          ]
        }
      ]
    },
    {
      "cell_type": "code",
      "source": [
        "# Calculate the coefficients using the normal equations\n",
        "XTX_inv = np.linalg.pinv(X.T @ X)\n",
        "XTY = X.T @ Y\n",
        "beta = XTX_inv @ XTY\n",
        "\n",
        "# Print the coefficients\n",
        "print(\"Coefficients (Beta):\", beta[1:])\n",
        "print(\"Intercept (Beta_0):\", beta[0])"
      ],
      "metadata": {
        "colab": {
          "base_uri": "https://localhost:8080/"
        },
        "id": "vpDXMCBuV6Ga",
        "outputId": "d9d4627b-55da-4d3f-c47a-a52d04db9648"
      },
      "execution_count": 24,
      "outputs": [
        {
          "output_type": "stream",
          "name": "stdout",
          "text": [
            "Coefficients (Beta): [-1.27199445 -0.15390423]\n",
            "Intercept (Beta_0): 350.99427063050865\n"
          ]
        }
      ]
    },
    {
      "cell_type": "code",
      "source": [
        "# Make predictions on the input data\n",
        "Y_pred = np.dot(X, beta)\n",
        "\n",
        "# Evaluate the model\n",
        "e =(Y - Y_pred)\n",
        "print(\"Error:\", e)\n",
        "mse =np.mean(Y - Y_pred)\n",
        "print(\"Error:\", mse)"
      ],
      "metadata": {
        "colab": {
          "base_uri": "https://localhost:8080/"
        },
        "id": "KkpdCV8HV9DI",
        "outputId": "b66d9b67-0b68-4672-8350-09bd5d2bcd6d"
      },
      "execution_count": 23,
      "outputs": [
        {
          "output_type": "stream",
          "name": "stdout",
          "text": [
            "Mean Squared Error: [-24.98657695  11.8202861   12.82959079  24.30749772 -20.45952512\n",
            "  -3.51127254]\n"
          ]
        }
      ]
    }
  ]
}
