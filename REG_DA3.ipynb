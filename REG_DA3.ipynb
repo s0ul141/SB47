{
 "cells": [
  {
   "cell_type": "markdown",
   "id": "92df4423",
   "metadata": {},
   "source": [
    "## Question 1\n",
    "### Rocket_Motor"
   ]
  },
  {
   "cell_type": "code",
   "execution_count": 1,
   "id": "f7fbe62b",
   "metadata": {},
   "outputs": [],
   "source": [
    "import pandas as pd\n",
    "import numpy as np\n",
    "from sklearn.linear_model import LinearRegression\n",
    "import statsmodels.api as sm\n",
    "import seaborn as sns"
   ]
  },
  {
   "cell_type": "markdown",
   "id": "8f51cc3e",
   "metadata": {},
   "source": [
    "#### Fitting of Simple Linear Regression Model"
   ]
  },
  {
   "cell_type": "code",
   "execution_count": 2,
   "id": "8bd3fb8c",
   "metadata": {
    "scrolled": true
   },
   "outputs": [
    {
     "data": {
      "text/html": [
       "<div>\n",
       "<style scoped>\n",
       "    .dataframe tbody tr th:only-of-type {\n",
       "        vertical-align: middle;\n",
       "    }\n",
       "\n",
       "    .dataframe tbody tr th {\n",
       "        vertical-align: top;\n",
       "    }\n",
       "\n",
       "    .dataframe thead th {\n",
       "        text-align: right;\n",
       "    }\n",
       "</style>\n",
       "<table border=\"1\" class=\"dataframe\">\n",
       "  <thead>\n",
       "    <tr style=\"text-align: right;\">\n",
       "      <th></th>\n",
       "      <th>Shear Strength y (psi)</th>\n",
       "      <th>Age of Propellant x (weeks)</th>\n",
       "    </tr>\n",
       "    <tr>\n",
       "      <th>Observation i</th>\n",
       "      <th></th>\n",
       "      <th></th>\n",
       "    </tr>\n",
       "  </thead>\n",
       "  <tbody>\n",
       "    <tr>\n",
       "      <th>1</th>\n",
       "      <td>2158.70</td>\n",
       "      <td>15.50</td>\n",
       "    </tr>\n",
       "    <tr>\n",
       "      <th>2</th>\n",
       "      <td>1678.15</td>\n",
       "      <td>23.75</td>\n",
       "    </tr>\n",
       "    <tr>\n",
       "      <th>3</th>\n",
       "      <td>2316.00</td>\n",
       "      <td>8.00</td>\n",
       "    </tr>\n",
       "    <tr>\n",
       "      <th>4</th>\n",
       "      <td>2061.30</td>\n",
       "      <td>17.00</td>\n",
       "    </tr>\n",
       "    <tr>\n",
       "      <th>5</th>\n",
       "      <td>2207.50</td>\n",
       "      <td>5.50</td>\n",
       "    </tr>\n",
       "    <tr>\n",
       "      <th>6</th>\n",
       "      <td>1708.30</td>\n",
       "      <td>19.00</td>\n",
       "    </tr>\n",
       "    <tr>\n",
       "      <th>7</th>\n",
       "      <td>1784.70</td>\n",
       "      <td>24.00</td>\n",
       "    </tr>\n",
       "    <tr>\n",
       "      <th>8</th>\n",
       "      <td>2575.00</td>\n",
       "      <td>2.50</td>\n",
       "    </tr>\n",
       "    <tr>\n",
       "      <th>9</th>\n",
       "      <td>2357.90</td>\n",
       "      <td>7.50</td>\n",
       "    </tr>\n",
       "    <tr>\n",
       "      <th>10</th>\n",
       "      <td>2236.70</td>\n",
       "      <td>11.00</td>\n",
       "    </tr>\n",
       "    <tr>\n",
       "      <th>11</th>\n",
       "      <td>2165.20</td>\n",
       "      <td>13.00</td>\n",
       "    </tr>\n",
       "    <tr>\n",
       "      <th>12</th>\n",
       "      <td>2399.55</td>\n",
       "      <td>3.75</td>\n",
       "    </tr>\n",
       "    <tr>\n",
       "      <th>13</th>\n",
       "      <td>1779.80</td>\n",
       "      <td>25.00</td>\n",
       "    </tr>\n",
       "    <tr>\n",
       "      <th>14</th>\n",
       "      <td>2336.75</td>\n",
       "      <td>9.75</td>\n",
       "    </tr>\n",
       "    <tr>\n",
       "      <th>15</th>\n",
       "      <td>1765.30</td>\n",
       "      <td>22.00</td>\n",
       "    </tr>\n",
       "    <tr>\n",
       "      <th>16</th>\n",
       "      <td>2053.50</td>\n",
       "      <td>18.00</td>\n",
       "    </tr>\n",
       "    <tr>\n",
       "      <th>17</th>\n",
       "      <td>2414.40</td>\n",
       "      <td>6.00</td>\n",
       "    </tr>\n",
       "    <tr>\n",
       "      <th>18</th>\n",
       "      <td>2200.50</td>\n",
       "      <td>12.50</td>\n",
       "    </tr>\n",
       "    <tr>\n",
       "      <th>19</th>\n",
       "      <td>2654.20</td>\n",
       "      <td>2.00</td>\n",
       "    </tr>\n",
       "    <tr>\n",
       "      <th>20</th>\n",
       "      <td>1753.70</td>\n",
       "      <td>21.50</td>\n",
       "    </tr>\n",
       "  </tbody>\n",
       "</table>\n",
       "</div>"
      ],
      "text/plain": [
       "               Shear Strength y (psi)  Age of Propellant x (weeks)\n",
       "Observation i                                                     \n",
       "1                             2158.70                        15.50\n",
       "2                             1678.15                        23.75\n",
       "3                             2316.00                         8.00\n",
       "4                             2061.30                        17.00\n",
       "5                             2207.50                         5.50\n",
       "6                             1708.30                        19.00\n",
       "7                             1784.70                        24.00\n",
       "8                             2575.00                         2.50\n",
       "9                             2357.90                         7.50\n",
       "10                            2236.70                        11.00\n",
       "11                            2165.20                        13.00\n",
       "12                            2399.55                         3.75\n",
       "13                            1779.80                        25.00\n",
       "14                            2336.75                         9.75\n",
       "15                            1765.30                        22.00\n",
       "16                            2053.50                        18.00\n",
       "17                            2414.40                         6.00\n",
       "18                            2200.50                        12.50\n",
       "19                            2654.20                         2.00\n",
       "20                            1753.70                        21.50"
      ]
     },
     "execution_count": 2,
     "metadata": {},
     "output_type": "execute_result"
    }
   ],
   "source": [
    "# Load data into a pandas DataFrame\n",
    "data =pd.read_csv('Rocket_motor_data.csv', index_col=0)\n",
    "data"
   ]
  },
  {
   "cell_type": "code",
   "execution_count": null,
   "id": "245c3bf7",
   "metadata": {},
   "outputs": [],
   "source": []
  },
  {
   "cell_type": "code",
   "execution_count": 3,
   "id": "22b4e3cd",
   "metadata": {},
   "outputs": [
    {
     "name": "stdout",
     "output_type": "stream",
     "text": [
      "Intercept=  2626.2518\n",
      "Slope=  -37.1109\n"
     ]
    }
   ],
   "source": [
    "X = data[['Age of Propellant x (weeks)']]\n",
    "y = data['Shear Strength y (psi)']\n",
    "\n",
    "# Fit linear regression model\n",
    "model = LinearRegression()\n",
    "model.fit(X, y)\n",
    "print(\"Intercept= \", round(model.intercept_, 4))\n",
    "print(\"Slope= \", round(model.coef_[0], 4))"
   ]
  },
  {
   "cell_type": "code",
   "execution_count": 4,
   "id": "eca03f92",
   "metadata": {},
   "outputs": [
    {
     "data": {
      "text/plain": [
       "<Axes: xlabel='Age of Propellant x (weeks)', ylabel='Shear Strength y (psi)'>"
      ]
     },
     "execution_count": 4,
     "metadata": {},
     "output_type": "execute_result"
    },
    {
     "data": {
      "image/png": "[encoded data removed]",
      "text/plain": [
       "<Figure size 640x480 with 1 Axes>"
      ]
     },
     "metadata": {},
     "output_type": "display_data"
    }
   ],
   "source": [
    "sns.regplot(x = X, y= y, data = data)"
   ]
  },
  {
   "cell_type": "markdown",
   "id": "06eaf0c4",
   "metadata": {},
   "source": [
    "#### Test of Hypothesis"
   ]
  },
  {
   "cell_type": "code",
   "execution_count": 13,
   "id": "0c8d1230",
   "metadata": {},
   "outputs": [
    {
     "name": "stdout",
     "output_type": "stream",
     "text": [
      "                              OLS Regression Results                              \n",
      "==================================================================================\n",
      "Dep. Variable:     Shear Strength y (psi)   R-squared:                       0.902\n",
      "Model:                                OLS   Adj. R-squared:                  0.897\n",
      "Method:                     Least Squares   F-statistic:                     166.1\n",
      "Date:                    Mon, 25 Mar 2024   Prob (F-statistic):           1.58e-10\n",
      "Time:                            01:08:41   Log-Likelihood:                -118.57\n",
      "No. Observations:                      20   AIC:                             241.1\n",
      "Df Residuals:                          18   BIC:                             243.1\n",
      "Df Model:                               1                                         \n",
      "Covariance Type:                nonrobust                                         \n",
      "===============================================================================================\n",
      "                                  coef    std err          t      P>|t|      [0.025      0.975]\n",
      "-----------------------------------------------------------------------------------------------\n",
      "const                        2626.2518     44.034     59.641      0.000    2533.739    2718.764\n",
      "Age of Propellant x (weeks)   -37.1109      2.879    -12.889      0.000     -43.160     -31.062\n",
      "==============================================================================\n",
      "Omnibus:                        6.148   Durbin-Watson:                   1.847\n",
      "Prob(Omnibus):                  0.046   Jarque-Bera (JB):                4.138\n",
      "Skew:                          -1.090   Prob(JB):                        0.126\n",
      "Kurtosis:                       3.459   Cond. No.                         31.5\n",
      "==============================================================================\n",
      "\n",
      "Notes:\n",
      "[1] Standard Errors assume that the covariance matrix of the errors is correctly specified.\n"
     ]
    }
   ],
   "source": [
    "# Add a constant to the predictor variable\n",
    "X = sm.add_constant(X)\n",
    "\n",
    "# Fit the linear regression model\n",
    "model = sm.OLS(y, X).fit()\n",
    "\n",
    "# Print the summary\n",
    "print(model.summary())"
   ]
  },
  {
   "cell_type": "code",
   "execution_count": 14,
   "id": "f1568276",
   "metadata": {},
   "outputs": [
    {
     "name": "stdout",
     "output_type": "stream",
     "text": [
      "                                       0            1\n",
      "const                        2533.739344  2718.764218\n",
      "Age of Propellant x (weeks)   -43.160113   -31.061669\n"
     ]
    }
   ],
   "source": [
    "print(model.conf_int(0.05))"
   ]
  },
  {
   "cell_type": "markdown",
   "id": "bd1177de",
   "metadata": {},
   "source": [
    "# Conclusion\n",
    "## Shear Strength = 2626.25 - 37.11(Age of Propellant)\n",
    "\n",
    "- Here the model tells us that 1 week change in Age of Propellant there will be an average decrease of 37.11 in Shear Strength, but when the Age of Propellant is zero or constant there will be an average increase of 2626.25 in the Shear Strength.\n",
    "- The p-value which is less than 0.05 shows that there is a statistically significant associtation between the Shear Strength and Age of Propellant.\n",
    "- R-squared value tells us that the 90.2% vairation can be explained by the Age of Propellant variable.\n",
    "- Here, F statistics and corresponding p-values tell us the overall significance of the regression model that is whether explanatory variable in the model are useful for explaining the variation in response variable. Since p-value in the model is less than the 0.05 therefore our model is statistically significant, thus the regressor i.e, Age of Propellant is usefull in explaining the variation of the Shear Strength.\n"
   ]
  },
  {
   "cell_type": "markdown",
   "id": "c571c000",
   "metadata": {},
   "source": [
    "## Question 2\n",
    "### Soft Drinks"
   ]
  },
  {
   "cell_type": "code",
   "execution_count": 5,
   "id": "d0796bcf",
   "metadata": {
    "scrolled": true
   },
   "outputs": [
    {
     "data": {
      "text/html": [
       "<div>\n",
       "<style scoped>\n",
       "    .dataframe tbody tr th:only-of-type {\n",
       "        vertical-align: middle;\n",
       "    }\n",
       "\n",
       "    .dataframe tbody tr th {\n",
       "        vertical-align: top;\n",
       "    }\n",
       "\n",
       "    .dataframe thead th {\n",
       "        text-align: right;\n",
       "    }\n",
       "</style>\n",
       "<table border=\"1\" class=\"dataframe\">\n",
       "  <thead>\n",
       "    <tr style=\"text-align: right;\">\n",
       "      <th></th>\n",
       "      <th>Delivery Time</th>\n",
       "      <th>Number of Cases</th>\n",
       "      <th>Distance</th>\n",
       "    </tr>\n",
       "    <tr>\n",
       "      <th>obs</th>\n",
       "      <th></th>\n",
       "      <th></th>\n",
       "      <th></th>\n",
       "    </tr>\n",
       "  </thead>\n",
       "  <tbody>\n",
       "    <tr>\n",
       "      <th>1</th>\n",
       "      <td>16.68</td>\n",
       "      <td>7</td>\n",
       "      <td>560</td>\n",
       "    </tr>\n",
       "    <tr>\n",
       "      <th>2</th>\n",
       "      <td>11.50</td>\n",
       "      <td>3</td>\n",
       "      <td>220</td>\n",
       "    </tr>\n",
       "    <tr>\n",
       "      <th>3</th>\n",
       "      <td>12.03</td>\n",
       "      <td>3</td>\n",
       "      <td>340</td>\n",
       "    </tr>\n",
       "    <tr>\n",
       "      <th>4</th>\n",
       "      <td>14.88</td>\n",
       "      <td>4</td>\n",
       "      <td>80</td>\n",
       "    </tr>\n",
       "    <tr>\n",
       "      <th>5</th>\n",
       "      <td>13.75</td>\n",
       "      <td>6</td>\n",
       "      <td>150</td>\n",
       "    </tr>\n",
       "    <tr>\n",
       "      <th>6</th>\n",
       "      <td>18.11</td>\n",
       "      <td>7</td>\n",
       "      <td>330</td>\n",
       "    </tr>\n",
       "    <tr>\n",
       "      <th>7</th>\n",
       "      <td>8.00</td>\n",
       "      <td>2</td>\n",
       "      <td>110</td>\n",
       "    </tr>\n",
       "    <tr>\n",
       "      <th>8</th>\n",
       "      <td>17.83</td>\n",
       "      <td>7</td>\n",
       "      <td>210</td>\n",
       "    </tr>\n",
       "    <tr>\n",
       "      <th>9</th>\n",
       "      <td>79.24</td>\n",
       "      <td>30</td>\n",
       "      <td>1460</td>\n",
       "    </tr>\n",
       "    <tr>\n",
       "      <th>10</th>\n",
       "      <td>21.50</td>\n",
       "      <td>5</td>\n",
       "      <td>605</td>\n",
       "    </tr>\n",
       "    <tr>\n",
       "      <th>11</th>\n",
       "      <td>40.33</td>\n",
       "      <td>16</td>\n",
       "      <td>688</td>\n",
       "    </tr>\n",
       "    <tr>\n",
       "      <th>12</th>\n",
       "      <td>21.00</td>\n",
       "      <td>10</td>\n",
       "      <td>215</td>\n",
       "    </tr>\n",
       "    <tr>\n",
       "      <th>13</th>\n",
       "      <td>13.50</td>\n",
       "      <td>4</td>\n",
       "      <td>255</td>\n",
       "    </tr>\n",
       "    <tr>\n",
       "      <th>14</th>\n",
       "      <td>19.75</td>\n",
       "      <td>6</td>\n",
       "      <td>462</td>\n",
       "    </tr>\n",
       "    <tr>\n",
       "      <th>15</th>\n",
       "      <td>24.00</td>\n",
       "      <td>9</td>\n",
       "      <td>448</td>\n",
       "    </tr>\n",
       "    <tr>\n",
       "      <th>16</th>\n",
       "      <td>29.00</td>\n",
       "      <td>10</td>\n",
       "      <td>776</td>\n",
       "    </tr>\n",
       "    <tr>\n",
       "      <th>17</th>\n",
       "      <td>15.35</td>\n",
       "      <td>6</td>\n",
       "      <td>200</td>\n",
       "    </tr>\n",
       "    <tr>\n",
       "      <th>18</th>\n",
       "      <td>9.50</td>\n",
       "      <td>3</td>\n",
       "      <td>132</td>\n",
       "    </tr>\n",
       "    <tr>\n",
       "      <th>19</th>\n",
       "      <td>19.00</td>\n",
       "      <td>17</td>\n",
       "      <td>36</td>\n",
       "    </tr>\n",
       "    <tr>\n",
       "      <th>20</th>\n",
       "      <td>35.10</td>\n",
       "      <td>17</td>\n",
       "      <td>770</td>\n",
       "    </tr>\n",
       "    <tr>\n",
       "      <th>21</th>\n",
       "      <td>17.90</td>\n",
       "      <td>10</td>\n",
       "      <td>140</td>\n",
       "    </tr>\n",
       "    <tr>\n",
       "      <th>22</th>\n",
       "      <td>52.32</td>\n",
       "      <td>26</td>\n",
       "      <td>810</td>\n",
       "    </tr>\n",
       "    <tr>\n",
       "      <th>23</th>\n",
       "      <td>18.75</td>\n",
       "      <td>9</td>\n",
       "      <td>450</td>\n",
       "    </tr>\n",
       "    <tr>\n",
       "      <th>24</th>\n",
       "      <td>19.83</td>\n",
       "      <td>8</td>\n",
       "      <td>635</td>\n",
       "    </tr>\n",
       "    <tr>\n",
       "      <th>25</th>\n",
       "      <td>10.75</td>\n",
       "      <td>4</td>\n",
       "      <td>150</td>\n",
       "    </tr>\n",
       "  </tbody>\n",
       "</table>\n",
       "</div>"
      ],
      "text/plain": [
       "     Delivery Time  Number of Cases  Distance\n",
       "obs                                          \n",
       "1            16.68                7       560\n",
       "2            11.50                3       220\n",
       "3            12.03                3       340\n",
       "4            14.88                4        80\n",
       "5            13.75                6       150\n",
       "6            18.11                7       330\n",
       "7             8.00                2       110\n",
       "8            17.83                7       210\n",
       "9            79.24               30      1460\n",
       "10           21.50                5       605\n",
       "11           40.33               16       688\n",
       "12           21.00               10       215\n",
       "13           13.50                4       255\n",
       "14           19.75                6       462\n",
       "15           24.00                9       448\n",
       "16           29.00               10       776\n",
       "17           15.35                6       200\n",
       "18            9.50                3       132\n",
       "19           19.00               17        36\n",
       "20           35.10               17       770\n",
       "21           17.90               10       140\n",
       "22           52.32               26       810\n",
       "23           18.75                9       450\n",
       "24           19.83                8       635\n",
       "25           10.75                4       150"
      ]
     },
     "execution_count": 5,
     "metadata": {},
     "output_type": "execute_result"
    }
   ],
   "source": [
    "df = pd.read_csv(\"soft_drink.csv\", index_col='obs')\n",
    "df"
   ]
  },
  {
   "cell_type": "code",
   "execution_count": 6,
   "id": "5ab5682d",
   "metadata": {},
   "outputs": [
    {
     "name": "stdout",
     "output_type": "stream",
     "text": [
      "Intercept=  1.5509\n",
      "Slope=  1.3248\n"
     ]
    }
   ],
   "source": [
    "X = df[['Number of Cases', 'Distance']]\n",
    "y = df['Delivery Time']\n",
    "\n",
    "# Fit linear regression model\n",
    "model = LinearRegression()\n",
    "model.fit(X, y)\n",
    "print(\"Intercept= \", round(model.intercept_, 4))\n",
    "print(\"Slope= \", round(model.coef_[0], 4))"
   ]
  },
  {
   "cell_type": "code",
   "execution_count": 17,
   "id": "b4714369",
   "metadata": {},
   "outputs": [
    {
     "data": {
      "text/plain": [
       "<seaborn.axisgrid.PairGrid at 0x1988b8eadd0>"
      ]
     },
     "execution_count": 17,
     "metadata": {},
     "output_type": "execute_result"
    },
    {
     "data": {
      "image/png": "[encoded data removed]",
      "text/plain": [
       "<Figure size 500x250 with 2 Axes>"
      ]
     },
     "metadata": {},
     "output_type": "display_data"
    }
   ],
   "source": [
    "feature = ['Number of Cases', 'Distance']\n",
    "\n",
    "sns.pairplot(df, x_vars=feature, y_vars= 'Delivery Time', kind='reg')\n"
   ]
  },
  {
   "cell_type": "code",
   "execution_count": 9,
   "id": "1aca59e0",
   "metadata": {},
   "outputs": [
    {
     "name": "stdout",
     "output_type": "stream",
     "text": [
      "                            OLS Regression Results                            \n",
      "==============================================================================\n",
      "Dep. Variable:          Delivery Time   R-squared:                       0.952\n",
      "Model:                            OLS   Adj. R-squared:                  0.948\n",
      "Method:                 Least Squares   F-statistic:                     219.5\n",
      "Date:                Mon, 25 Mar 2024   Prob (F-statistic):           2.93e-15\n",
      "Time:                        00:07:51   Log-Likelihood:                -65.496\n",
      "No. Observations:                  25   AIC:                             137.0\n",
      "Df Residuals:                      22   BIC:                             140.6\n",
      "Df Model:                           2                                         \n",
      "Covariance Type:            nonrobust                                         \n",
      "===================================================================================\n",
      "                      coef    std err          t      P>|t|      [0.025      0.975]\n",
      "-----------------------------------------------------------------------------------\n",
      "const               1.5509      1.221      1.270      0.217      -0.981       4.083\n",
      "Number of Cases     1.3248      0.149      8.867      0.000       1.015       1.635\n",
      "Distance            0.0213      0.003      6.549      0.000       0.015       0.028\n",
      "==============================================================================\n",
      "Omnibus:                        0.502   Durbin-Watson:                   1.345\n",
      "Prob(Omnibus):                  0.778   Jarque-Bera (JB):                0.234\n",
      "Skew:                          -0.232   Prob(JB):                        0.889\n",
      "Kurtosis:                       2.906   Cond. No.                         895.\n",
      "==============================================================================\n",
      "\n",
      "Notes:\n",
      "[1] Standard Errors assume that the covariance matrix of the errors is correctly specified.\n"
     ]
    }
   ],
   "source": [
    "# Add a constant to the independent variables matrix\n",
    "X = sm.add_constant(X)\n",
    "\n",
    "# Fit the ordinary least squares (OLS) model\n",
    "model = sm.OLS(y, X)\n",
    "results = model.fit()\n",
    "\n",
    "# Print the summary statistics of the regression model\n",
    "print(results.summary())"
   ]
  },
  {
   "cell_type": "code",
   "execution_count": 9,
   "id": "dc17b18b",
   "metadata": {},
   "outputs": [
    {
     "name": "stdout",
     "output_type": "stream",
     "text": [
      "                        0         1\n",
      "const           -0.981496  4.083376\n",
      "Number of Cases  1.014923  1.634601\n",
      "Distance         0.014523  0.027982\n"
     ]
    }
   ],
   "source": [
    "# Print the confidence intervals for the model coefficients\n",
    "print(results.conf_int(alpha=0.05))"
   ]
  },
  {
   "cell_type": "markdown",
   "id": "7c1e6247",
   "metadata": {},
   "source": [
    "## Delivery Time  = 1.55 + 1.32(Number of Cases) + 0.02(Distance)\n",
    "\n",
    "- Here the model tells us that the 1 unit change of Number of cases will show an average increase of 1.32 time in delivery time keeping distance zero, when there is 1km change in distance will show an average increase of 0.02 time in delivery time, when number of cases and distance is zero an average increase of 1.55 time of delivery time will be seen.\n",
    "- The p-value of the constant term is greater than alpha (like 0.2 in your example), the model can still be considered statistically significant if the predictor variables (number of cases and distance) are less than 0.05.\n",
    "- R-squared value tells us that the 95.2% vairation can be explained.\n",
    "- Here, F statistics and corresponding p-values tell us the overall significance of the regression model that is whether explanatory variable in the model are useful for explaining the variation in response variable. Since p-value(of number of cases and distance) in the model is less than the 0.05 therefore our model is statistically significant, thus the regressor i.e, Age of Propellant is usefull in explaining the variation of the Shear Strength.\n"
   ]
  }
 ],
 "metadata": {
  "kernelspec": {
   "display_name": "Python 3 (ipykernel)",
   "language": "python",
   "name": "python3"
  },
  "language_info": {
   "codemirror_mode": {
    "name": "ipython",
    "version": 3
   },
   "file_extension": ".py",
   "mimetype": "text/x-python",
   "name": "python",
   "nbconvert_exporter": "python",
   "pygments_lexer": "ipython3",
   "version": "3.11.4"
  }
 },
 "nbformat": 4,
 "nbformat_minor": 5
}
