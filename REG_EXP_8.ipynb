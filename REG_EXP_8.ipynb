{
 "cells": [
  {
   "cell_type": "code",
   "execution_count": 2,
   "id": "8ab53495",
   "metadata": {},
   "outputs": [],
   "source": [
    "import numpy as np\n",
    "import pandas as pd\n",
    "import matplotlib.pyplot as plt"
   ]
  },
  {
   "cell_type": "code",
   "execution_count": 3,
   "id": "e45be0ea",
   "metadata": {},
   "outputs": [
    {
     "data": {
      "image/png": "[encoded data removed]",
      "text/plain": [
       "<Figure size 640x480 with 1 Axes>"
      ]
     },
     "metadata": {},
     "output_type": "display_data"
    }
   ],
   "source": [
    "sample = [15, 101, 18, 7, 13, 16, 11, 21, 5, 15, 10, 9]\n",
    "plt.boxplot(sample, vert = False)\n",
    "plt.title(\"Outlier Detection\")\n",
    "plt.xlabel('Sample')\n",
    "plt.show()"
   ]
  },
  {
   "cell_type": "markdown",
   "id": "dd41aff9",
   "metadata": {},
   "source": [
    "## Method 2"
   ]
  },
  {
   "cell_type": "code",
   "execution_count": 5,
   "id": "6f4f58d7",
   "metadata": {},
   "outputs": [
    {
     "name": "stdout",
     "output_type": "stream",
     "text": [
      "[101]\n"
     ]
    }
   ],
   "source": [
    "outliers = []\n",
    "def detect_outliers_iqr(data):\n",
    "    data = sorted(data)\n",
    "    q1 = np.percentile(data, 25)\n",
    "    q3 = np.percentile(data, 75)\n",
    "    IQR = q3-q1\n",
    "    lwr_bound = q1-(1.5*IQR)\n",
    "    upr_bound = q3+(1.5*IQR)\n",
    "    for i in data:\n",
    "        if(i<lwr_bound or i > upr_bound):\n",
    "            outliers.append(i)\n",
    "    return outliers\n",
    "\n",
    "sample_outliers = detect_outliers_iqr(sample)\n",
    "print(sample_outliers)\n",
    "            \n",
    "            \n",
    "            "
   ]
  },
  {
   "cell_type": "markdown",
   "id": "6e599f79",
   "metadata": {},
   "source": [
    "## Method 3"
   ]
  },
  {
   "cell_type": "code",
   "execution_count": 6,
   "id": "688b1925",
   "metadata": {},
   "outputs": [
    {
     "name": "stdout",
     "output_type": "stream",
     "text": [
      "[101]\n"
     ]
    }
   ],
   "source": [
    "outliers =[]\n",
    "def detect_outliers_zscore(data):\n",
    "    thres=3\n",
    "    mean = np.mean(data)\n",
    "    std = np.std(data)\n",
    "    for i in data:\n",
    "        z_score = (i-mean)/std\n",
    "        if (np.abs(z_score)> thres):\n",
    "            outliers.append(i)\n",
    "\n",
    "    return outliers\n",
    "sample_outliers = detect_outliers_zscore(sample)\n",
    "print(sample_outliers)\n",
    "    \n",
    "    \n",
    "    \n",
    "    "
   ]
  },
  {
   "cell_type": "markdown",
   "id": "313c2578",
   "metadata": {},
   "source": [
    "## Detecting outliers using Tukeyâ€s"
   ]
  },
  {
   "cell_type": "code",
   "execution_count": 7,
   "id": "4199aa8c",
   "metadata": {},
   "outputs": [],
   "source": [
    "from scipy import stats\n"
   ]
  },
  {
   "cell_type": "code",
   "execution_count": 10,
   "id": "77d74494",
   "metadata": {},
   "outputs": [
    {
     "name": "stdout",
     "output_type": "stream",
     "text": [
      "[  1 100]\n"
     ]
    }
   ],
   "source": [
    "data = np.array([1, 20, 20, 20, 21, 100])\n",
    "q1 = np.percentile(data, 25)\n",
    "q3 = np.percentile(data, 75)\n",
    "IQR = q3-q1\n",
    "lwr_fence = q1-(1.5*IQR)\n",
    "upr_fence = q3+(1.5*IQR)\n",
    "outliers = np.where((data<lwr_fence) | (data > upr_fence))\n",
    "print(data[outliers])\n"
   ]
  },
  {
   "cell_type": "markdown",
   "id": "69854108",
   "metadata": {},
   "source": [
    "## Treatment of Outliers"
   ]
  },
  {
   "cell_type": "markdown",
   "id": "9de06b6d",
   "metadata": {},
   "source": [
    "### T1 Trimming outliers / remove outliers"
   ]
  },
  {
   "cell_type": "code",
   "execution_count": 11,
   "id": "45d8ee2f",
   "metadata": {},
   "outputs": [
    {
     "name": "stdout",
     "output_type": "stream",
     "text": [
      "[15 18  7 13 16 11 21  5 15 10  9]\n",
      "12 11\n"
     ]
    }
   ],
   "source": [
    "sample = np.array([15, 101, 18, 7, 13, 16, 11, 21, 5 ,15, 10, 9])\n",
    "i = [101]\n",
    "a= np.delete(sample, np.where(sample==i))\n",
    "print(a)\n",
    "print(len(sample), len(a))\n"
   ]
  },
  {
   "cell_type": "markdown",
   "id": "900a9821",
   "metadata": {},
   "source": [
    "### T2 Quantile based flooring and Capping"
   ]
  },
  {
   "cell_type": "code",
   "execution_count": 12,
   "id": "3aaae992",
   "metadata": {},
   "outputs": [
    {
     "name": "stdout",
     "output_type": "stream",
     "text": [
      "New array : [15.  20.7 18.   7.2 13.  16.  11.  20.7  7.2 15.  10.   9. ]\n"
     ]
    }
   ],
   "source": [
    "tenth_percentile = np.percentile(sample, 10)\n",
    "ninetieth_percentile = np.percentile(sample, 90)\n",
    "b = np.where(sample<tenth_percentile, tenth_percentile, sample)\n",
    "b = np.where(b>ninetieth_percentile, ninetieth_percentile, b)\n",
    "print('New array :', b)\n",
    "\n"
   ]
  },
  {
   "cell_type": "markdown",
   "id": "dae34684",
   "metadata": {},
   "source": [
    "### T3 Mean / Median imputation"
   ]
  },
  {
   "cell_type": "code",
   "execution_count": 13,
   "id": "9ee7bd8f",
   "metadata": {},
   "outputs": [
    {
     "name": "stdout",
     "output_type": "stream",
     "text": [
      "Sample:  [ 15 101  18   7  13  16  11  21   5  15  10   9]\n",
      "New array: [15 14 18  7 13 16 11 21  5 15 10  9]\n"
     ]
    }
   ],
   "source": [
    "median = np.median(sample)\n",
    "c = np.where(sample==i, 14, sample)\n",
    "print(\"Sample: \", sample)\n",
    "print('New array:', c)"
   ]
  },
  {
   "cell_type": "code",
   "execution_count": 14,
   "id": "4f1242e3",
   "metadata": {},
   "outputs": [
    {
     "data": {
      "text/plain": [
       "{'whiskers': [<matplotlib.lines.Line2D at 0x1eaa6022f50>,\n",
       "  <matplotlib.lines.Line2D at 0x1eaa6023fd0>],\n",
       " 'caps': [<matplotlib.lines.Line2D at 0x1eaa6028ad0>,\n",
       "  <matplotlib.lines.Line2D at 0x1eaa60295d0>],\n",
       " 'boxes': [<matplotlib.lines.Line2D at 0x1eaa5fa7fd0>],\n",
       " 'medians': [<matplotlib.lines.Line2D at 0x1eaa602a150>],\n",
       " 'fliers': [<matplotlib.lines.Line2D at 0x1eaa2b3ab50>],\n",
       " 'means': []}"
      ]
     },
     "execution_count": 14,
     "metadata": {},
     "output_type": "execute_result"
    },
    {
     "data": {
      "image/png": "[encoded data removed]",
      "text/plain": [
       "<Figure size 640x480 with 1 Axes>"
      ]
     },
     "metadata": {},
     "output_type": "display_data"
    }
   ],
   "source": [
    "plt.boxplot(c, vert=False)\n"
   ]
  },
  {
   "cell_type": "code",
   "execution_count": 16,
   "id": "688ea48a",
   "metadata": {},
   "outputs": [
    {
     "data": {
      "text/html": [
       "<div>\n",
       "<style scoped>\n",
       "    .dataframe tbody tr th:only-of-type {\n",
       "        vertical-align: middle;\n",
       "    }\n",
       "\n",
       "    .dataframe tbody tr th {\n",
       "        vertical-align: top;\n",
       "    }\n",
       "\n",
       "    .dataframe thead th {\n",
       "        text-align: right;\n",
       "    }\n",
       "</style>\n",
       "<table border=\"1\" class=\"dataframe\">\n",
       "  <thead>\n",
       "    <tr style=\"text-align: right;\">\n",
       "      <th></th>\n",
       "      <th>rating</th>\n",
       "      <th>points</th>\n",
       "      <th>assists</th>\n",
       "      <th>rebounds</th>\n",
       "    </tr>\n",
       "  </thead>\n",
       "  <tbody>\n",
       "    <tr>\n",
       "      <th>0</th>\n",
       "      <td>90</td>\n",
       "      <td>25</td>\n",
       "      <td>5</td>\n",
       "      <td>11</td>\n",
       "    </tr>\n",
       "    <tr>\n",
       "      <th>1</th>\n",
       "      <td>85</td>\n",
       "      <td>20</td>\n",
       "      <td>7</td>\n",
       "      <td>8</td>\n",
       "    </tr>\n",
       "    <tr>\n",
       "      <th>2</th>\n",
       "      <td>82</td>\n",
       "      <td>14</td>\n",
       "      <td>7</td>\n",
       "      <td>10</td>\n",
       "    </tr>\n",
       "    <tr>\n",
       "      <th>3</th>\n",
       "      <td>88</td>\n",
       "      <td>16</td>\n",
       "      <td>8</td>\n",
       "      <td>6</td>\n",
       "    </tr>\n",
       "    <tr>\n",
       "      <th>4</th>\n",
       "      <td>94</td>\n",
       "      <td>27</td>\n",
       "      <td>5</td>\n",
       "      <td>6</td>\n",
       "    </tr>\n",
       "    <tr>\n",
       "      <th>5</th>\n",
       "      <td>90</td>\n",
       "      <td>20</td>\n",
       "      <td>7</td>\n",
       "      <td>9</td>\n",
       "    </tr>\n",
       "    <tr>\n",
       "      <th>6</th>\n",
       "      <td>76</td>\n",
       "      <td>12</td>\n",
       "      <td>6</td>\n",
       "      <td>6</td>\n",
       "    </tr>\n",
       "    <tr>\n",
       "      <th>7</th>\n",
       "      <td>75</td>\n",
       "      <td>15</td>\n",
       "      <td>9</td>\n",
       "      <td>10</td>\n",
       "    </tr>\n",
       "    <tr>\n",
       "      <th>8</th>\n",
       "      <td>87</td>\n",
       "      <td>14</td>\n",
       "      <td>9</td>\n",
       "      <td>10</td>\n",
       "    </tr>\n",
       "    <tr>\n",
       "      <th>9</th>\n",
       "      <td>86</td>\n",
       "      <td>19</td>\n",
       "      <td>5</td>\n",
       "      <td>7</td>\n",
       "    </tr>\n",
       "  </tbody>\n",
       "</table>\n",
       "</div>"
      ],
      "text/plain": [
       "   rating  points  assists  rebounds\n",
       "0      90      25        5        11\n",
       "1      85      20        7         8\n",
       "2      82      14        7        10\n",
       "3      88      16        8         6\n",
       "4      94      27        5         6\n",
       "5      90      20        7         9\n",
       "6      76      12        6         6\n",
       "7      75      15        9        10\n",
       "8      87      14        9        10\n",
       "9      86      19        5         7"
      ]
     },
     "execution_count": 16,
     "metadata": {},
     "output_type": "execute_result"
    }
   ],
   "source": [
    "df = pd.DataFrame({'rating': [90, 85, 82, 88, 94, 90, 76, 75, 87, 86],\n",
    "                  'points': [25, 20, 14, 16, 27, 20, 12, 15, 14, 19],\n",
    "                  'assists':[5, 7,7 ,8, 5, 7, 6,9,9,5],\n",
    "                  'rebounds':[11, 8, 10, 6, 6, 9, 6, 10, 10, 7]})\n",
    "df"
   ]
  },
  {
   "cell_type": "code",
   "execution_count": 17,
   "id": "495f9eeb",
   "metadata": {},
   "outputs": [],
   "source": [
    "from statsmodels.formula.api import ols"
   ]
  },
  {
   "cell_type": "code",
   "execution_count": 19,
   "id": "98b1da11",
   "metadata": {},
   "outputs": [
    {
     "name": "stdout",
     "output_type": "stream",
     "text": [
      "                            OLS Regression Results                            \n",
      "==============================================================================\n",
      "Dep. Variable:                 rating   R-squared:                       0.623\n",
      "Model:                            OLS   Adj. R-squared:                  0.434\n",
      "Method:                 Least Squares   F-statistic:                     3.299\n",
      "Date:                Thu, 18 Apr 2024   Prob (F-statistic):             0.0995\n",
      "Time:                        10:45:05   Log-Likelihood:                -26.862\n",
      "No. Observations:                  10   AIC:                             61.72\n",
      "Df Residuals:                       6   BIC:                             62.93\n",
      "Df Model:                           3                                         \n",
      "Covariance Type:            nonrobust                                         \n",
      "==============================================================================\n",
      "                 coef    std err          t      P>|t|      [0.025      0.975]\n",
      "------------------------------------------------------------------------------\n",
      "Intercept     62.4716     14.588      4.282      0.005      26.776      98.168\n",
      "points         1.1193      0.411      2.724      0.034       0.114       2.125\n",
      "assists        0.8834      1.381      0.640      0.546      -2.495       4.262\n",
      "rebounds      -0.4278      0.851     -0.503      0.633      -2.510       1.655\n",
      "==============================================================================\n",
      "Omnibus:                        2.711   Durbin-Watson:                   2.392\n",
      "Prob(Omnibus):                  0.258   Jarque-Bera (JB):                0.945\n",
      "Skew:                          -0.751   Prob(JB):                        0.624\n",
      "Kurtosis:                       3.115   Cond. No.                         217.\n",
      "==============================================================================\n",
      "\n",
      "Notes:\n",
      "[1] Standard Errors assume that the covariance matrix of the errors is correctly specified.\n"
     ]
    },
    {
     "name": "stderr",
     "output_type": "stream",
     "text": [
      "C:\\ProgramData\\anaconda3\\Lib\\site-packages\\scipy\\stats\\_stats_py.py:1806: UserWarning: kurtosistest only valid for n>=20 ... continuing anyway, n=10\n",
      "  warnings.warn(\"kurtosistest only valid for n>=20 ... continuing \"\n"
     ]
    }
   ],
   "source": [
    "model = ols('rating ~ points + assists + rebounds', data =df).fit()\n",
    "print(model.summary())"
   ]
  },
  {
   "cell_type": "code",
   "execution_count": 20,
   "id": "13a6cc4e",
   "metadata": {},
   "outputs": [],
   "source": [
    "from statsmodels.stats.stattools import durbin_watson"
   ]
  },
  {
   "cell_type": "code",
   "execution_count": 21,
   "id": "379190a4",
   "metadata": {},
   "outputs": [
    {
     "data": {
      "text/plain": [
       "2.3920546872335327"
      ]
     },
     "execution_count": 21,
     "metadata": {},
     "output_type": "execute_result"
    }
   ],
   "source": [
    "durbin_watson(model.resid)"
   ]
  }
 ],
 "metadata": {
  "kernelspec": {
   "display_name": "Python 3 (ipykernel)",
   "language": "python",
   "name": "python3"
  },
  "language_info": {
   "codemirror_mode": {
    "name": "ipython",
    "version": 3
   },
   "file_extension": ".py",
   "mimetype": "text/x-python",
   "name": "python",
   "nbconvert_exporter": "python",
   "pygments_lexer": "ipython3",
   "version": "3.11.4"
  }
 },
 "nbformat": 4,
 "nbformat_minor": 5
}
