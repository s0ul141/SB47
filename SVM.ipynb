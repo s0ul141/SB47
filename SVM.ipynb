{
 "cells": [
  {
   "cell_type": "code",
   "execution_count": null,
   "id": "cb341806",
   "metadata": {},
   "outputs": [],
   "source": [
    "import numpy as np\n",
    "\n",
    "def svm_hyperplane(support_vectors, categories):\n",
    "    # Step 1: Create matrices A and B\n",
    "    A = np.array(support_vectors)\n",
    "    A = np.hstack((A, np.ones((A.shape[0], 1))))  # Add a row of 1s to A\n",
    "    B = np.array([[-1] if category == -1 else [1] for category in categories])\n",
    "\n",
    "    # Step 2: Calculate Alpha\n",
    "    Alpha = np.linalg.pinv(A) @ B\n",
    "\n",
    "    # Step 3: Calculate W\n",
    "    W = sum(Alpha[i] * A[i] for i in range(len(A)))\n",
    "\n",
    "    return W\n",
    "\n",
    "# Define support vectors and their categories\n",
    "support_vectors = [[1, 0], [3, 1], [3, -1]]\n",
    "categories = [-1, 1, 1]\n",
    "\n",
    "# Calculate the hyperplane\n",
    "W = svm_hyperplane(support_vectors, categories)\n",
    "print(\"The equation of the hyperplane is: \", W)\n",
    "\n",
    "\n",
    "\n",
    "\n",
    "import numpy as np\n",
    "\n",
    "def svm_hyperplane(support_vectors, categories):\n",
    "    # Step 1: Create matrices A and B\n",
    "    A = np.array(support_vectors)\n",
    "    A = np.hstack((A, np.ones((A.shape[0], 1))))  # Add a row of 1s to A\n",
    "    B = np.array([[-1] if category == -1 else [1] for category in categories])\n",
    "\n",
    "    # Step 2: Calculate Alpha\n",
    "    Alpha = np.linalg.pinv(A.T) @ B  # Transpose A before calculating Alpha\n",
    "\n",
    "    # Step 3: Calculate W\n",
    "    W = np.dot(Alpha.T, A).flatten()  # Use dot product instead of sum\n",
    "\n",
    "    return W\n",
    "\n",
    "# Define support vectors and their categories\n",
    "support_vectors = [[1, 0], [3, 1], [3, -1]]\n",
    "categories = [-1, 1, 1]\n",
    "\n",
    "# Calculate the hyperplane\n",
    "W = svm_hyperplane(support_vectors, categories)\n",
    "print(\"The equation of the hyperplane is: \", W)\n"
   ]
  }
 ],
 "metadata": {
  "kernelspec": {
   "display_name": "Python 3 (ipykernel)",
   "language": "python",
   "name": "python3"
  },
  "language_info": {
   "codemirror_mode": {
    "name": "ipython",
    "version": 3
   },
   "file_extension": ".py",
   "mimetype": "text/x-python",
   "name": "python",
   "nbconvert_exporter": "python",
   "pygments_lexer": "ipython3",
   "version": "3.11.4"
  }
 },
 "nbformat": 4,
 "nbformat_minor": 5
}
