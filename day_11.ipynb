{
 "cells": [
  {
   "cell_type": "code",
   "execution_count": 6,
   "id": "6871fde1",
   "metadata": {},
   "outputs": [
    {
     "name": "stdout",
     "output_type": "stream",
     "text": [
      "0\n",
      "1\n",
      "1\n",
      "2\n",
      "3\n",
      "5\n",
      "8\n",
      "13\n",
      "21\n"
     ]
    }
   ],
   "source": [
    "#question 1\n",
    "\n",
    "def fib(n):\n",
    "    if n>1:\n",
    "        return fib(n-1)+fib(n-2)\n",
    "    else:\n",
    "        return n\n",
    "def fib_upto_n(n):\n",
    "    for i in range(n):\n",
    "        print(fib(i))\n",
    "        \n",
    "fib_upto_n(9)"
   ]
  },
  {
   "cell_type": "code",
   "execution_count": 6,
   "id": "42d9d1e3",
   "metadata": {},
   "outputs": [
    {
     "data": {
      "text/plain": [
       "17"
      ]
     },
     "execution_count": 6,
     "metadata": {},
     "output_type": "execute_result"
    }
   ],
   "source": [
    "#question 2 part-1\n",
    "def collatz_norecure(n):\n",
    "    l=[n]\n",
    "    while n>1:\n",
    "        if n%2==0:\n",
    "            n= n//2\n",
    "        else:\n",
    "            n= 3*n+1\n",
    "        l.append(n)\n",
    "    return l\n",
    "\n",
    "k=len(collatz_norecure(7))\n",
    "k"
   ]
  },
  {
   "cell_type": "code",
   "execution_count": 2,
   "id": "b10b3538",
   "metadata": {},
   "outputs": [
    {
     "data": {
      "text/plain": [
       "6"
      ]
     },
     "execution_count": 2,
     "metadata": {},
     "output_type": "execute_result"
    }
   ],
   "source": [
    "#question 2 part-2\n",
    "\n",
    "def collatz(n, c=0):\n",
    "    if n==1:\n",
    "        return [n]\n",
    "    elif n%2==0:\n",
    "        c+=1\n",
    "        return[n]+collatz(n//2,c )\n",
    "    else:\n",
    "        return [n]+collatz(3*n+1)\n",
    "\n",
    "a= len(collatz(5))\n",
    "a"
   ]
  },
  {
   "cell_type": "code",
   "execution_count": null,
   "id": "1ee7e681",
   "metadata": {},
   "outputs": [],
   "source": [
    "def get_matrix_dimensions(matrix):\n",
    "    # Get the dimensions of a matrix (rows, columns)\n",
    "    rows = len(matrix)\n",
    "    columns = len(matrix[0])\n",
    "    return rows, columns\n",
    "\n",
    "def check_matrix_dimensions(*matrices):\n",
    "    # Check if all matrices have compatible dimensions for multiplication\n",
    "    prev_columns = None\n",
    "    for matrix in matrices:\n",
    "        rows, columns = get_matrix_dimensions(matrix)\n",
    "        if prev_columns is not None and prev_columns != rows:\n",
    "            return False\n",
    "        prev_columns = columns\n",
    "    return True\n",
    "\n",
    "def matrix_multiplication(*matrices):\n",
    "    # Check if the dimensions are compatible for multiplication\n",
    "    if not check_matrix_dimensions(*matrices):\n",
    "        raise ValueError(\"Matrix dimensions are not compatible for multiplication.\")\n",
    "    \n",
    "    # Perform matrix multiplication\n",
    "    result = matrices[0]\n",
    "    for matrix in matrices[1:]:\n",
    "        result = multiply(result, matrix)\n",
    "    \n",
    "    return result\n",
    "\n",
    "def multiply(matrix1, matrix2):\n",
    "    # Perform matrix multiplication for two matrices\n",
    "    rows1, cols1 = get_matrix_dimensions(matrix1)\n",
    "    rows2, cols2 = get_matrix_dimensions(matrix2)\n",
    "    \n",
    "    if cols1 != rows2:\n",
    "        raise ValueError(\"Matrix dimensions are not compatible for multiplication.\")\n",
    "    \n",
    "    result = [[0 for _ in range(cols2)] for _ in range(rows1)]\n",
    "    \n",
    "    for i in range(rows1):\n",
    "        for j in range(cols2):\n",
    "            for k in range(cols1):\n",
    "                result[i][j] += matrix1[i][k] * matrix2[k][j]\n",
    "    \n",
    "    return result\n",
    "\n",
    "# Example usage:\n",
    "matA = [[1, 2], [3, 4]]\n",
    "matB = [[5, 6], [7, 8]]\n",
    "matC = [[9, 10], [11, 12]]\n",
    "\n",
    "result = matrix_multiplication(matA, matB, matC)\n",
    "print(\"Resultant Matrix:\")\n",
    "for row in result:\n",
    "    print(row)\n"
   ]
  }
 ],
 "metadata": {
  "kernelspec": {
   "display_name": "Python 3 (ipykernel)",
   "language": "python",
   "name": "python3"
  },
  "language_info": {
   "codemirror_mode": {
    "name": "ipython",
    "version": 3
   },
   "file_extension": ".py",
   "mimetype": "text/x-python",
   "name": "python",
   "nbconvert_exporter": "python",
   "pygments_lexer": "ipython3",
   "version": "3.11.4"
  }
 },
 "nbformat": 4,
 "nbformat_minor": 5
}
