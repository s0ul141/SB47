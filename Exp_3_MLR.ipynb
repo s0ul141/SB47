{
 "cells": [
  {
   "cell_type": "markdown",
   "id": "87705dec",
   "metadata": {},
   "source": [
    "Write a Python code to display the linear regression equation for  (x_i,y_i), i=1,2, ....,n  using the least square method. Use the code for the following:\n",
    "\n",
    "Data1:\n",
    "\n",
    " x: 14 , 16 , 18 , 20 , 24 , 30 , 32 \n",
    "\n",
    " y: 52 , 62 , 65 , 70 , 76 , 80 , 78 \n",
    "Data2;\n",
    "\n",
    " x_1: 1.6 , 22.0 , 33.0 , 15.5 , 43.0 , 40.0 \n",
    "\n",
    " x_2: 851 , 1058 , 1357 , 816 , 1201 , 1115 \n",
    "\n",
    " y: 193 , 172 , 113 , 230 , 91 , 125 \n",
    "\n"
   ]
  },
  {
   "cell_type": "markdown",
   "id": "890985b6",
   "metadata": {},
   "source": [
    "Least square library "
   ]
  },
  {
   "cell_type": "code",
   "execution_count": 4,
   "id": "81eaf1df",
   "metadata": {},
   "outputs": [
    {
     "name": "stdout",
     "output_type": "stream",
     "text": [
      "y = 350.994 + -1.272*x1 + -0.154*x2\n"
     ]
    }
   ],
   "source": [
    "import numpy as np\n",
    "\n",
    "# Define the x1, x2, and y values\n",
    "x1 = np.array([1.6, 22.0, 33.0, 15.5, 43.0, 40.0])\n",
    "x2 = np.array([851, 1058, 1357, 816, 1201, 1115])\n",
    "y = np.array([193, 172, 113, 230, 91, 125])\n",
    "\n",
    "# Add a column of ones to x for the intercept term\n",
    "X = np.column_stack((np.ones(len(x1)), x1, x2))\n",
    "\n",
    "# Calculate the coefficients using the least squares method\n",
    "coefficients = np.linalg.lstsq(X, y, rcond=None)[0]\n",
    "\n",
    "# Print the equation of the regression line\n",
    "print(f\"y = {round(coefficients[0],3)} + {round(coefficients[1],3)}*x1 + {round(coefficients[2],3)}*x2\")\n",
    "\n"
   ]
  },
  {
   "cell_type": "markdown",
   "id": "367b8570",
   "metadata": {},
   "source": [
    "## Matrix Multiplication \n"
   ]
  },
  {
   "cell_type": "code",
   "execution_count": 4,
   "id": "0e6e87e0",
   "metadata": {},
   "outputs": [
    {
     "name": "stdout",
     "output_type": "stream",
     "text": [
      "The coefficients of the regression line are: 350.994, -1.272, -0.154\n"
     ]
    }
   ],
   "source": [
    "import numpy as np\n",
    "\n",
    "x1 = np.array([1.6, 22.0, 33.0, 15.5, 43.0, 40.0])\n",
    "x2 = np.array([851, 1058, 1357, 816, 1201, 1115])\n",
    "y = np.array([193, 172, 113, 230, 91, 125])\n",
    "\n",
    "# Add a column of ones to x for the intercept term\n",
    "X = np.column_stack((np.ones(len(x1)), x1, x2))\n",
    "\n",
    "# Calculate the coefficients using matrix multiplication and inversion\n",
    "coefficients = np.linalg.inv(X.T @ X) @ X.T @ y\n",
    "\n",
    "print(f\"The coefficients of the regression line are: {np.round(coefficients[0],3)}, {np.round(coefficients[1],3)}, {np.round(coefficients[2],3)}\")\n"
   ]
  }
 ],
 "metadata": {
  "kernelspec": {
   "display_name": "Python 3 (ipykernel)",
   "language": "python",
   "name": "python3"
  },
  "language_info": {
   "codemirror_mode": {
    "name": "ipython",
    "version": 3
   },
   "file_extension": ".py",
   "mimetype": "text/x-python",
   "name": "python",
   "nbconvert_exporter": "python",
   "pygments_lexer": "ipython3",
   "version": "3.11.4"
  }
 },
 "nbformat": 4,
 "nbformat_minor": 5
}
