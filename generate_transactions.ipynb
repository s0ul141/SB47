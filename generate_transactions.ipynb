{
 "cells": [
  {
   "cell_type": "code",
   "execution_count": 1,
   "id": "d482eca4",
   "metadata": {},
   "outputs": [],
   "source": [
    "import csv\n",
    "import random"
   ]
  },
  {
   "cell_type": "code",
   "execution_count": 2,
   "id": "52a13a30",
   "metadata": {},
   "outputs": [],
   "source": [
    "\n",
    "# Function to generate a random combination of items for a transaction\n",
    "def generate_random_items():\n",
    "    items = random.sample(items_pool, random.randint(1, min(10, len(items_pool))))\n",
    "    return ','.join(items)\n",
    "\n",
    "# Items from A to T\n",
    "items_pool = [chr(ord('A') + i) for i in range(20)]\n",
    "\n",
    "# Number of transactions\n",
    "num_transactions = 50\n",
    "\n",
    "# Create CSV content\n",
    "csv_content = [(\"t\" + str(i + 1), generate_random_items()) for i in range(num_transactions)]\n",
    "\n",
    "# Add header\n",
    "csv_content.insert(0, (\"Transaction\", \"Items\"))"
   ]
  },
  {
   "cell_type": "code",
   "execution_count": 5,
   "id": "490584cf",
   "metadata": {},
   "outputs": [
    {
     "name": "stdout",
     "output_type": "stream",
     "text": [
      "CSV file 'randomized_transactions.csv' has been created.\n"
     ]
    }
   ],
   "source": [
    "# Save CSV content to a file\n",
    "with open(\"D:/Downloads/randomized_transactions.csv\", \"w\", newline=\"\") as csvfile:\n",
    "    csv_writer = csv.writer(csvfile)\n",
    "    csv_writer.writerows(csv_content)\n",
    "\n",
    "print(\"CSV file 'randomized_transactions.csv' has been created.\")\n"
   ]
  },
  {
   "cell_type": "code",
   "execution_count": 6,
   "id": "2e6156a5",
   "metadata": {},
   "outputs": [
    {
     "name": "stdout",
     "output_type": "stream",
     "text": [
      "CSV file 'biased_transactions.csv' has been created.\n"
     ]
    }
   ],
   "source": [
    "\n",
    "# Function to generate a biased combination of items for a transaction\n",
    "def generate_biased_items():\n",
    "    items = []\n",
    "    for _ in range(random.randint(1, min(10, len(items_pool)))):\n",
    "        # Introduce bias by selecting A, B, or C with higher probability\n",
    "        item = random.choice(['A', 'B', 'C', 'D', 'E', 'F', 'G', 'H', 'I', 'J', 'K', 'L', 'M', 'N', 'O', 'P', 'Q', 'R', 'S', 'T'])\n",
    "        items.append(item)\n",
    "    return ','.join(items)\n",
    "\n",
    "# Items from A to T\n",
    "items_pool = [chr(ord('A') + i) for i in range(20)]\n",
    "\n",
    "# Number of transactions\n",
    "num_transactions = 50\n",
    "\n",
    "# Create CSV content\n",
    "csv_content = [(\"t\" + str(i + 1), generate_biased_items()) for i in range(num_transactions)]\n",
    "\n",
    "# Add header\n",
    "csv_content.insert(0, (\"Transaction\", \"Items\"))\n",
    "\n",
    "# Specify the full path to save the file\n",
    "file_path = \"D:/Downloads/custom_transactions.csv\"\n",
    "\n",
    "# Save CSV content to a file\n",
    "with open(file_path, \"w\", newline=\"\") as csvfile:\n",
    "    csv_writer = csv.writer(csvfile)\n",
    "    csv_writer.writerows(csv_content)\n",
    "\n",
    "print(\"CSV file 'biased_transactions.csv' has been created.\")\n"
   ]
  },
  {
   "cell_type": "code",
   "execution_count": 8,
   "id": "2ad5994e",
   "metadata": {},
   "outputs": [
    {
     "name": "stdout",
     "output_type": "stream",
     "text": [
      "CSV file 'at5_transactions.csv' has been created.\n"
     ]
    }
   ],
   "source": [
    "\n",
    "# Function to generate a biased combination of items for a transaction with at least 5 items\n",
    "def generate_biased_items():\n",
    "    # Start with at least 5 items\n",
    "    items = random.sample(items_pool, 5)\n",
    "\n",
    "    # Add more items randomly (up to a total of 10 items)\n",
    "    items.extend(random.sample(items_pool, random.randint(0, min(5, len(items_pool) - 5))))\n",
    "\n",
    "    return ','.join(items)\n",
    "\n",
    "# Items from A to T\n",
    "items_pool = [chr(ord('A') + i) for i in range(20)]\n",
    "\n",
    "# Number of transactions\n",
    "num_transactions = 50\n",
    "\n",
    "# Create CSV content\n",
    "csv_content = [(\"t\" + str(i + 1), generate_biased_items()) for i in range(num_transactions)]\n",
    "\n",
    "# Add header\n",
    "csv_content.insert(0, (\"Transaction\", \"Items\"))\n",
    "\n",
    "# Specify the full path to save the file\n",
    "file_path = \"D:/Downloads/at5_transactions.csv\"\n",
    "\n",
    "# Save CSV content to a file\n",
    "with open(file_path, \"w\", newline=\"\") as csvfile:\n",
    "    csv_writer = csv.writer(csvfile)\n",
    "    csv_writer.writerows(csv_content)\n",
    "\n",
    "print(\"CSV file 'at5_transactions.csv' has been created.\")\n",
    "\n"
   ]
  }
 ],
 "metadata": {
  "kernelspec": {
   "display_name": "Python 3 (ipykernel)",
   "language": "python",
   "name": "python3"
  },
  "language_info": {
   "codemirror_mode": {
    "name": "ipython",
    "version": 3
   },
   "file_extension": ".py",
   "mimetype": "text/x-python",
   "name": "python",
   "nbconvert_exporter": "python",
   "pygments_lexer": "ipython3",
   "version": "3.11.4"
  }
 },
 "nbformat": 4,
 "nbformat_minor": 5
}
