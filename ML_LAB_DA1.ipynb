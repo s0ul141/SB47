{
 "cells": [
  {
   "cell_type": "markdown",
   "id": "7ceb77a1",
   "metadata": {},
   "source": [
    "## Q.1"
   ]
  },
  {
   "cell_type": "code",
   "execution_count": 1,
   "id": "d8510ee8",
   "metadata": {},
   "outputs": [],
   "source": [
    "from collections import defaultdict"
   ]
  },
  {
   "cell_type": "code",
   "execution_count": 2,
   "id": "4fb0c050",
   "metadata": {},
   "outputs": [],
   "source": [
    "def aprItemFn(transactions, min_support):\n",
    "    # Convert transactions to a list of sets\n",
    "    transactions = [set(transaction) for transaction in transactions]\n",
    "    \n",
    "    # Calculate the support count for each item\n",
    "    item_counts = defaultdict(int)\n",
    "    for transaction in transactions:\n",
    "        for item in transaction:\n",
    "            item_counts[item] += 1\n",
    "    \n",
    "    # Find frequent items based on minimum support\n",
    "    frequent_items = set()\n",
    "    item_support = {}\n",
    "    for item, count in item_counts.items():\n",
    "        support = count / len(transactions)\n",
    "        if support >= min_support:\n",
    "            frequent_items.add(frozenset([item]))\n",
    "            item_support[frozenset([item])] = support\n",
    "    \n",
    "    # Generate frequent itemsets of length k\n",
    "    k = 2\n",
    "    while True:\n",
    "        candidate_sets = aprior_gen(frequent_items, k)\n",
    "        frequent_items_k = set()\n",
    "        item_support_k = {}\n",
    "        \n",
    "        for candidate in candidate_sets:\n",
    "            count = sum(1 for transaction in transactions if candidate.issubset(transaction))\n",
    "            support = count / len(transactions)\n",
    "            \n",
    "            if support >= min_support:\n",
    "                frequent_items_k.add(candidate)\n",
    "                item_support_k[candidate] = support\n",
    "        \n",
    "        if not frequent_items_k:\n",
    "            break\n",
    "        \n",
    "        frequent_items.update(frequent_items_k)\n",
    "        item_support.update(item_support_k)\n",
    "        k += 1\n",
    "    \n",
    "    return item_support\n",
    "\n",
    "def aprior_gen(frequent_items, k):\n",
    "    candidate_sets = []\n",
    "    for i in frequent_items:\n",
    "        for j in frequent_items:\n",
    "            candidate = i.union(j)\n",
    "            if len(candidate) == k:\n",
    "                candidate_sets.append(candidate)\n",
    "    return set(candidate_sets)\n"
   ]
  },
  {
   "cell_type": "code",
   "execution_count": 3,
   "id": "f36b94f2",
   "metadata": {
    "scrolled": true
   },
   "outputs": [
    {
     "name": "stdout",
     "output_type": "stream",
     "text": [
      "Enter the number of transactions: 5\n",
      "Enter transaction 1 : milk,bread,eggs\n",
      "Enter transaction 2 : bread,eggs,butter\n",
      "Enter transaction 3 : milk,eggs,butter\n",
      "Enter transaction 4 : milk,bread,butter\n",
      "Enter transaction 5 : milk,bread,cheese\n",
      "Enter the minimum support threshold (between 0 and 1): 0.3\n"
     ]
    }
   ],
   "source": [
    "# User input for transactions\n",
    "num_transactions = int(input(\"Enter the number of transactions: \"))\n",
    "transactions = []\n",
    "for i in range(num_transactions):\n",
    "    transaction = input(f\"Enter transaction {i+1} : \").split(',')\n",
    "    transactions.append(transaction)\n",
    "\n",
    "# User input for minimum support threshold\n",
    "min_support = float(input(\"Enter the minimum support threshold (between 0 and 1): \"))\n",
    "\n"
   ]
  },
  {
   "cell_type": "code",
   "execution_count": 4,
   "id": "5745a68f",
   "metadata": {},
   "outputs": [
    {
     "name": "stdout",
     "output_type": "stream",
     "text": [
      "Itemset: {'milk'}, Support: 0.80\n",
      "Itemset: {'bread'}, Support: 0.80\n",
      "Itemset: {'eggs'}, Support: 0.60\n",
      "Itemset: {'butter'}, Support: 0.60\n",
      "Itemset: {'eggs', 'butter'}, Support: 0.40\n",
      "Itemset: {'milk', 'bread'}, Support: 0.60\n",
      "Itemset: {'bread', 'eggs'}, Support: 0.40\n",
      "Itemset: {'milk', 'eggs'}, Support: 0.40\n",
      "Itemset: {'milk', 'butter'}, Support: 0.40\n",
      "Itemset: {'bread', 'butter'}, Support: 0.40\n"
     ]
    }
   ],
   "source": [
    "frequent_itemsets = aprItemFn(transactions, min_support)\n",
    "\n",
    "for itemset, support in frequent_itemsets.items():\n",
    "    print(f\"Itemset: {set(itemset)}, Support: {support:.2f}\")"
   ]
  },
  {
   "cell_type": "markdown",
   "id": "7105f61e",
   "metadata": {},
   "source": [
    "## Q.2"
   ]
  },
  {
   "cell_type": "code",
   "execution_count": 5,
   "id": "e4ae859a",
   "metadata": {},
   "outputs": [],
   "source": [
    "from collections import defaultdict\n",
    "from itertools import combinations"
   ]
  },
  {
   "cell_type": "code",
   "execution_count": 7,
   "id": "be9fe32f",
   "metadata": {},
   "outputs": [],
   "source": [
    "def aprRuleFn(frequent_itemsets, min_confidence):\n",
    "    rules = []\n",
    "    for itemset, support in frequent_itemsets.items():\n",
    "        if len(itemset) > 1:\n",
    "            subsets = [frozenset(subset) for subset in combinations(itemset, len(itemset) - 1)]\n",
    "            for subset in subsets:\n",
    "                remaining = itemset - subset\n",
    "                conf = support / frequent_itemsets[subset]\n",
    "                if conf >= min_confidence:\n",
    "                    rules.append((subset, remaining, conf, support))\n",
    "    return rules\n",
    "#def aprItemFn(transactions, min_support):\n",
    "    # ... (function implementation from the previous Code)"
   ]
  },
  {
   "cell_type": "code",
   "execution_count": 8,
   "id": "a0c7eb44",
   "metadata": {},
   "outputs": [
    {
     "name": "stdout",
     "output_type": "stream",
     "text": [
      "Enter the number of transactions: 9\n",
      "Enter transaction 1 : I1,I2,I5\n",
      "Enter transaction 2 : I2, I4\n",
      "Enter transaction 3 : I2, I3\n",
      "Enter transaction 4 : I1,I2,I4\n",
      "Enter transaction 5 : I1,I3\n",
      "Enter transaction 6 : I2,I3\n",
      "Enter transaction 7 : I1,I3\n",
      "Enter transaction 8 : I1,I2,I3,I5\n",
      "Enter transaction 9 : I1,I2,I3\n",
      "Enter the minimum support threshold (between 0 and 1): 0.3\n",
      "Enter the minimum confidence threshold (between 0 and 1): 0.5\n"
     ]
    }
   ],
   "source": [
    "# User input for transactions\n",
    "num_transactions = int(input(\"Enter the number of transactions: \"))\n",
    "transactions = []\n",
    "for i in range(num_transactions):\n",
    "    transaction = input(f\"Enter transaction {i+1} : \").split(',')\n",
    "    transactions.append(transaction)\n",
    "\n",
    "# User input for minimum support threshold\n",
    "min_support = float(input(\"Enter the minimum support threshold (between 0 and 1): \"))\n",
    "\n",
    "min_confidence = float(input(\"Enter the minimum confidence threshold (between 0 and 1): \"))\n",
    "\n",
    "frequent_itemsets = aprItemFn(transactions, min_support)\n",
    "rules = aprRuleFn(frequent_itemsets, min_confidence)"
   ]
  },
  {
   "cell_type": "code",
   "execution_count": 9,
   "id": "1cf1bbc1",
   "metadata": {},
   "outputs": [
    {
     "name": "stdout",
     "output_type": "stream",
     "text": [
      "Rule: {'I1'} -> {'I2'}, Confidence: 0.67, Support: 0.44\n",
      "Rule: {'I2'} -> {'I1'}, Confidence: 0.57, Support: 0.44\n",
      "Rule: {'I1'} -> {'I3'}, Confidence: 0.67, Support: 0.44\n",
      "Rule: {'I3'} -> {'I1'}, Confidence: 0.80, Support: 0.44\n",
      "Rule: {'I3'} -> {'I2'}, Confidence: 0.60, Support: 0.33\n"
     ]
    }
   ],
   "source": [
    "for rule in rules:\n",
    "    antecedent, consequent, confidence, support = rule\n",
    "    print(f\"Rule: {set(antecedent)} -> {set(consequent)}, Confidence: {confidence:.2f}, Support: {support:.2f}\")"
   ]
  }
 ],
 "metadata": {
  "kernelspec": {
   "display_name": "Python 3 (ipykernel)",
   "language": "python",
   "name": "python3"
  },
  "language_info": {
   "codemirror_mode": {
    "name": "ipython",
    "version": 3
   },
   "file_extension": ".py",
   "mimetype": "text/x-python",
   "name": "python",
   "nbconvert_exporter": "python",
   "pygments_lexer": "ipython3",
   "version": "3.11.4"
  }
 },
 "nbformat": 4,
 "nbformat_minor": 5
}
