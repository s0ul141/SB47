{
 "cells": [
  {
   "cell_type": "markdown",
   "id": "4f8001ce",
   "metadata": {},
   "source": [
    "1. Write a Python Program to Count Alphabets, Digits and Special Characters in a\n",
    "String"
   ]
  },
  {
   "cell_type": "code",
   "execution_count": 1,
   "id": "5e14c2b7",
   "metadata": {},
   "outputs": [
    {
     "name": "stdout",
     "output_type": "stream",
     "text": [
      "enter a string :sadhb\n",
      "No of number: 0\n",
      "No of char: 5\n",
      "No of special characters: 0\n"
     ]
    }
   ],
   "source": [
    "a=input(\"enter a string :\")\n",
    "n=0\n",
    "c=0\n",
    "s=0\n",
    "for i in a:\n",
    "    if i.isdigit():\n",
    "        n=n+1\n",
    "    elif i.isalpha():\n",
    "        c=c+1\n",
    "    else:\n",
    "        s=s+1\n",
    "print(\"No of number:\", +n)\n",
    "print(\"No of char:\", +c)\n",
    "print(\"No of special characters:\", +s)"
   ]
  },
  {
   "cell_type": "markdown",
   "id": "ffee2773",
   "metadata": {},
   "source": [
    "2. Write a Python Program to calculate the positive divisors of a given number."
   ]
  },
  {
   "cell_type": "code",
   "execution_count": 20,
   "id": "a855e0a8",
   "metadata": {},
   "outputs": [
    {
     "name": "stdout",
     "output_type": "stream",
     "text": [
      "enter a number1234\n",
      "the list of divisors are [1, 2, 617]\n"
     ]
    }
   ],
   "source": [
    "a= int(input(\"enter a number\"))\n",
    "l=[]\n",
    "if(a>0):\n",
    "    for i in range (1, a):\n",
    "        if a%i==0:\n",
    "            l.append(i)\n",
    "else:\n",
    "    print(\"no positive divisors\")\n",
    "print(\"the list of divisors are\", l)        "
   ]
  },
  {
   "cell_type": "markdown",
   "id": "346f192c",
   "metadata": {},
   "source": [
    "3. Write a Python Program to add the digits of a given number."
   ]
  },
  {
   "cell_type": "code",
   "execution_count": 17,
   "id": "f941ae4c",
   "metadata": {},
   "outputs": [
    {
     "name": "stdout",
     "output_type": "stream",
     "text": [
      "enter a number134\n",
      "the summation of digits is : 8\n"
     ]
    }
   ],
   "source": [
    "a= int(input(\"enter a number\"))\n",
    "s=0\n",
    "d=0\n",
    "while a>0:\n",
    "    d=a%10\n",
    "    a=a//10\n",
    "    s=s+d\n",
    "print(\"the summation of digits is :\", +s)\n",
    "    \n"
   ]
  },
  {
   "cell_type": "markdown",
   "id": "4fe4c003",
   "metadata": {},
   "source": [
    "4. Write a Python Program that accepts a string and calculates the number of\n",
    "upper and lower case letters (Hint: Use Dictionaries)"
   ]
  },
  {
   "cell_type": "code",
   "execution_count": 29,
   "id": "30232ca2",
   "metadata": {},
   "outputs": [
    {
     "name": "stdout",
     "output_type": "stream",
     "text": [
      "enter a string :asdZzASD\n",
      "the number of upper case letter are  4\n",
      "the number of lower case letter are  4\n"
     ]
    }
   ],
   "source": [
    "a= input(\"enter a string :\")\n",
    "u=0\n",
    "l=0\n",
    "for i in a:\n",
    "    if (i>='a' and i<='z'):\n",
    "        u=u+1\n",
    "    elif (i>='A' and i<='Z'):\n",
    "        l=l+1\n",
    "print(\"the number of upper case letter are \",u)\n",
    "print(\"the number of lower case letter are \",l)\n",
    "        \n",
    "        "
   ]
  },
  {
   "cell_type": "markdown",
   "id": "967cb148",
   "metadata": {},
   "source": [
    "5. Write a Python Program which accepts a list of values and returns the two\n",
    "separate lists, one containing the even numbers and the other containing the\n",
    "odd numbers. The program should also return the maximum and minimum in\n",
    "both lists"
   ]
  },
  {
   "cell_type": "code",
   "execution_count": 9,
   "id": "2fbc7795",
   "metadata": {},
   "outputs": [
    {
     "name": "stdout",
     "output_type": "stream",
     "text": [
      "enter length od list :5\n",
      "enter a number :12\n",
      "enter a number :11\n",
      "enter a number :3\n",
      "enter a number :2\n",
      "enter a number :4\n",
      "list of even [12, 2, 4] , max value of even list 12 , min value of even list 2\n",
      "list of odd [11, 3] , max value of odd list 11 , min value of odd list 3\n"
     ]
    }
   ],
   "source": [
    "n = int(input(\"enter length od list :\"))\n",
    "l = [ int(input(\"enter a number :\")) for i in range (n)]\n",
    "even = [i for i in l if i%2==0]\n",
    "odd = [i for i in l if i%2!=0]\n",
    "m_e=max(even)\n",
    "l_e=min(even)\n",
    "m_o=max(odd)\n",
    "l_o=min(odd)\n",
    "print(\"list of even\",even,\", max value of even list\",+m_e,\", min value of even list\",+l_e)\n",
    "print(\"list of odd\",odd,\", max value of odd list\",+m_o,\", min value of odd list\",+l_o)"
   ]
  },
  {
   "cell_type": "markdown",
   "id": "40f129d8",
   "metadata": {},
   "source": [
    "6. Write a Python Program which accepts row and column dimensions from users\n",
    "and then accepts two lists of numbers (of the same size) that can fit into these\n",
    "rows and columns and then convert these lists of numbers to arrays and then\n",
    "add, subtract, multiply element-wise (c*i+j)"
   ]
  },
  {
   "cell_type": "code",
   "execution_count": 3,
   "id": "13c02c46",
   "metadata": {},
   "outputs": [
    {
     "name": "stdout",
     "output_type": "stream",
     "text": [
      "enter no of rows:2\n",
      "enter no of column:2\n",
      "enter a number for list 1 :1\n",
      "enter a number for list 1 :2\n",
      "enter a number for list 1 :3\n",
      "enter a number for list 1 :4\n",
      "enter a number for list 2 :5\n",
      "enter a number for list 2 :6\n",
      "enter a number for list 2 :7\n",
      "enter a number for list 2 :8\n",
      "Sum of matrix\n",
      "[ 6 8 ]\n",
      "[ 10 12 ]\n",
      "Sub of matrix\n",
      "[ -4 -4 ]\n",
      "[ -4 -4 ]\n",
      "mul of matrix\n",
      "[ 5 12 ]\n",
      "[ 21 32 ]\n"
     ]
    }
   ],
   "source": [
    "row=int(input(\"enter no of rows:\"))\n",
    "column=int(input(\"enter no of column:\"))\n",
    "l_1 = [[int(input(\"enter a number for list 1 :\")) for j in range (column)]for i in range (row)]\n",
    "#print(l_1)\n",
    "l_2 = [[int(input(\"enter a number for list 2 :\")) for j in range (column)]for i in range (row)]\n",
    "\n",
    "l_sum=[]\n",
    "l_sub=[]\n",
    "l_mul=[]\n",
    "for i in range(row):\n",
    "    l_sum.append([])\n",
    "    l_sub.append([])\n",
    "    l_mul.append([])\n",
    "    for j in range(column):\n",
    "        s=l_1[i][j]+l_2[i][j]\n",
    "        subb=l_1[i][j]-l_2[i][j]\n",
    "        m=l_1[i][j]*l_2[i][j]\n",
    "        l_sum[i].append(s)\n",
    "        l_sub[i].append(subb)\n",
    "        l_mul[i].append(m)\n",
    "print(\"Sum of matrix\")\n",
    "for i in l_sum:\n",
    "    print(\"[\",*i, \"]\")\n",
    "print(\"Sub of matrix\")\n",
    "for i in l_sub:\n",
    "    print(\"[\",*i, \"]\")\n",
    "print(\"mul of matrix\")\n",
    "for i in l_mul:\n",
    "    print(\"[\",*i, \"]\" )\n",
    "\n",
    "    \n",
    "\n",
    "    \n",
    "\n",
    "    \n"
   ]
  }
 ],
 "metadata": {
  "kernelspec": {
   "display_name": "Python 3 (ipykernel)",
   "language": "python",
   "name": "python3"
  },
  "language_info": {
   "codemirror_mode": {
    "name": "ipython",
    "version": 3
   },
   "file_extension": ".py",
   "mimetype": "text/x-python",
   "name": "python",
   "nbconvert_exporter": "python",
   "pygments_lexer": "ipython3",
   "version": "3.11.4"
  }
 },
 "nbformat": 4,
 "nbformat_minor": 5
}
