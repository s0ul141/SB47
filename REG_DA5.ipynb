{
 "cells": [
  {
   "cell_type": "markdown",
   "id": "b7f849dd",
   "metadata": {},
   "source": [
    "## Q1"
   ]
  },
  {
   "cell_type": "code",
   "execution_count": 1,
   "id": "810cd493",
   "metadata": {},
   "outputs": [],
   "source": [
    "import pandas as pd\n",
    "import numpy as np\n",
    "import matplotlib.pyplot as plt"
   ]
  },
  {
   "cell_type": "code",
   "execution_count": 53,
   "id": "c928a532",
   "metadata": {},
   "outputs": [
    {
     "data": {
      "text/html": [
       "<div>\n",
       "<style scoped>\n",
       "    .dataframe tbody tr th:only-of-type {\n",
       "        vertical-align: middle;\n",
       "    }\n",
       "\n",
       "    .dataframe tbody tr th {\n",
       "        vertical-align: top;\n",
       "    }\n",
       "\n",
       "    .dataframe thead th {\n",
       "        text-align: right;\n",
       "    }\n",
       "</style>\n",
       "<table border=\"1\" class=\"dataframe\">\n",
       "  <thead>\n",
       "    <tr style=\"text-align: right;\">\n",
       "      <th></th>\n",
       "      <th>Obs</th>\n",
       "      <th>team</th>\n",
       "      <th>points</th>\n",
       "    </tr>\n",
       "  </thead>\n",
       "  <tbody>\n",
       "    <tr>\n",
       "      <th>0</th>\n",
       "      <td>1</td>\n",
       "      <td>A</td>\n",
       "      <td>18</td>\n",
       "    </tr>\n",
       "    <tr>\n",
       "      <th>1</th>\n",
       "      <td>2</td>\n",
       "      <td>B</td>\n",
       "      <td>24</td>\n",
       "    </tr>\n",
       "    <tr>\n",
       "      <th>2</th>\n",
       "      <td>3</td>\n",
       "      <td>C</td>\n",
       "      <td>26</td>\n",
       "    </tr>\n",
       "    <tr>\n",
       "      <th>3</th>\n",
       "      <td>4</td>\n",
       "      <td>D</td>\n",
       "      <td>34</td>\n",
       "    </tr>\n",
       "    <tr>\n",
       "      <th>4</th>\n",
       "      <td>5</td>\n",
       "      <td>E</td>\n",
       "      <td>38</td>\n",
       "    </tr>\n",
       "    <tr>\n",
       "      <th>5</th>\n",
       "      <td>6</td>\n",
       "      <td>F</td>\n",
       "      <td>45</td>\n",
       "    </tr>\n",
       "    <tr>\n",
       "      <th>6</th>\n",
       "      <td>7</td>\n",
       "      <td>G</td>\n",
       "      <td>48</td>\n",
       "    </tr>\n",
       "    <tr>\n",
       "      <th>7</th>\n",
       "      <td>8</td>\n",
       "      <td>H</td>\n",
       "      <td>54</td>\n",
       "    </tr>\n",
       "    <tr>\n",
       "      <th>8</th>\n",
       "      <td>9</td>\n",
       "      <td>I</td>\n",
       "      <td>60</td>\n",
       "    </tr>\n",
       "    <tr>\n",
       "      <th>9</th>\n",
       "      <td>10</td>\n",
       "      <td>J</td>\n",
       "      <td>73</td>\n",
       "    </tr>\n",
       "    <tr>\n",
       "      <th>10</th>\n",
       "      <td>11</td>\n",
       "      <td>K</td>\n",
       "      <td>79</td>\n",
       "    </tr>\n",
       "    <tr>\n",
       "      <th>11</th>\n",
       "      <td>12</td>\n",
       "      <td>L</td>\n",
       "      <td>85</td>\n",
       "    </tr>\n",
       "    <tr>\n",
       "      <th>12</th>\n",
       "      <td>13</td>\n",
       "      <td>M</td>\n",
       "      <td>94</td>\n",
       "    </tr>\n",
       "    <tr>\n",
       "      <th>13</th>\n",
       "      <td>14</td>\n",
       "      <td>N</td>\n",
       "      <td>98</td>\n",
       "    </tr>\n",
       "    <tr>\n",
       "      <th>14</th>\n",
       "      <td>15</td>\n",
       "      <td>O</td>\n",
       "      <td>221</td>\n",
       "    </tr>\n",
       "    <tr>\n",
       "      <th>15</th>\n",
       "      <td>16</td>\n",
       "      <td>P</td>\n",
       "      <td>223</td>\n",
       "    </tr>\n",
       "  </tbody>\n",
       "</table>\n",
       "</div>"
      ],
      "text/plain": [
       "    Obs team  points\n",
       "0     1    A      18\n",
       "1     2    B      24\n",
       "2     3    C      26\n",
       "3     4    D      34\n",
       "4     5    E      38\n",
       "5     6    F      45\n",
       "6     7    G      48\n",
       "7     8    H      54\n",
       "8     9    I      60\n",
       "9    10    J      73\n",
       "10   11    K      79\n",
       "11   12    L      85\n",
       "12   13    M      94\n",
       "13   14    N      98\n",
       "14   15    O     221\n",
       "15   16    P     223"
      ]
     },
     "execution_count": 53,
     "metadata": {},
     "output_type": "execute_result"
    }
   ],
   "source": [
    "data = pd.DataFrame({'Obs':[1,2,3,4,5,6,7,8,9,10, 11, 12, 13, 14, 15, 16],\n",
    "                    'team':['A','B','C','D','E','F','G','H','I','J','K','L','M','N','O','P'],\n",
    "                    'points':[18,24,26,34,38,45,48,54,60,73,79,85,94,98,221,223]})\n",
    "data"
   ]
  },
  {
   "cell_type": "markdown",
   "id": "0b171113",
   "metadata": {},
   "source": [
    "## Outlier Detection"
   ]
  },
  {
   "cell_type": "markdown",
   "id": "456c7ddd",
   "metadata": {},
   "source": [
    "#### Method 1 : Box plot"
   ]
  },
  {
   "cell_type": "code",
   "execution_count": 34,
   "id": "e1baf79f",
   "metadata": {},
   "outputs": [
    {
     "data": {
      "image/png": "[encoded data removed]",
      "text/plain": [
       "<Figure size 640x480 with 1 Axes>"
      ]
     },
     "metadata": {},
     "output_type": "display_data"
    }
   ],
   "source": [
    "plt.boxplot(data['points'], vert = False)\n",
    "plt.title(\"Outlier Detection\")\n",
    "plt.xlabel('Points')\n",
    "plt.show()"
   ]
  },
  {
   "cell_type": "markdown",
   "id": "47963f78",
   "metadata": {},
   "source": [
    "#### Method 2: Zscore"
   ]
  },
  {
   "cell_type": "code",
   "execution_count": 35,
   "id": "c1d81e4d",
   "metadata": {},
   "outputs": [
    {
     "name": "stdout",
     "output_type": "stream",
     "text": [
      "Set of outliers : [221, 223]\n"
     ]
    }
   ],
   "source": [
    "outliers = []\n",
    "def detect_outliers(data):\n",
    "    thres = 2\n",
    "    mean = np.mean(data['points'])\n",
    "    std = np.std(data['points'])\n",
    "    for i in data['points']:\n",
    "        z_score = (i - mean)/ std\n",
    "        if (np.abs(z_score)> thres):\n",
    "            outliers.append(i)\n",
    "    \n",
    "    return outliers\n",
    "o = detect_outliers(data)\n",
    "print(\"Set of outliers :\", o)"
   ]
  },
  {
   "cell_type": "markdown",
   "id": "1af1fea1",
   "metadata": {},
   "source": [
    "## Treatment to outliers"
   ]
  },
  {
   "cell_type": "markdown",
   "id": "cffcbedc",
   "metadata": {},
   "source": [
    "#### Quantile Based flooring and Capping"
   ]
  },
  {
   "cell_type": "code",
   "execution_count": 36,
   "id": "b93f7cf1",
   "metadata": {},
   "outputs": [
    {
     "name": "stdout",
     "output_type": "stream",
     "text": [
      "Treated Outliers :\n",
      "     Obs team  points  Treated_points\n",
      "0     1    A      18            25.0\n",
      "1     2    B      24            25.0\n",
      "2     3    C      26            26.0\n",
      "3     4    D      34            34.0\n",
      "4     5    E      38            38.0\n",
      "5     6    F      45            45.0\n",
      "6     7    G      48            48.0\n",
      "7     8    H      54            54.0\n",
      "8     9    I      60            60.0\n",
      "9    10    J      73            73.0\n",
      "10   11    K      79            79.0\n",
      "11   12    L      85            85.0\n",
      "12   13    M      94            94.0\n",
      "13   14    N      98            98.0\n",
      "14   15    O     221           159.5\n",
      "15   16    P     223           159.5\n"
     ]
    }
   ],
   "source": [
    "tenth_percentile = np.percentile(data['points'], 10)\n",
    "ninetieth_percentile = np.percentile(data['points'], 90)\n",
    "b = np.where(data['points']<tenth_percentile, tenth_percentile, data['points'])\n",
    "b = np.where(b>ninetieth_percentile, ninetieth_percentile, b)\n",
    "data['Treated_points']=b\n",
    "print('Treated Outliers :\\n', data)"
   ]
  },
  {
   "cell_type": "code",
   "execution_count": 37,
   "id": "fb7065c6",
   "metadata": {},
   "outputs": [
    {
     "data": {
      "text/plain": [
       "{'whiskers': [<matplotlib.lines.Line2D at 0x2d4da702790>,\n",
       "  <matplotlib.lines.Line2D at 0x2d4da703190>],\n",
       " 'caps': [<matplotlib.lines.Line2D at 0x2d4da703d90>,\n",
       "  <matplotlib.lines.Line2D at 0x2d4da7386d0>],\n",
       " 'boxes': [<matplotlib.lines.Line2D at 0x2d4da701d50>],\n",
       " 'medians': [<matplotlib.lines.Line2D at 0x2d4da738f50>],\n",
       " 'fliers': [<matplotlib.lines.Line2D at 0x2d4d46b7610>],\n",
       " 'means': []}"
      ]
     },
     "execution_count": 37,
     "metadata": {},
     "output_type": "execute_result"
    },
    {
     "data": {
      "image/png": "[encoded data removed]",
      "text/plain": [
       "<Figure size 640x480 with 1 Axes>"
      ]
     },
     "metadata": {},
     "output_type": "display_data"
    }
   ],
   "source": [
    "plt.boxplot(data['Treated_points'])"
   ]
  },
  {
   "cell_type": "code",
   "execution_count": 41,
   "id": "1373ed86",
   "metadata": {
    "scrolled": false
   },
   "outputs": [
    {
     "data": {
      "text/html": [
       "<div>\n",
       "<style scoped>\n",
       "    .dataframe tbody tr th:only-of-type {\n",
       "        vertical-align: middle;\n",
       "    }\n",
       "\n",
       "    .dataframe tbody tr th {\n",
       "        vertical-align: top;\n",
       "    }\n",
       "\n",
       "    .dataframe thead th {\n",
       "        text-align: right;\n",
       "    }\n",
       "</style>\n",
       "<table border=\"1\" class=\"dataframe\">\n",
       "  <thead>\n",
       "    <tr style=\"text-align: right;\">\n",
       "      <th></th>\n",
       "      <th>Obs</th>\n",
       "      <th>team</th>\n",
       "      <th>points</th>\n",
       "      <th>Treated_points</th>\n",
       "      <th>Fixed points</th>\n",
       "    </tr>\n",
       "  </thead>\n",
       "  <tbody>\n",
       "    <tr>\n",
       "      <th>0</th>\n",
       "      <td>1</td>\n",
       "      <td>A</td>\n",
       "      <td>18</td>\n",
       "      <td>25.0</td>\n",
       "      <td>18.0</td>\n",
       "    </tr>\n",
       "    <tr>\n",
       "      <th>1</th>\n",
       "      <td>2</td>\n",
       "      <td>B</td>\n",
       "      <td>24</td>\n",
       "      <td>25.0</td>\n",
       "      <td>24.0</td>\n",
       "    </tr>\n",
       "    <tr>\n",
       "      <th>2</th>\n",
       "      <td>3</td>\n",
       "      <td>C</td>\n",
       "      <td>26</td>\n",
       "      <td>26.0</td>\n",
       "      <td>26.0</td>\n",
       "    </tr>\n",
       "    <tr>\n",
       "      <th>3</th>\n",
       "      <td>4</td>\n",
       "      <td>D</td>\n",
       "      <td>34</td>\n",
       "      <td>34.0</td>\n",
       "      <td>34.0</td>\n",
       "    </tr>\n",
       "    <tr>\n",
       "      <th>4</th>\n",
       "      <td>5</td>\n",
       "      <td>E</td>\n",
       "      <td>38</td>\n",
       "      <td>38.0</td>\n",
       "      <td>38.0</td>\n",
       "    </tr>\n",
       "    <tr>\n",
       "      <th>5</th>\n",
       "      <td>6</td>\n",
       "      <td>F</td>\n",
       "      <td>45</td>\n",
       "      <td>45.0</td>\n",
       "      <td>45.0</td>\n",
       "    </tr>\n",
       "    <tr>\n",
       "      <th>6</th>\n",
       "      <td>7</td>\n",
       "      <td>G</td>\n",
       "      <td>48</td>\n",
       "      <td>48.0</td>\n",
       "      <td>48.0</td>\n",
       "    </tr>\n",
       "    <tr>\n",
       "      <th>7</th>\n",
       "      <td>8</td>\n",
       "      <td>H</td>\n",
       "      <td>54</td>\n",
       "      <td>54.0</td>\n",
       "      <td>54.0</td>\n",
       "    </tr>\n",
       "    <tr>\n",
       "      <th>8</th>\n",
       "      <td>9</td>\n",
       "      <td>I</td>\n",
       "      <td>60</td>\n",
       "      <td>60.0</td>\n",
       "      <td>60.0</td>\n",
       "    </tr>\n",
       "    <tr>\n",
       "      <th>9</th>\n",
       "      <td>10</td>\n",
       "      <td>J</td>\n",
       "      <td>73</td>\n",
       "      <td>73.0</td>\n",
       "      <td>73.0</td>\n",
       "    </tr>\n",
       "    <tr>\n",
       "      <th>10</th>\n",
       "      <td>11</td>\n",
       "      <td>K</td>\n",
       "      <td>79</td>\n",
       "      <td>79.0</td>\n",
       "      <td>79.0</td>\n",
       "    </tr>\n",
       "    <tr>\n",
       "      <th>11</th>\n",
       "      <td>12</td>\n",
       "      <td>L</td>\n",
       "      <td>85</td>\n",
       "      <td>85.0</td>\n",
       "      <td>85.0</td>\n",
       "    </tr>\n",
       "    <tr>\n",
       "      <th>12</th>\n",
       "      <td>13</td>\n",
       "      <td>M</td>\n",
       "      <td>94</td>\n",
       "      <td>94.0</td>\n",
       "      <td>94.0</td>\n",
       "    </tr>\n",
       "    <tr>\n",
       "      <th>13</th>\n",
       "      <td>14</td>\n",
       "      <td>N</td>\n",
       "      <td>98</td>\n",
       "      <td>98.0</td>\n",
       "      <td>98.0</td>\n",
       "    </tr>\n",
       "    <tr>\n",
       "      <th>14</th>\n",
       "      <td>15</td>\n",
       "      <td>O</td>\n",
       "      <td>221</td>\n",
       "      <td>159.5</td>\n",
       "      <td>221.0</td>\n",
       "    </tr>\n",
       "    <tr>\n",
       "      <th>15</th>\n",
       "      <td>16</td>\n",
       "      <td>P</td>\n",
       "      <td>223</td>\n",
       "      <td>159.5</td>\n",
       "      <td>57.0</td>\n",
       "    </tr>\n",
       "  </tbody>\n",
       "</table>\n",
       "</div>"
      ],
      "text/plain": [
       "    Obs team  points  Treated_points  Fixed points\n",
       "0     1    A      18            25.0          18.0\n",
       "1     2    B      24            25.0          24.0\n",
       "2     3    C      26            26.0          26.0\n",
       "3     4    D      34            34.0          34.0\n",
       "4     5    E      38            38.0          38.0\n",
       "5     6    F      45            45.0          45.0\n",
       "6     7    G      48            48.0          48.0\n",
       "7     8    H      54            54.0          54.0\n",
       "8     9    I      60            60.0          60.0\n",
       "9    10    J      73            73.0          73.0\n",
       "10   11    K      79            79.0          79.0\n",
       "11   12    L      85            85.0          85.0\n",
       "12   13    M      94            94.0          94.0\n",
       "13   14    N      98            98.0          98.0\n",
       "14   15    O     221           159.5         221.0\n",
       "15   16    P     223           159.5          57.0"
      ]
     },
     "execution_count": 41,
     "metadata": {},
     "output_type": "execute_result"
    }
   ],
   "source": [
    "\n",
    "median = np.median(data['points'])\n",
    "data['points'] = data['points'].copy()  # Create a copy of the 'points' array\n",
    "for i in o:\n",
    "    data['Fixed points'] = np.where(data['points']==i,median , data['points'])\n",
    "data"
   ]
  },
  {
   "cell_type": "markdown",
   "id": "8478a6af",
   "metadata": {},
   "source": [
    "## Q2"
   ]
  },
  {
   "cell_type": "code",
   "execution_count": 56,
   "id": "b1a7b3fe",
   "metadata": {},
   "outputs": [],
   "source": [
    "from statsmodels.formula.api import ols\n",
    "from statsmodels.stats.stattools import durbin_watson"
   ]
  },
  {
   "cell_type": "code",
   "execution_count": 55,
   "id": "c62dff7b",
   "metadata": {},
   "outputs": [
    {
     "data": {
      "text/html": [
       "<div>\n",
       "<style scoped>\n",
       "    .dataframe tbody tr th:only-of-type {\n",
       "        vertical-align: middle;\n",
       "    }\n",
       "\n",
       "    .dataframe tbody tr th {\n",
       "        vertical-align: top;\n",
       "    }\n",
       "\n",
       "    .dataframe thead th {\n",
       "        text-align: right;\n",
       "    }\n",
       "</style>\n",
       "<table border=\"1\" class=\"dataframe\">\n",
       "  <thead>\n",
       "    <tr style=\"text-align: right;\">\n",
       "      <th></th>\n",
       "      <th>Ph</th>\n",
       "      <th>Sh</th>\n",
       "      <th>Sa</th>\n",
       "      <th>Th</th>\n",
       "      <th>Ta</th>\n",
       "      <th>Gh</th>\n",
       "      <th>Ga</th>\n",
       "    </tr>\n",
       "  </thead>\n",
       "  <tbody>\n",
       "    <tr>\n",
       "      <th>0</th>\n",
       "      <td>0.70</td>\n",
       "      <td>27</td>\n",
       "      <td>6</td>\n",
       "      <td>10</td>\n",
       "      <td>3</td>\n",
       "      <td>4</td>\n",
       "      <td>3</td>\n",
       "    </tr>\n",
       "    <tr>\n",
       "      <th>1</th>\n",
       "      <td>0.22</td>\n",
       "      <td>6</td>\n",
       "      <td>14</td>\n",
       "      <td>2</td>\n",
       "      <td>4</td>\n",
       "      <td>0</td>\n",
       "      <td>2</td>\n",
       "    </tr>\n",
       "    <tr>\n",
       "      <th>2</th>\n",
       "      <td>0.62</td>\n",
       "      <td>19</td>\n",
       "      <td>10</td>\n",
       "      <td>6</td>\n",
       "      <td>5</td>\n",
       "      <td>2</td>\n",
       "      <td>3</td>\n",
       "    </tr>\n",
       "    <tr>\n",
       "      <th>3</th>\n",
       "      <td>0.57</td>\n",
       "      <td>14</td>\n",
       "      <td>8</td>\n",
       "      <td>4</td>\n",
       "      <td>6</td>\n",
       "      <td>0</td>\n",
       "      <td>3</td>\n",
       "    </tr>\n",
       "    <tr>\n",
       "      <th>4</th>\n",
       "      <td>0.62</td>\n",
       "      <td>9</td>\n",
       "      <td>9</td>\n",
       "      <td>4</td>\n",
       "      <td>1</td>\n",
       "      <td>1</td>\n",
       "      <td>0</td>\n",
       "    </tr>\n",
       "    <tr>\n",
       "      <th>5</th>\n",
       "      <td>0.60</td>\n",
       "      <td>29</td>\n",
       "      <td>4</td>\n",
       "      <td>2</td>\n",
       "      <td>0</td>\n",
       "      <td>0</td>\n",
       "      <td>0</td>\n",
       "    </tr>\n",
       "    <tr>\n",
       "      <th>6</th>\n",
       "      <td>0.46</td>\n",
       "      <td>9</td>\n",
       "      <td>14</td>\n",
       "      <td>4</td>\n",
       "      <td>5</td>\n",
       "      <td>3</td>\n",
       "      <td>3</td>\n",
       "    </tr>\n",
       "    <tr>\n",
       "      <th>7</th>\n",
       "      <td>0.29</td>\n",
       "      <td>16</td>\n",
       "      <td>9</td>\n",
       "      <td>6</td>\n",
       "      <td>2</td>\n",
       "      <td>1</td>\n",
       "      <td>0</td>\n",
       "    </tr>\n",
       "    <tr>\n",
       "      <th>8</th>\n",
       "      <td>0.55</td>\n",
       "      <td>22</td>\n",
       "      <td>9</td>\n",
       "      <td>6</td>\n",
       "      <td>1</td>\n",
       "      <td>4</td>\n",
       "      <td>0</td>\n",
       "    </tr>\n",
       "    <tr>\n",
       "      <th>9</th>\n",
       "      <td>0.27</td>\n",
       "      <td>6</td>\n",
       "      <td>18</td>\n",
       "      <td>3</td>\n",
       "      <td>6</td>\n",
       "      <td>0</td>\n",
       "      <td>2</td>\n",
       "    </tr>\n",
       "  </tbody>\n",
       "</table>\n",
       "</div>"
      ],
      "text/plain": [
       "     Ph  Sh  Sa  Th  Ta  Gh  Ga\n",
       "0  0.70  27   6  10   3   4   3\n",
       "1  0.22   6  14   2   4   0   2\n",
       "2  0.62  19  10   6   5   2   3\n",
       "3  0.57  14   8   4   6   0   3\n",
       "4  0.62   9   9   4   1   1   0\n",
       "5  0.60  29   4   2   0   0   0\n",
       "6  0.46   9  14   4   5   3   3\n",
       "7  0.29  16   9   6   2   1   0\n",
       "8  0.55  22   9   6   1   4   0\n",
       "9  0.27   6  18   3   6   0   2"
      ]
     },
     "execution_count": 55,
     "metadata": {},
     "output_type": "execute_result"
    }
   ],
   "source": [
    "data = {\n",
    "    \"Ph\": [0.7, 0.22, 0.62, 0.57,0.62, 0.6,0.46, 0.29, 0.55, 0.27],\n",
    "    \"Sh\": [27, 6, 19, 14,9, 29,9, 16, 22,6],\n",
    "    \"Sa\": [6, 14, 10, 8,9, 4,14, 9, 9, 18],\n",
    "    \"Th\": [10, 2, 6, 4,4, 2,4,6, 6, 3],\n",
    "    \"Ta\": [3, 4, 5, 6, 1,0,5,2,1,6],\n",
    "    \"Gh\": [4, 0, 2, 0, 1, 0, 3, 1, 4, 0],\n",
    "    \"Ga\": [3, 2, 3, 3,0,0,3,0,0, 2]\n",
    "}\n",
    "\n",
    "# Create a DataFrame from the dictionary\n",
    "df = pd.DataFrame(data)\n",
    "df"
   ]
  },
  {
   "cell_type": "code",
   "execution_count": 57,
   "id": "f7d8f083",
   "metadata": {},
   "outputs": [
    {
     "name": "stdout",
     "output_type": "stream",
     "text": [
      "                            OLS Regression Results                            \n",
      "==============================================================================\n",
      "Dep. Variable:                     Ph   R-squared:                       0.730\n",
      "Model:                            OLS   Adj. R-squared:                  0.189\n",
      "Method:                 Least Squares   F-statistic:                     1.349\n",
      "Date:                Fri, 19 Apr 2024   Prob (F-statistic):              0.435\n",
      "Time:                        00:07:25   Log-Likelihood:                 10.557\n",
      "No. Observations:                  10   AIC:                            -7.113\n",
      "Df Residuals:                       3   BIC:                            -4.995\n",
      "Df Model:                           6                                         \n",
      "Covariance Type:            nonrobust                                         \n",
      "==============================================================================\n",
      "                 coef    std err          t      P>|t|      [0.025      0.975]\n",
      "------------------------------------------------------------------------------\n",
      "Intercept      0.8945      0.449      1.993      0.140      -0.534       2.323\n",
      "Sh            -0.0035      0.013     -0.269      0.805      -0.044       0.037\n",
      "Sa            -0.0425      0.032     -1.341      0.272      -0.143       0.058\n",
      "Th            -0.0187      0.041     -0.459      0.677      -0.148       0.111\n",
      "Ta             0.0130      0.087      0.149      0.891      -0.264       0.290\n",
      "Gh             0.0562      0.065      0.866      0.450      -0.150       0.262\n",
      "Ga             0.0251      0.106      0.236      0.829      -0.313       0.363\n",
      "==============================================================================\n",
      "Omnibus:                        0.026   Durbin-Watson:                   2.033\n",
      "Prob(Omnibus):                  0.987   Jarque-Bera (JB):                0.252\n",
      "Skew:                          -0.043   Prob(JB):                        0.882\n",
      "Kurtosis:                       2.227   Cond. No.                         189.\n",
      "==============================================================================\n",
      "\n",
      "Notes:\n",
      "[1] Standard Errors assume that the covariance matrix of the errors is correctly specified.\n"
     ]
    },
    {
     "name": "stderr",
     "output_type": "stream",
     "text": [
      "C:\\Users\\kings\\anaconda3\\Lib\\site-packages\\scipy\\stats\\_stats_py.py:1736: UserWarning: kurtosistest only valid for n>=20 ... continuing anyway, n=10\n",
      "  warnings.warn(\"kurtosistest only valid for n>=20 ... continuing \"\n"
     ]
    }
   ],
   "source": [
    "model = ols('Ph ~ Sh+Sa+Th+Ta+Gh+Ga', data=df).fit()\n",
    "print(model.summary())"
   ]
  },
  {
   "cell_type": "code",
   "execution_count": 58,
   "id": "ff5f5ae7",
   "metadata": {},
   "outputs": [
    {
     "data": {
      "text/plain": [
       "2.0327130037562475"
      ]
     },
     "execution_count": 58,
     "metadata": {},
     "output_type": "execute_result"
    }
   ],
   "source": [
    "durbin_watson(model.resid)"
   ]
  },
  {
   "cell_type": "markdown",
   "id": "5eaeec2a",
   "metadata": {},
   "source": [
    "The Durbin-Watson test statistic ranges from 0 to 4. A value of 2 means that there is no autocorrelation in the sample. Values from 0 to less than 2 indicate positive autocorrelation and values from more than 2 to 4 indicate negative autocorrelation.\n",
    "\n"
   ]
  },
  {
   "cell_type": "markdown",
   "id": "ff4ffb24",
   "metadata": {},
   "source": [
    "## Q3"
   ]
  },
  {
   "cell_type": "code",
   "execution_count": 9,
   "id": "4e3f5776",
   "metadata": {},
   "outputs": [],
   "source": [
    "from statsmodels.tsa.stattools import acf, pacf\n",
    "from statsmodels.tsa.arima.model import ARIMA\n",
    "\n",
    "from sklearn.linear_model import LinearRegression\n",
    "from statsmodels.graphics.tsaplots import plot_acf"
   ]
  },
  {
   "cell_type": "code",
   "execution_count": 3,
   "id": "7b5a1276",
   "metadata": {},
   "outputs": [
    {
     "data": {
      "text/html": [
       "<div>\n",
       "<style scoped>\n",
       "    .dataframe tbody tr th:only-of-type {\n",
       "        vertical-align: middle;\n",
       "    }\n",
       "\n",
       "    .dataframe tbody tr th {\n",
       "        vertical-align: top;\n",
       "    }\n",
       "\n",
       "    .dataframe thead th {\n",
       "        text-align: right;\n",
       "    }\n",
       "</style>\n",
       "<table border=\"1\" class=\"dataframe\">\n",
       "  <thead>\n",
       "    <tr style=\"text-align: right;\">\n",
       "      <th></th>\n",
       "      <th>Date</th>\n",
       "      <th>Open</th>\n",
       "      <th>High</th>\n",
       "      <th>Low</th>\n",
       "      <th>Close</th>\n",
       "      <th>Volume</th>\n",
       "    </tr>\n",
       "  </thead>\n",
       "  <tbody>\n",
       "    <tr>\n",
       "      <th>0</th>\n",
       "      <td>2015-01-04 16:00:00</td>\n",
       "      <td>40.60</td>\n",
       "      <td>40.76</td>\n",
       "      <td>40.31</td>\n",
       "      <td>40.72</td>\n",
       "      <td>36865322</td>\n",
       "    </tr>\n",
       "    <tr>\n",
       "      <th>1</th>\n",
       "      <td>2015-02-04 16:00:00</td>\n",
       "      <td>40.66</td>\n",
       "      <td>40.74</td>\n",
       "      <td>40.12</td>\n",
       "      <td>40.29</td>\n",
       "      <td>37487476</td>\n",
       "    </tr>\n",
       "    <tr>\n",
       "      <th>2</th>\n",
       "      <td>2015-06-04 16:00:00</td>\n",
       "      <td>40.34</td>\n",
       "      <td>41.78</td>\n",
       "      <td>40.18</td>\n",
       "      <td>41.55</td>\n",
       "      <td>39223692</td>\n",
       "    </tr>\n",
       "    <tr>\n",
       "      <th>3</th>\n",
       "      <td>2015-07-04 16:00:00</td>\n",
       "      <td>41.61</td>\n",
       "      <td>41.91</td>\n",
       "      <td>41.31</td>\n",
       "      <td>41.53</td>\n",
       "      <td>28809375</td>\n",
       "    </tr>\n",
       "    <tr>\n",
       "      <th>4</th>\n",
       "      <td>2015-08-04 16:00:00</td>\n",
       "      <td>41.48</td>\n",
       "      <td>41.69</td>\n",
       "      <td>41.04</td>\n",
       "      <td>41.42</td>\n",
       "      <td>24753438</td>\n",
       "    </tr>\n",
       "    <tr>\n",
       "      <th>...</th>\n",
       "      <td>...</td>\n",
       "      <td>...</td>\n",
       "      <td>...</td>\n",
       "      <td>...</td>\n",
       "      <td>...</td>\n",
       "      <td>...</td>\n",
       "    </tr>\n",
       "    <tr>\n",
       "      <th>1506</th>\n",
       "      <td>3/25/2021 16:00:00</td>\n",
       "      <td>235.30</td>\n",
       "      <td>236.94</td>\n",
       "      <td>231.57</td>\n",
       "      <td>232.34</td>\n",
       "      <td>34061853</td>\n",
       "    </tr>\n",
       "    <tr>\n",
       "      <th>1507</th>\n",
       "      <td>3/26/2021 16:00:00</td>\n",
       "      <td>231.55</td>\n",
       "      <td>236.71</td>\n",
       "      <td>231.55</td>\n",
       "      <td>236.48</td>\n",
       "      <td>25479853</td>\n",
       "    </tr>\n",
       "    <tr>\n",
       "      <th>1508</th>\n",
       "      <td>3/29/2021 16:00:00</td>\n",
       "      <td>236.59</td>\n",
       "      <td>236.80</td>\n",
       "      <td>231.88</td>\n",
       "      <td>235.24</td>\n",
       "      <td>25227455</td>\n",
       "    </tr>\n",
       "    <tr>\n",
       "      <th>1509</th>\n",
       "      <td>3/30/2021 16:00:00</td>\n",
       "      <td>233.53</td>\n",
       "      <td>233.85</td>\n",
       "      <td>231.10</td>\n",
       "      <td>231.85</td>\n",
       "      <td>24792012</td>\n",
       "    </tr>\n",
       "    <tr>\n",
       "      <th>1510</th>\n",
       "      <td>3/31/2021 16:00:00</td>\n",
       "      <td>232.91</td>\n",
       "      <td>239.10</td>\n",
       "      <td>232.39</td>\n",
       "      <td>235.77</td>\n",
       "      <td>43623471</td>\n",
       "    </tr>\n",
       "  </tbody>\n",
       "</table>\n",
       "<p>1511 rows × 6 columns</p>\n",
       "</div>"
      ],
      "text/plain": [
       "                     Date    Open    High     Low   Close    Volume\n",
       "0     2015-01-04 16:00:00   40.60   40.76   40.31   40.72  36865322\n",
       "1     2015-02-04 16:00:00   40.66   40.74   40.12   40.29  37487476\n",
       "2     2015-06-04 16:00:00   40.34   41.78   40.18   41.55  39223692\n",
       "3     2015-07-04 16:00:00   41.61   41.91   41.31   41.53  28809375\n",
       "4     2015-08-04 16:00:00   41.48   41.69   41.04   41.42  24753438\n",
       "...                   ...     ...     ...     ...     ...       ...\n",
       "1506   3/25/2021 16:00:00  235.30  236.94  231.57  232.34  34061853\n",
       "1507   3/26/2021 16:00:00  231.55  236.71  231.55  236.48  25479853\n",
       "1508   3/29/2021 16:00:00  236.59  236.80  231.88  235.24  25227455\n",
       "1509   3/30/2021 16:00:00  233.53  233.85  231.10  231.85  24792012\n",
       "1510   3/31/2021 16:00:00  232.91  239.10  232.39  235.77  43623471\n",
       "\n",
       "[1511 rows x 6 columns]"
      ]
     },
     "execution_count": 3,
     "metadata": {},
     "output_type": "execute_result"
    }
   ],
   "source": [
    "data= pd.read_excel('Stock_Market_data.xlsx')\n",
    "data"
   ]
  },
  {
   "cell_type": "code",
   "execution_count": 4,
   "id": "1c87764f",
   "metadata": {},
   "outputs": [
    {
     "data": {
      "text/plain": [
       "0     40.60\n",
       "1     40.66\n",
       "2     40.34\n",
       "3     41.61\n",
       "4     41.48\n",
       "      ...  \n",
       "95    46.81\n",
       "96    46.84\n",
       "97    46.78\n",
       "98    46.07\n",
       "99    45.30\n",
       "Name: Open, Length: 100, dtype: float64"
      ]
     },
     "execution_count": 4,
     "metadata": {},
     "output_type": "execute_result"
    }
   ],
   "source": [
    "open_data= data['Open'][:100]\n",
    "open_data"
   ]
  },
  {
   "cell_type": "markdown",
   "id": "fa773996",
   "metadata": {},
   "source": [
    "##### Autocorrelation Function (ACF)"
   ]
  },
  {
   "cell_type": "code",
   "execution_count": 5,
   "id": "f389e942",
   "metadata": {},
   "outputs": [
    {
     "data": {
      "text/plain": [
       "<Figure size 1200x400 with 0 Axes>"
      ]
     },
     "metadata": {},
     "output_type": "display_data"
    },
    {
     "data": {
      "image/png": "[encoded data removed]",
      "text/plain": [
       "<Figure size 640x480 with 1 Axes>"
      ]
     },
     "metadata": {},
     "output_type": "display_data"
    }
   ],
   "source": [
    "plt.figure(figsize=(12, 4))\n",
    "plot_acf(open_data, lags=40, title='Autocorrelation Function (ACF)')\n",
    "plt.show()"
   ]
  },
  {
   "cell_type": "markdown",
   "id": "5f899cfc",
   "metadata": {},
   "source": [
    "###### Autoregressive"
   ]
  },
  {
   "cell_type": "code",
   "execution_count": 14,
   "id": "1f85b122",
   "metadata": {},
   "outputs": [
    {
     "name": "stdout",
     "output_type": "stream",
     "text": [
      "                               SARIMAX Results                                \n",
      "==============================================================================\n",
      "Dep. Variable:                   Open   No. Observations:                  100\n",
      "Model:                 ARIMA(1, 1, 1)   Log Likelihood                 -93.602\n",
      "Date:                Fri, 19 Apr 2024   AIC                            193.205\n",
      "Time:                        00:56:36   BIC                            200.990\n",
      "Sample:                             0   HQIC                           196.355\n",
      "                                - 100                                         \n",
      "Covariance Type:                  opg                                         \n",
      "==============================================================================\n",
      "                 coef    std err          z      P>|z|      [0.025      0.975]\n",
      "------------------------------------------------------------------------------\n",
      "ar.L1         -0.7219      0.160     -4.516      0.000      -1.035      -0.409\n",
      "ma.L1          0.8900      0.127      7.031      0.000       0.642       1.138\n",
      "sigma2         0.3869      0.041      9.445      0.000       0.307       0.467\n",
      "===================================================================================\n",
      "Ljung-Box (L1) (Q):                   0.39   Jarque-Bera (JB):                31.68\n",
      "Prob(Q):                              0.53   Prob(JB):                         0.00\n",
      "Heteroskedasticity (H):               0.49   Skew:                             0.85\n",
      "Prob(H) (two-sided):                  0.05   Kurtosis:                         5.19\n",
      "===================================================================================\n",
      "\n",
      "Warnings:\n",
      "[1] Covariance matrix calculated using the outer product of gradients (complex-step).\n"
     ]
    },
    {
     "name": "stderr",
     "output_type": "stream",
     "text": [
      "C:\\Users\\kings\\anaconda3\\Lib\\site-packages\\statsmodels\\tsa\\statespace\\sarimax.py:966: UserWarning: Non-stationary starting autoregressive parameters found. Using zeros as starting parameters.\n",
      "  warn('Non-stationary starting autoregressive parameters'\n",
      "C:\\Users\\kings\\anaconda3\\Lib\\site-packages\\statsmodels\\tsa\\statespace\\sarimax.py:978: UserWarning: Non-invertible starting MA parameters found. Using zeros as starting parameters.\n",
      "  warn('Non-invertible starting MA parameters found.'\n"
     ]
    }
   ],
   "source": [
    "# Autoregressive modeling\n",
    "model = ARIMA(open_data,order=(1, 1, 1))\n",
    "model_fit = model.fit()\n",
    "print(model_fit.summary())"
   ]
  },
  {
   "cell_type": "code",
   "execution_count": 42,
   "id": "6e02442e",
   "metadata": {},
   "outputs": [
    {
     "name": "stdout",
     "output_type": "stream",
     "text": [
      "                   Date   Open   High    Low  Close    Volume\n",
      "0   2015-01-04 16:00:00  40.60  40.76  40.31  40.72  36865322\n",
      "1   2015-02-04 16:00:00  40.66  40.74  40.12  40.29  37487476\n",
      "2   2015-06-04 16:00:00  40.34  41.78  40.18  41.55  39223692\n",
      "3   2015-07-04 16:00:00  41.61  41.91  41.31  41.53  28809375\n",
      "4   2015-08-04 16:00:00  41.48  41.69  41.04  41.42  24753438\n",
      "..                  ...    ...    ...    ...    ...       ...\n",
      "95   8/17/2015 16:00:00  46.81  47.45  46.57  47.32  21099746\n",
      "96   8/18/2015 16:00:00  46.84  47.43  46.70  47.27  23574104\n",
      "97   8/19/2015 16:00:00  46.78  47.08  46.30  46.61  31485511\n",
      "98   8/20/2015 16:00:00  46.07  46.47  45.66  45.66  36238227\n",
      "99   8/21/2015 16:00:00  45.30  45.48  43.07  43.07  70053084\n",
      "\n",
      "[100 rows x 6 columns]\n"
     ]
    }
   ],
   "source": [
    "sample = data[:100]\n",
    "print(sample)"
   ]
  },
  {
   "cell_type": "markdown",
   "id": "431dd1cd",
   "metadata": {},
   "source": [
    "##### Fitting of non linear regression models "
   ]
  },
  {
   "cell_type": "code",
   "execution_count": 44,
   "id": "03377560",
   "metadata": {},
   "outputs": [],
   "source": [
    "from scipy.optimize import curve_fit"
   ]
  },
  {
   "cell_type": "code",
   "execution_count": 48,
   "id": "692bbf46",
   "metadata": {},
   "outputs": [
    {
     "data": {
      "text/plain": [
       "<Axes: >"
      ]
     },
     "execution_count": 48,
     "metadata": {},
     "output_type": "execute_result"
    },
    {
     "data": {
      "image/png": "[encoded data removed]",
      "text/plain": [
       "<Figure size 640x480 with 1 Axes>"
      ]
     },
     "metadata": {},
     "output_type": "display_data"
    }
   ],
   "source": [
    "sample['Open'].plot()"
   ]
  },
  {
   "cell_type": "code",
   "execution_count": 46,
   "id": "0ef2dc13",
   "metadata": {},
   "outputs": [
    {
     "data": {
      "image/png": "[encoded data removed]",
      "text/plain": [
       "<Figure size 640x480 with 1 Axes>"
      ]
     },
     "metadata": {},
     "output_type": "display_data"
    }
   ],
   "source": [
    "# Define the cubic function\n",
    "def cubic_func(x, a, b, c, d):\n",
    "    return a * x**3 + b * x**2 + c * x + d\n",
    "\n",
    "# Fit the cubic function to the data\n",
    "popt, pcov = curve_fit(cubic_func, sample.index, sample['Open'])\n",
    "\n",
    "# Generate x values for the fitted function\n",
    "x_data = np.linspace(0, len(sample.index), 1000)\n",
    "\n",
    "# Generate y values for the fitted function\n",
    "y_data = cubic_func(x_data, *popt)\n",
    "\n",
    "# Plot the original data\n",
    "plt.scatter(sample.index, sample['Open'], label='Original data')\n",
    "\n",
    "# Plot the fitted function\n",
    "plt.plot(x_data, y_data, 'r', label='Fitted function')\n",
    "\n",
    "# Add labels and legend\n",
    "plt.xlabel('Date')\n",
    "plt.ylabel('Open')\n",
    "plt.legend()\n",
    "\n",
    "# Show the plot\n",
    "plt.show()\n"
   ]
  }
 ],
 "metadata": {
  "kernelspec": {
   "display_name": "Python 3 (ipykernel)",
   "language": "python",
   "name": "python3"
  },
  "language_info": {
   "codemirror_mode": {
    "name": "ipython",
    "version": 3
   },
   "file_extension": ".py",
   "mimetype": "text/x-python",
   "name": "python",
   "nbconvert_exporter": "python",
   "pygments_lexer": "ipython3",
   "version": "3.11.4"
  }
 },
 "nbformat": 4,
 "nbformat_minor": 5
}
