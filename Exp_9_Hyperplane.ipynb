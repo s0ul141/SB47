{
 "cells": [
  {
   "cell_type": "code",
   "execution_count": 8,
   "id": "7f22b075",
   "metadata": {},
   "outputs": [],
   "source": [
    "import numpy as np"
   ]
  },
  {
   "cell_type": "code",
   "execution_count": 9,
   "id": "8f253284",
   "metadata": {},
   "outputs": [],
   "source": [
    "def svm(*classes):\n",
    "    y = [instance +[1] for class_instances in classes for instance in class_instances]\n",
    "    x = [-1 if instance in classes[0] else 1 for class_instances in classes for instance in class_instances]\n",
    "    \n",
    "    eq= (np.array(y))\n",
    "    m = np.dot(eq,eq.T)\n",
    "    alpha = np.linalg.inv(m)@x\n",
    "    w = sum([np.dot(alpha[i], y[i]) for i in range (len(y))])\n",
    "    return w"
   ]
  },
  {
   "cell_type": "code",
   "execution_count": 13,
   "id": "dd24a446",
   "metadata": {},
   "outputs": [
    {
     "name": "stdout",
     "output_type": "stream",
     "text": [
      "(1.0*x1) + (0.0*x2) + (-2.0*x3) =0\n"
     ]
    }
   ],
   "source": [
    "w = svm([[1,0]], [[3,1], [3, -1]])\n",
    "print(\" + \".join([f\"({w[i]}*x{i+1})\" for i in range (len(w)-1)])+ f\" + ({w[-1]}*x{len(w)}) =0\")"
   ]
  },
  {
   "cell_type": "code",
   "execution_count": 14,
   "id": "35955b75",
   "metadata": {},
   "outputs": [
    {
     "name": "stdout",
     "output_type": "stream",
     "text": [
      "(1.0000000000000009*x1) + (1.0000000000000009*x2) + (-3.000000000000001*x3) =0\n"
     ]
    }
   ],
   "source": [
    "w = svm([[1,1]], [[2,2]])\n",
    "print(\" + \".join([f\"({w[i]}*x{i+1})\" for i in range (len(w)-1)])+ f\" + ({w[-1]}*x{len(w)}) =0\")"
   ]
  }
 ],
 "metadata": {
  "kernelspec": {
   "display_name": "Python 3 (ipykernel)",
   "language": "python",
   "name": "python3"
  },
  "language_info": {
   "codemirror_mode": {
    "name": "ipython",
    "version": 3
   },
   "file_extension": ".py",
   "mimetype": "text/x-python",
   "name": "python",
   "nbconvert_exporter": "python",
   "pygments_lexer": "ipython3",
   "version": "3.11.4"
  }
 },
 "nbformat": 4,
 "nbformat_minor": 5
}
